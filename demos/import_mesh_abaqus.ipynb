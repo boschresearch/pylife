{
 "cells": [
  {
   "cell_type": "markdown",
   "id": "f34c57ba",
   "metadata": {},
   "source": [
    "# How to import Abaqus meshes"
   ]
  },
  {
   "cell_type": "markdown",
   "id": "69a1ef90",
   "metadata": {},
   "source": [
    "This notebook demonstrates how to import simulation results from Abaqus in pylife, e.g., to be used for a FKM nonlinear assessment.\n",
    "\n",
    "For this notebook to run, you need an installation of Abaqus and you have to install the odbclient and odb-server.\n",
    "Please refer to https://pylife.readthedocs.io/en/latest/tools/odbclient/"
   ]
  },
  {
   "cell_type": "code",
   "execution_count": null,
   "id": "8cea5411",
   "metadata": {},
   "outputs": [],
   "source": [
    "import odbclient as CL\n",
    "import numpy as np\n",
    "import timeit\n",
    "\n",
    "# pylife\n",
    "import pylife\n",
    "import pylife.vmap\n",
    "import pylife.stress.equistress\n",
    "import pylife.mesh.gradient"
   ]
  },
  {
   "cell_type": "code",
   "execution_count": null,
   "id": "658934c7",
   "metadata": {},
   "outputs": [],
   "source": [
    "### kt2-specimen, simplex mesh, 973490 nodes\n",
    "\n",
    "## Select the location where Abaqus is installed\n",
    "# The example file needs Abaqus 2020\n",
    "\n",
    "#abaqus_bin = r\"C:\\Program Files\\SIMULIA\\2019\\AbaqusCAE\\win_b64\\code\\bin\\ABQLauncher.exe\"\n",
    "abaqus_bin = r\"C:\\Program Files\\SIMULIA\\2020\\EstProducts\\win_b64\\code\\bin\\ABQLauncher.exe\"\n",
    "#abaqus_bin = r\"C:\\Program Files\\SIMULIA\\2021\\EstProducts\\win_b64\\code\\bin\\ABQLauncher.exe\"\n",
    "\n",
    "# load the mesh file\n",
    "filename = 'data/kt1.odb'\n",
    "client = CL.OdbClient(filename, abaqus_bin=abaqus_bin)\n",
    "\n",
    "# Select and print the available instances, steps and frame_ids\n",
    "instance = 'KT2-1'\n",
    "instance = 'KT1-1'\n",
    "step = 'Step-1'\n",
    "increment = 1\n",
    "\n",
    "print(f\"instances: {client.instance_names()}\")\n",
    "print(f\"steps: {client.step_names()}\")\n",
    "print(f\"frames: {client.frame_ids(step)}\")\n",
    "\n",
    "variable_names = client.variable_names(step, increment)\n",
    "print(f\"variable names: {variable_names}\")\n",
    "\n",
    "# get the node coordinates\n",
    "coordinates = client.node_coordinates(instance)\n",
    "\n",
    "# select the stress variable\n",
    "pylife_mesh = client.variable('S', instance, step, increment)\n",
    "\n",
    "# calculate the Mises equistress\n",
    "pylife_mesh['mises'] = pylife_mesh.equistress.mises()\n",
    "\n",
    "# add the node coordinates and organize the dataframe multi-index\n",
    "pylife_mesh = coordinates.join(pylife_mesh)\n",
    "pylife_mesh = pylife_mesh.reorder_levels([\"element_id\", \"node_id\"])\n"
   ]
  },
  {
   "cell_type": "code",
   "execution_count": null,
   "id": "4554f349",
   "metadata": {},
   "outputs": [],
   "source": [
    "# Calculate the stress gradient (method 1)\n",
    "tstart = timeit.default_timer()\n",
    "grad = pylife_mesh.gradient.gradient_of('mises')\n",
    "tend = timeit.default_timer()\n",
    "print(f\"duration calculate stress gradient: {tend-tstart:.1f} s\")\n",
    "\n",
    "grad[\"abs_grad\"] = np.linalg.norm(grad, axis=1)"
   ]
  },
  {
   "cell_type": "code",
   "execution_count": null,
   "id": "62df80f8",
   "metadata": {},
   "outputs": [],
   "source": [
    "# Calculate the stress gradient (method 2)\n",
    "tstart = timeit.default_timer()\n",
    "grad1 = pylife_mesh.gradient_3D.gradient_of('mises')\n",
    "tend = timeit.default_timer()\n",
    "print(f\"duration calculate stress gradient: {tend-tstart:.1f} s\")\n",
    "\n",
    "grad1[\"abs_grad\"] = np.linalg.norm(grad1, axis=1)\n",
    "pylife_mesh = pylife_mesh.join(grad1, sort=False)"
   ]
  },
  {
   "cell_type": "markdown",
   "id": "30606042",
   "metadata": {},
   "source": [
    "Now we have successfully imported a finite element mesh from an Abaqus simulation and calculated the Mises stress and the stress gradient."
   ]
  },
  {
   "cell_type": "code",
   "execution_count": null,
   "id": "77e3afa7",
   "metadata": {},
   "outputs": [],
   "source": [
    "pylife_mesh"
   ]
  },
  {
   "cell_type": "markdown",
   "id": "ff3ea16d",
   "metadata": {},
   "source": [
    "We can count the number of nodes for every element. This gives a hint about the element type.\n",
    "* abaqus triangular: 10 nodes per element\n",
    "* abaqus hex: 8 nodes per element\n",
    "* (ansys hex: 20 nodes per element)"
   ]
  },
  {
   "cell_type": "code",
   "execution_count": null,
   "id": "1ebf2d51",
   "metadata": {},
   "outputs": [],
   "source": [
    "pylife_mesh.groupby(\"element_id\")[pylife_mesh.columns[0]].count()"
   ]
  },
  {
   "cell_type": "markdown",
   "id": "335e8399",
   "metadata": {},
   "source": [
    "We can also filter the mesh or extract a single element, e.g., element ID 1:"
   ]
  },
  {
   "cell_type": "code",
   "execution_count": null,
   "id": "11e1cfa5",
   "metadata": {},
   "outputs": [],
   "source": [
    "pylife_mesh[pylife_mesh.index.get_level_values(\"element_id\")==1]\n"
   ]
  },
  {
   "cell_type": "markdown",
   "id": "4869c686",
   "metadata": {},
   "source": [
    "Next, we plot the mesh using the pyvista package. The coloring corresponds to the absolute Mises stress."
   ]
  },
  {
   "cell_type": "code",
   "execution_count": null,
   "id": "33791bbb",
   "metadata": {},
   "outputs": [],
   "source": [
    "import pyvista as pv\n",
    "grid = pv.UnstructuredGrid(*pylife_mesh.mesh.vtk_data())\n",
    "plotter = pv.Plotter(window_size=[1920, 1080])\n",
    "plotter.add_mesh(grid, scalars=pylife_mesh.groupby('element_id')['mises'].mean().to_numpy(),\n",
    "                show_edges=True, cmap='jet')\n",
    "plotter.add_scalar_bar()\n",
    "plotter.show()"
   ]
  }
 ],
 "metadata": {
  "kernelspec": {
   "display_name": "Python 3.9.0 64-bit",
   "language": "python",
   "name": "python3"
  },
  "language_info": {
   "codemirror_mode": {
    "name": "ipython",
    "version": 3
   },
   "file_extension": ".py",
   "mimetype": "text/x-python",
   "name": "python",
   "nbconvert_exporter": "python",
   "pygments_lexer": "ipython3",
   "version": "3.9.0"
  },
  "vscode": {
   "interpreter": {
    "hash": "791b1cef4b2988ef2e6c991e5c1b67abac4914ef58f40e04494fa800ef4e03d9"
   }
  }
 },
 "nbformat": 4,
 "nbformat_minor": 5
}
