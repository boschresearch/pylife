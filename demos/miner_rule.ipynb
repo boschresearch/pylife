{
 "cells": [
  {
   "cell_type": "markdown",
   "metadata": {
    "ein.tags": "worksheet-0",
    "slideshow": {
     "slide_type": "slide"
    }
   },
   "source": [
    "# Miner rule\n"
   ]
  },
  {
   "cell_type": "code",
   "execution_count": null,
   "metadata": {},
   "outputs": [],
   "source": [
    "from pylife import *"
   ]
  },
  {
   "cell_type": "code",
   "execution_count": null,
   "metadata": {},
   "outputs": [],
   "source": [
    "from pylife.stress.rainflow import *\n",
    "import pylife.strength.meanstress\n",
    "from pylife.stress.timesignal import TimeSignalGenerator\n",
    "from pylife.strength import miner\n",
    "from pylife.strength.miner import MinerElementar, MinerHaibach\n",
    "\n",
    "import numpy as np\n",
    "import pandas as pd"
   ]
  },
  {
   "cell_type": "code",
   "execution_count": null,
   "metadata": {},
   "outputs": [],
   "source": [
    "tsgen = TimeSignalGenerator(10, {'number': 50,\n",
    "                                 'amplitude_median': 1.0, 'amplitude_std_dev': 0.5,\n",
    "                                 'frequency_median': 4, 'frequency_std_dev': 3,\n",
    "                                 'offset_median': 0, 'offset_std_dev': 0.4},\n",
    "                            None, None)\n",
    "\n",
    "y = tsgen.query(2000000)\n",
    "\n",
    "rfc = RainflowCounterThreePoint().process(y)\n",
    "rfm = rfc.get_rainflow_matrix_frame(128)\n",
    "\n",
    "transformed = rfm.meanstress_hist.FKM_goodman(pd.Series({'M': 0.3, 'M2': 0.1}), R_goal=-1)\n",
    "\n",
    "print(transformed)"
   ]
  },
  {
   "cell_type": "code",
   "execution_count": null,
   "metadata": {},
   "outputs": [],
   "source": [
    "sn_curve_parameters = {\n",
    "    \"N_D\": 1E6,\n",
    "    \"k\": 6,\n",
    "    \"sigma_ak\": 200\n",
    "}"
   ]
  },
  {
   "cell_type": "code",
   "execution_count": null,
   "metadata": {},
   "outputs": [],
   "source": [
    "miner_elementar = MinerElementar(**sn_curve_parameters)"
   ]
  },
  {
   "cell_type": "code",
   "execution_count": null,
   "metadata": {},
   "outputs": [],
   "source": [
    "# sn-curve calculations can be performed using the sn_curve instance that is stored as attribute\n",
    "miner_elementar.sn_curve"
   ]
  },
  {
   "cell_type": "code",
   "execution_count": null,
   "metadata": {},
   "outputs": [],
   "source": [
    "miner_elementar.sn_curve.calc_N(200) == sn_curve_parameters[\"N_D\"]"
   ]
  },
  {
   "cell_type": "code",
   "execution_count": null,
   "metadata": {},
   "outputs": [],
   "source": [
    "# extrapolation beyond the application limits is possible but prohibited by default\n",
    "try:\n",
    "    miner_elementar.sn_curve.calc_S(10E6) == sn_curve_parameters[\"sigma_ak\"]\n",
    "except ValueError as e:\n",
    "    display(e)\n",
    "    miner_elementar.sn_curve.calc_S(10E6, ignore_limits=True) == sn_curve_parameters[\"sigma_ak\"]"
   ]
  },
  {
   "cell_type": "code",
   "execution_count": null,
   "metadata": {},
   "outputs": [],
   "source": [
    "miner_elementar.sn_curve.calc_S(1E6, ignore_limits=True) == sn_curve_parameters[\"sigma_ak\"]"
   ]
  },
  {
   "cell_type": "code",
   "execution_count": null,
   "metadata": {},
   "outputs": [],
   "source": [
    "miner_elementar.setup(transformed)"
   ]
  },
  {
   "cell_type": "code",
   "execution_count": null,
   "metadata": {},
   "outputs": [],
   "source": [
    "miner_elementar.V_FKM"
   ]
  },
  {
   "cell_type": "code",
   "execution_count": null,
   "metadata": {},
   "outputs": [],
   "source": [
    "miner_elementar.V_haibach"
   ]
  },
  {
   "cell_type": "code",
   "execution_count": null,
   "metadata": {},
   "outputs": [],
   "source": [
    "miner_elementar.V_haibach**(1 / miner_elementar.k)"
   ]
  },
  {
   "cell_type": "code",
   "execution_count": null,
   "metadata": {},
   "outputs": [],
   "source": [
    "miner_elementar.N_predict(load_level=200)"
   ]
  },
  {
   "cell_type": "code",
   "execution_count": null,
   "metadata": {},
   "outputs": [],
   "source": [
    "miner_elementar.N_predict(load_level=180)"
   ]
  },
  {
   "cell_type": "code",
   "execution_count": null,
   "metadata": {},
   "outputs": [],
   "source": []
  },
  {
   "cell_type": "code",
   "execution_count": null,
   "metadata": {},
   "outputs": [],
   "source": [
    "miner_haibach = MinerHaibach(**sn_curve_parameters)"
   ]
  },
  {
   "cell_type": "code",
   "execution_count": null,
   "metadata": {},
   "outputs": [],
   "source": [
    "miner_haibach.setup(transformed)"
   ]
  },
  {
   "cell_type": "code",
   "execution_count": null,
   "metadata": {},
   "outputs": [],
   "source": [
    "try:\n",
    "    miner_haibach.V_FKM\n",
    "except AttributeError:\n",
    "    print(\"The accumulated damage by Miner modified (Haibach) can not be \\n\"\n",
    "         \"expressed with the solidity. This parameter is estimated and stored \\n\"\n",
    "         \"only for Miner-elementary\")"
   ]
  },
  {
   "cell_type": "code",
   "execution_count": null,
   "metadata": {},
   "outputs": [],
   "source": [
    "miner_haibach.N_predict(load_level=200)"
   ]
  },
  {
   "cell_type": "code",
   "execution_count": null,
   "metadata": {},
   "outputs": [],
   "source": [
    "miner_haibach.N_predict(load_level=199.999)"
   ]
  },
  {
   "cell_type": "code",
   "execution_count": null,
   "metadata": {},
   "outputs": [],
   "source": [
    "miner_haibach.N_predict(load_level=180)"
   ]
  },
  {
   "cell_type": "code",
   "execution_count": null,
   "metadata": {},
   "outputs": [],
   "source": []
  }
 ],
 "metadata": {
  "kernelspec": {
   "display_name": "Python 3",
   "language": "python",
   "name": "python3"
  },
  "language_info": {
   "codemirror_mode": {
    "name": "ipython",
    "version": 3
   },
   "file_extension": ".py",
   "mimetype": "text/x-python",
   "name": "python",
   "nbconvert_exporter": "python",
   "pygments_lexer": "ipython3",
   "version": "3.7.4"
  },
  "name": "miner_rule.ipynb"
 },
 "nbformat": 4,
 "nbformat_minor": 2
}
