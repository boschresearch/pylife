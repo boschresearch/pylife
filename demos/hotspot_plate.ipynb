{
 "cells": [
  {
   "cell_type": "markdown",
   "metadata": {
    "ein.tags": "worksheet-0",
    "slideshow": {
     "slide_type": "-"
    }
   },
   "source": [
    "# Hotspot calculation demo\n"
   ]
  },
  {
   "cell_type": "code",
   "execution_count": null,
   "metadata": {},
   "outputs": [],
   "source": [
    "import numpy as np\n",
    "import pylife\n",
    "import pandas as pd\n",
    "import scipy.stats as stats\n",
    "import pylife.stress.equistress\n",
    "import pylife.strength.meanstress\n",
    "import pylife.mesh.meshplot\n",
    "import pylife.mesh.hotspot\n",
    "import matplotlib.pyplot as plt\n"
   ]
  },
  {
   "cell_type": "code",
   "execution_count": null,
   "metadata": {},
   "outputs": [],
   "source": [
    "filename = 'plate_with_hole.h5'\n",
    "fe_res = pd.read_hdf(filename, 'node_data')\n",
    "fe_res['S13'] = np.zeros_like(fe_res['S11'])\n",
    "fe_res['S23'] = np.zeros_like(fe_res['S11'])\n",
    "display(fe_res)"
   ]
  },
  {
   "cell_type": "markdown",
   "metadata": {},
   "source": [
    "## Equivalent stress calculation"
   ]
  },
  {
   "cell_type": "code",
   "execution_count": null,
   "metadata": {},
   "outputs": [],
   "source": [
    "fe_res[\"vM\"] = pylife.stress.equistress.mises(fe_res[\"S11\"],fe_res[\"S22\"],fe_res[\"S33\"],fe_res[\"S12\"],fe_res[\"S13\"],fe_res[\"S23\"])\n",
    "display(fe_res[\"vM\"].sort_values(ascending = False))"
   ]
  },
  {
   "cell_type": "markdown",
   "metadata": {},
   "source": [
    "## Hot spot Calculation ##"
   ]
  },
  {
   "cell_type": "code",
   "execution_count": null,
   "metadata": {},
   "outputs": [],
   "source": [
    "hotSpotFrac = .5 # factor of the maximum local value\n",
    "# maxStressLimit = 250# Absolut stress value to avoid calculation based on numerical stress speaks\n",
    "fe_res['hotspot'] = fe_res.hotspot.calc(\"vM\",hotSpotFrac)\n",
    "#fe_res = pd.concat([fe_res,hs],axis = 1)\n",
    "#display(fe_res)\n",
    "display(fe_res)"
   ]
  },
  {
   "cell_type": "code",
   "execution_count": null,
   "metadata": {},
   "outputs": [],
   "source": [
    "display(fe_res['hotspot'].max())"
   ]
  },
  {
   "cell_type": "code",
   "execution_count": null,
   "metadata": {},
   "outputs": [],
   "source": [
    "fig, ax = plt.subplots()\n",
    "fe_res.meshplot.plot(ax, 'hotspot', cmap='jet_r')\n",
    "plt.show()"
   ]
  }
 ],
 "metadata": {
  "kernelspec": {
   "display_name": "Python 3",
   "language": "python",
   "name": "python3"
  },
  "language_info": {
   "codemirror_mode": {
    "name": "ipython",
    "version": 3
   },
   "file_extension": ".py",
   "mimetype": "text/x-python",
   "name": "python",
   "nbconvert_exporter": "python",
   "pygments_lexer": "ipython3",
   "version": "3.7.4"
  }
 },
 "nbformat": 4,
 "nbformat_minor": 2
}
