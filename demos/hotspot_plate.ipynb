{
 "cells": [
  {
   "cell_type": "markdown",
   "metadata": {},
   "source": [
    "# Hotspot calculation demo\n"
   ]
  },
  {
   "cell_type": "markdown",
   "metadata": {},
   "source": [
    "This notebook detects and classifies hotspots of the von Mises stress in a connected FEM mesh. Each element/node entry of the mesh receives a number of the hotspot it is member of. \"0\" means the element/node is not part of any hotspots. \"1\" means that the element/node is part of the hotspot with the highes peak, \"2\" the same for the second highest peak and so forth.\n",
    "\n",
    "See [module documentation](https://pylife.readthedocs.io/en/latest/mesh/hotspot.html) further details."
   ]
  },
  {
   "cell_type": "code",
   "execution_count": null,
   "metadata": {},
   "outputs": [],
   "source": [
    "import numpy as np\n",
    "import pylife\n",
    "import pandas as pd\n",
    "import scipy.stats as stats\n",
    "import pylife.stress.equistress\n",
    "import pylife.strength.meanstress\n",
    "import pylife.mesh.meshsignal\n",
    "import pylife.mesh.hotspot\n",
    "import pylife.vmap\n",
    "\n",
    "import pyvista as pv\n",
    "\n",
    "pv.set_plot_theme('document')\n",
    "pv.set_jupyter_backend('panel')"
   ]
  },
  {
   "cell_type": "code",
   "execution_count": null,
   "metadata": {},
   "outputs": [],
   "source": [
    "vm_mesh = pylife.vmap.VMAPImport(\"plate_with_hole.vmap\")\n",
    "mesh = (vm_mesh.make_mesh('1', 'STATE-2')\n",
    "        .join_coordinates()\n",
    "        .join_variable('STRESS_CAUCHY')\n",
    "        .join_variable('DISPLACEMENT')\n",
    "        .to_frame())"
   ]
  },
  {
   "cell_type": "markdown",
   "metadata": {},
   "source": [
    "## Equivalent stress calculation"
   ]
  },
  {
   "cell_type": "code",
   "execution_count": null,
   "metadata": {},
   "outputs": [],
   "source": [
    "mesh['mises'] = mesh.equistress.mises()"
   ]
  },
  {
   "cell_type": "markdown",
   "metadata": {},
   "source": [
    "## Hot spot Calculation ##"
   ]
  },
  {
   "cell_type": "code",
   "execution_count": null,
   "metadata": {},
   "outputs": [],
   "source": [
    "threshold = .9 # factor of the maximum local value\n",
    "mesh['hotspot'] = mesh.hotspot.calc(\"mises\", threshold)\n",
    "display(mesh[['x', 'y', 'z', 'mises', 'hotspot']])"
   ]
  },
  {
   "cell_type": "code",
   "execution_count": null,
   "metadata": {},
   "outputs": [],
   "source": [
    "print(\"%d hotspots found over the threshold\" % mesh['hotspot'].max())"
   ]
  },
  {
   "cell_type": "code",
   "execution_count": null,
   "metadata": {},
   "outputs": [],
   "source": [
    "grid = pv.UnstructuredGrid(*mesh.mesh.vtk_data())\n",
    "plotter = pv.Plotter(window_size=[1920, 1080])\n",
    "plotter.add_mesh(grid, scalars=mesh.groupby('element_id')['hotspot'].first().to_numpy(),\n",
    "                show_edges=True, cmap='prism_r')\n",
    "plotter.add_scalar_bar()\n",
    "plotter.show()"
   ]
  },
  {
   "cell_type": "markdown",
   "metadata": {},
   "source": [
    "### First hotspot"
   ]
  },
  {
   "cell_type": "code",
   "execution_count": null,
   "metadata": {},
   "outputs": [],
   "source": [
    "first_hotspot = mesh[mesh['hotspot'] == 1]\n",
    "display(first_hotspot)"
   ]
  },
  {
   "cell_type": "code",
   "execution_count": null,
   "metadata": {},
   "outputs": [],
   "source": [
    "second_hotspot = mesh[mesh['hotspot'] == 2]\n",
    "display(second_hotspot)"
   ]
  },
  {
   "cell_type": "code",
   "execution_count": null,
   "metadata": {},
   "outputs": [],
   "source": []
  },
  {
   "cell_type": "code",
   "execution_count": null,
   "metadata": {},
   "outputs": [],
   "source": []
  }
 ],
 "metadata": {
  "kernelspec": {
   "display_name": "Python 3 (ipykernel)",
   "language": "python",
   "name": "python3"
  },
  "language_info": {
   "codemirror_mode": {
    "name": "ipython",
    "version": 3
   },
   "file_extension": ".py",
   "mimetype": "text/x-python",
   "name": "python",
   "nbconvert_exporter": "python",
   "pygments_lexer": "ipython3"
  }
 },
 "nbformat": 4,
 "nbformat_minor": 2
}
