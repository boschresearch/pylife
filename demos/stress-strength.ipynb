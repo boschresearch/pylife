{
 "cells": [
  {
   "cell_type": "markdown",
   "id": "a115c0aa",
   "metadata": {},
   "source": [
    "# The concept of stress and strength\n",
    "\n",
    "The fundamental principle of component lifetime and reliability design is to\n",
    "calculate the superposition of *stress* and *strength*.  Sometimes you would also\n",
    "say *load* and strength.  The basic assumption is that as soon as the stress\n",
    "exceeds the strength the component fails.  Usually stress and strength are\n",
    "statistically distributed.  In this tutorial we learn how to work with material\n",
    "data and material laws to model the strength and then calculate the damage\n",
    "using a given load.\n"
   ]
  },
  {
   "cell_type": "markdown",
   "id": "01dd923f",
   "metadata": {},
   "source": [
    "## Material laws\n",
    "\n",
    "The material load that is used to model the strength for component fatigue is\n",
    "the `pylife.materiallaws.WoehlerCurve` class.\n",
    "\n",
    "First we need to import`pandas` and the `WoehlerCurve` class.\n"
   ]
  },
  {
   "cell_type": "code",
   "execution_count": null,
   "id": "a8b41e43",
   "metadata": {},
   "outputs": [],
   "source": [
    "import pandas as pd\n",
    "import numpy as np\n",
    "from pylife.materiallaws import WoehlerCurve\n",
    "import matplotlib.pyplot as plt"
   ]
  },
  {
   "cell_type": "markdown",
   "id": "b6149727",
   "metadata": {},
   "source": [
    "The material data for a Wöhler curve is usually stored in a\n",
    "`pandas.Series`.  In the simplest form like this:"
   ]
  },
  {
   "cell_type": "code",
   "execution_count": null,
   "id": "79258cf8",
   "metadata": {},
   "outputs": [],
   "source": [
    "woehler_curve_data = pd.Series({\n",
    "   'SD': 300.0,\n",
    "   'ND': 1.5e6,\n",
    "   'k_1': 6.2\n",
    "})"
   ]
  },
  {
   "cell_type": "markdown",
   "id": "8c16bee6",
   "metadata": {},
   "source": [
    "Using the `WoehlerCurve` class can do operations on the data.  To instantiate the class we use the accessor attribute `woehler`. Then we can calculate the cycle number for a given load."
   ]
  },
  {
   "cell_type": "code",
   "execution_count": null,
   "id": "e14f0abd",
   "metadata": {},
   "outputs": [],
   "source": [
    "woehler_curve_data.woehler.cycles(350.0)"
   ]
  },
  {
   "cell_type": "code",
   "execution_count": null,
   "id": "23752c57",
   "metadata": {},
   "outputs": [],
   "source": [
    "cycles = np.logspace(1., 8., 70)\n",
    "load = woehler_curve_data.woehler.load(cycles)\n",
    "plt.plot(cycles, load)\n",
    "plt.loglog()\n",
    "plt.show()"
   ]
  },
  {
   "cell_type": "markdown",
   "id": "2d062bdc",
   "metadata": {},
   "source": [
    "This basically means that a material of the given Wöhler curve will fail after\n",
    "about 577k cycles when charged with a load of 350.  Note that we don't use any\n",
    "units here.  They just have to be consistent."
   ]
  },
  {
   "cell_type": "markdown",
   "id": "2aa06b4f",
   "metadata": {},
   "source": [
    "## Damage sums\n",
    "\n",
    "Usually we don't have a single load amplitude but a collective.  We can describe a collective using a python object that has an `amplitude` and a `cycle` attribute.  We can do that for example with a simple `pandas.DataFrame`:"
   ]
  },
  {
   "cell_type": "code",
   "execution_count": null,
   "id": "8337db46",
   "metadata": {},
   "outputs": [],
   "source": [
    "load_collective = pd.DataFrame({\n",
    "   'cycles': [2e5, 3e4, 5e3, 2e2, 7e1],\n",
    "   'amplitude': [374.0, 355.0, 340.0, 320.0, 290.0]\n",
    "})"
   ]
  },
  {
   "cell_type": "markdown",
   "id": "7d0a364b",
   "metadata": {},
   "source": [
    "Using the `pylife.strength.fatigue.damage` function we can calculate the damage of each block of the load collective.  Therefore we use the `fatigue` accessor to operate on the Wöhler data."
   ]
  },
  {
   "cell_type": "code",
   "execution_count": null,
   "id": "40fb8986",
   "metadata": {},
   "outputs": [],
   "source": [
    "from pylife.strength import fatigue\n",
    "woehler_curve_data.fatigue.damage(load_collective)"
   ]
  },
  {
   "cell_type": "markdown",
   "id": "a4b8aba3",
   "metadata": {},
   "source": [
    "Now we know the damage contribution of each block of the load collective.  Of course we can also easily calculate the damage sum by just summing up:"
   ]
  },
  {
   "cell_type": "code",
   "execution_count": null,
   "id": "703485e6",
   "metadata": {},
   "outputs": [],
   "source": [
    "woehler_curve_data.fatigue.damage(load_collective).sum()"
   ]
  },
  {
   "cell_type": "markdown",
   "id": "7517f6a6",
   "metadata": {},
   "source": [
    "## Broadcasting to a FEM mesh\n",
    "\n",
    "Oftentimes we want to map a load collective to a whole FEM mesh to map a load collective to every FEM node.  For those kinds of mappings pyLife provides the`pylife.Broadcaster` facility.\n",
    "\n",
    "In order to operate properly the ``Broadcaster`` needs to know the meanings of the rows of a ``pandas.Series`` or a ``pandas.DataFrame``.  For that it uses the index names.  Therefore we have to set the index names appropriately.\n"
   ]
  },
  {
   "cell_type": "code",
   "execution_count": null,
   "id": "d58f8966",
   "metadata": {},
   "outputs": [],
   "source": [
    "load_collective.index.name = 'load_block'"
   ]
  },
  {
   "cell_type": "markdown",
   "id": "9109b3b5",
   "metadata": {},
   "source": [
    "Then we setup simple node stress distribution and broadcast the load collective to it."
   ]
  },
  {
   "cell_type": "code",
   "execution_count": null,
   "id": "b9861fa9",
   "metadata": {},
   "outputs": [],
   "source": [
    "node_stress = pd.Series(\n",
    "    [1.0, 0.8, 1.3],\n",
    "    index=pd.Index([1, 2, 3], name='node_id')\n",
    ")\n",
    "\n",
    "from pylife import Broadcaster\n",
    "\n",
    "load_collective, node_stress = Broadcaster(node_stress).broadcast(load_collective)"
   ]
  },
  {
   "cell_type": "markdown",
   "id": "904e9e99",
   "metadata": {},
   "source": [
    "As you can see, the `Broadcaster` returns two objects.  The first is the object that has been broadcasted, in our case the load collective:"
   ]
  },
  {
   "cell_type": "code",
   "execution_count": null,
   "id": "653b5dfd",
   "metadata": {},
   "outputs": [],
   "source": [
    "load_collective"
   ]
  },
  {
   "cell_type": "markdown",
   "id": "647778a9",
   "metadata": {},
   "source": [
    "The second is the object that has been broadcasted to, in our case the node stress distribution."
   ]
  },
  {
   "cell_type": "code",
   "execution_count": null,
   "id": "be31a85c",
   "metadata": {},
   "outputs": [],
   "source": [
    "node_stress"
   ]
  },
  {
   "cell_type": "markdown",
   "id": "e6682d89",
   "metadata": {},
   "source": [
    "As you can see, both have the same index, which is a cross product of the indices of the two initial objects.  Now we can easily scale the load collective to the node stress distribution."
   ]
  },
  {
   "cell_type": "code",
   "execution_count": null,
   "id": "07e101da",
   "metadata": {},
   "outputs": [],
   "source": [
    "load_collective['amplitude'] *= node_stress\n",
    "load_collective"
   ]
  },
  {
   "cell_type": "markdown",
   "id": "cb4c4636",
   "metadata": {},
   "source": [
    "Now we have for each `load_block` for each `node_id` the corresponding amplitudes and cycle numbers.  Again we can use the `damage` function to calculate the damage contribution of each load block on each node."
   ]
  },
  {
   "cell_type": "code",
   "execution_count": null,
   "id": "f47054e1",
   "metadata": {},
   "outputs": [],
   "source": [
    "damage_contributions = woehler_curve_data.fatigue.damage(load_collective)\n",
    "damage_contributions"
   ]
  },
  {
   "cell_type": "markdown",
   "id": "e2b45655",
   "metadata": {},
   "source": [
    "In order to calculate the damage sum for each node, we have to group the damage contributions by the node and sum them up:"
   ]
  },
  {
   "cell_type": "code",
   "execution_count": null,
   "id": "65f1bf38",
   "metadata": {},
   "outputs": [],
   "source": [
    "damage_contributions.groupby('node_id').sum()"
   ]
  },
  {
   "cell_type": "markdown",
   "id": "bb068634",
   "metadata": {},
   "source": [
    "As you can see the damage sum for node 3 is higher than 1, which means that the stress exceeds the strength.  So we would expect failure at node 3."
   ]
  },
  {
   "cell_type": "code",
   "execution_count": null,
   "id": "8668ac31",
   "metadata": {},
   "outputs": [],
   "source": []
  }
 ],
 "metadata": {
  "kernelspec": {
   "display_name": "Python 3 (ipykernel)",
   "language": "python",
   "name": "python3"
  },
  "language_info": {
   "codemirror_mode": {
    "name": "ipython",
    "version": 3
   },
   "file_extension": ".py",
   "mimetype": "text/x-python",
   "name": "python",
   "nbconvert_exporter": "python",
   "pygments_lexer": "ipython3"
  }
 },
 "nbformat": 4,
 "nbformat_minor": 5
}
