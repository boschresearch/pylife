{
 "cells": [
  {
   "cell_type": "markdown",
   "metadata": {},
   "source": [
    "## PSD Optimizer ##\n",
    "Example for the derivation of an equivalent PSD signal for shaker testing or other purposes. See the docu of the pylife psd_smoother function in the psdSignal class for more details"
   ]
  },
  {
   "cell_type": "code",
   "execution_count": null,
   "metadata": {},
   "outputs": [],
   "source": [
    "import pandas as pd\n",
    "import matplotlib.pyplot as plt\n",
    "import numpy as np\n",
    "from scipy import optimize as op\n",
    "import sys\n",
    "from pylife.stress.frequencysignal import psdSignal\n",
    "import ipywidgets as wd\n",
    "%matplotlib inline"
   ]
  },
  {
   "cell_type": "code",
   "execution_count": null,
   "metadata": {},
   "outputs": [],
   "source": [
    "psd = pd.DataFrame(pd.read_csv(\"data/PSD_values.csv\",index_col = 0).iloc[5:1500,0])"
   ]
  },
  {
   "cell_type": "code",
   "execution_count": null,
   "metadata": {},
   "outputs": [],
   "source": [
    "#fsel = np.array([30,50,80,460,605,1000])\n",
    "fsel = []\n",
    "fig = plt.figure()\n",
    "plt.loglog(psd)\n",
    "txt = wd.Textarea(\n",
    "    value='',\n",
    "    placeholder='',\n",
    "    description='fsel = ',\n",
    "    disabled=False\n",
    ")\n",
    "display(txt)\n",
    "def onclick(event):\n",
    "    yval = psd.values[psd.index.get_loc(event.xdata,method ='nearest')]\n",
    "    plt.vlines(event.xdata,0,yval)\n",
    "    fsel.append(event.xdata)\n",
    "    txt.value = \"{:.2f}\".format(event.xdata)\n",
    "cid = fig.canvas.mpl_connect('button_press_event', onclick) "
   ]
  },
  {
   "cell_type": "code",
   "execution_count": null,
   "metadata": {},
   "outputs": [],
   "source": [
    "fsel = np.asarray(fsel)\n",
    "# please uncomment the following line. It is just for utomatization purpose\n",
    "fsel = np.asarray([5,29,264,1035,1300,])\n",
    "print(fsel)"
   ]
  },
  {
   "cell_type": "code",
   "execution_count": null,
   "metadata": {},
   "outputs": [],
   "source": [
    "def rms_psd(psd):\n",
    "    return (sum(((psd.diff()+psd).dropna().values.flatten()*np.diff(psd.index.values)))**0.5)\n",
    "plt.loglog(psd, label=\"rms = {:.2f}\".format(rms_psd(psd)))\n",
    "for i in np.linspace(0,1,4):\n",
    "    psd_fit = psdSignal.psd_smoother(psd, fsel, i)\n",
    "    plt.loglog(psd_fit, label=\"rms = {:.2f}\".format(rms_psd(psd_fit)))\n",
    "plt.legend()"
   ]
  },
  {
   "cell_type": "code",
   "execution_count": null,
   "metadata": {},
   "outputs": [],
   "source": []
  }
 ],
 "metadata": {
  "kernelspec": {
   "display_name": "Python 3 (ipykernel)",
   "language": "python",
   "name": "python3"
  },
  "language_info": {
   "codemirror_mode": {
    "name": "ipython",
    "version": 3
   },
   "file_extension": ".py",
   "mimetype": "text/x-python",
   "name": "python",
   "nbconvert_exporter": "python",
   "pygments_lexer": "ipython3"
  },
  "name": "psd_optimizer.ipynb"
 },
 "nbformat": 4,
 "nbformat_minor": 2
}
