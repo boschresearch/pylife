{
 "cells": [
  {
   "cell_type": "markdown",
   "metadata": {},
   "source": [
    "## PSD Optimizer ##\n",
    "\n"
   ]
  },
  {
   "cell_type": "code",
   "execution_count": null,
   "metadata": {},
   "outputs": [],
   "source": [
    "import pandas as pd\n",
    "import matplotlib.pyplot as plt\n",
    "import numpy as np\n",
    "from scipy import optimize as op\n",
    "import sys\n",
    "sys.path.append(\"C:/python/pyLife/pylife/stress\")\n",
    "from pylife.stress import psd_optimizer as psd_opt\n",
    "import ipywidgets as wd"
   ]
  },
  {
   "cell_type": "code",
   "execution_count": null,
   "metadata": {},
   "outputs": [],
   "source": [
    "psd = pd.read_csv(\"PSD_values.csv\",index_col = 0).iloc[5:1500,0]"
   ]
  },
  {
   "cell_type": "code",
   "execution_count": null,
   "metadata": {},
   "outputs": [],
   "source": [
    "#fsel = np.array([30,50,80,460,605,1000])\n",
    "fsel = []\n",
    "%matplotlib notebook\n",
    "fig = plt.figure()\n",
    "plt.loglog(psd.index.values,psd)\n",
    "txt = wd.Textarea(\n",
    "    value='',\n",
    "    placeholder='',\n",
    "    description='fsel = ',\n",
    "    disabled=False\n",
    ")\n",
    "display(txt)\n",
    "def onclick(event):\n",
    "    yval = psd.values[psd.index.get_loc(event.xdata,method ='nearest')]\n",
    "    plt.vlines(event.xdata,0,yval)\n",
    "    fsel.append(event.xdata)\n",
    "    txt.value = \"{:.2f}\".format(event.xdata)\n",
    "cid = fig.canvas.mpl_connect('button_press_event', onclick) "
   ]
  },
  {
   "cell_type": "code",
   "execution_count": null,
   "metadata": {},
   "outputs": [],
   "source": [
    "fsel = np.asarray(fsel)\n",
    "print(fsel)"
   ]
  },
  {
   "cell_type": "code",
   "execution_count": null,
   "metadata": {},
   "outputs": [],
   "source": [
    "def rms_psd(psd):\n",
    "    return (sum((np.diff(psd)+psd[:-1])*np.diff(psd.index.values))**0.5)\n",
    "plt.loglog(psd.index.values,psd,label = \"{:.2f}\".format(rms_psd(psd)))\n",
    "rms = []\n",
    "for ii in np.linspace(0,1,4):\n",
    "    psd_fit = psd_opt.psd_optimizer(psd,fsel,ii)\n",
    "    rms.append(rms_psd(psd_fit))\n",
    "    plt.loglog(psd.index.values,psd_fit,label = \"{:.2f}\".format(rms[int(ii)]))\n",
    "plt.legend()"
   ]
  },
  {
   "cell_type": "code",
   "execution_count": null,
   "metadata": {},
   "outputs": [],
   "source": []
  }
 ],
 "metadata": {
  "kernelspec": {
   "display_name": "Python 3",
   "language": "python",
   "name": "python3"
  },
  "language_info": {
   "codemirror_mode": {
    "name": "ipython",
    "version": 3
   },
   "file_extension": ".py",
   "mimetype": "text/x-python",
   "name": "python",
   "nbconvert_exporter": "python",
   "pygments_lexer": "ipython3",
   "version": "3.7.6"
  }
 },
 "nbformat": 4,
 "nbformat_minor": 2
}
