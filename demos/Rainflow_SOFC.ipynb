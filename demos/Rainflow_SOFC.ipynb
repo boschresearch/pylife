{
 "cells": [
  {
   "cell_type": "code",
   "execution_count": null,
   "metadata": {},
   "outputs": [],
   "source": [
    "'''Here we read in all necessary libraries'''\n",
    "import numpy as np\n",
    "import pandas as pd\n",
    "\n",
    "from pylife.stress.rainflow import *\n",
    "from pylife.strength.meanstress import *\n",
    "import matplotlib.pyplot as plt\n",
    "from pylife.stress.histogram import *\n",
    "from ipywidgets import interact, interactive, fixed, interact_manual\n",
    "import ipywidgets as widgets\n",
    "import io\n",
    "from IPython.display import HTML\n",
    "import base64 \n",
    "from mpl_toolkits.mplot3d import Axes3D\n",
    "from matplotlib import cm"
   ]
  },
  {
   "cell_type": "markdown",
   "metadata": {},
   "source": [
    "## Das ist mein "
   ]
  },
  {
   "cell_type": "markdown",
   "metadata": {},
   "source": [
    "## Import Data ##"
   ]
  },
  {
   "cell_type": "code",
   "execution_count": null,
   "metadata": {},
   "outputs": [],
   "source": [
    "files = 'HPC-Load1-Year.xlsx'\n",
    "data_loc = 'C:\\\\python\\\\RainFlowSOFC\\\\data\\\\'"
   ]
  },
  {
   "cell_type": "code",
   "execution_count": null,
   "metadata": {},
   "outputs": [],
   "source": [
    "%matplotlib notebook\n",
    "data_df = pd.read_excel(data_loc + files,sheet_name = 0).dropna()\n",
    "display(data_df)\n",
    "colName = \"1-min\"\n",
    "# plt.plot(data_df[\"Timestamp\"],data_df[colName])\n",
    "plt.plot(data_df[colName])"
   ]
  },
  {
   "cell_type": "markdown",
   "metadata": {},
   "source": [
    "## Rainflow Calcultion "
   ]
  },
  {
   "cell_type": "code",
   "execution_count": null,
   "metadata": {},
   "outputs": [],
   "source": [
    "rfc = RainflowCounterFKM().process(data_df[colName].values)\n",
    "rfm = rfc.get_rainflow_matrix_frame(12)\n",
    "display(rfm)"
   ]
  },
  {
   "cell_type": "code",
   "execution_count": null,
   "metadata": {},
   "outputs": [],
   "source": [
    "counts = np.flipud((rfm.values.reshape(rfm.index.levshape).T)).ravel()"
   ]
  },
  {
   "cell_type": "code",
   "execution_count": null,
   "metadata": {},
   "outputs": [],
   "source": [
    "%matplotlib notebook\n",
    "colormap = cm.ScalarMappable()\n",
    "# color = colormap.to_rgba(dz)\n",
    "fig = plt.figure()\n",
    "ax = fig.add_subplot(111, projection='3d')\n",
    "bottom = np.zeros_like(counts)\n",
    "froms = rfm.index.get_level_values('from').mid\n",
    "tos = rfm.index.get_level_values('to').mid\n",
    "width = depth = 150\n",
    "cmap = cm.get_cmap('viridis')\n",
    "max_height = np.max(counts)   # get range of colorbars\n",
    "min_height = np.min(counts)\n",
    "rgba = [cmap((k-min_height)/max_height) for k in counts] \n",
    "ax.bar3d(froms.ravel(), tos.ravel(), bottom, width, depth, counts, shade=True, color=rgba, zsort='average')\n"
   ]
  },
  {
   "cell_type": "code",
   "execution_count": null,
   "metadata": {},
   "outputs": [],
   "source": [
    "%matplotlib notebook\n",
    "amplitude = MeanstressHist(rfm)\n",
    "amplitude = pd.DataFrame(data = counts, index = amplitude._Sa.ravel())\n",
    "# display(amplitude)\n",
    "range_only = rfm.meanstress_hist.FKM_goodman(pd.Series({'M': 0,'M2': 0}), R_goal = 0)\n",
    "amplitude = range_only.index.get_level_values('range').mid.values[::-1]\n",
    "cycles = range_only.values[::-1].ravel()\n",
    "plt.barh(amplitude,np.cumsum(cycles), height = range_only.index.get_level_values('range').length.min())\n",
    "plt.barh(amplitude,cycles, height = range_only.index.get_level_values('range').length.min())\n"
   ]
  }
 ],
 "metadata": {
  "kernelspec": {
   "display_name": "Python 3",
   "language": "python",
   "name": "python3"
  },
  "language_info": {
   "codemirror_mode": {
    "name": "ipython",
    "version": 3
   },
   "file_extension": ".py",
   "mimetype": "text/x-python",
   "name": "python",
   "nbconvert_exporter": "python",
   "pygments_lexer": "ipython3",
   "version": "3.6.9"
  }
 },
 "nbformat": 4,
 "nbformat_minor": 2
}
