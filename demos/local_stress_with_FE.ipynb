{
 "cells": [
  {
   "cell_type": "markdown",
   "metadata": {
    "ein.tags": "worksheet-0",
    "slideshow": {
     "slide_type": "-"
    }
   },
   "source": [
    "## Local stress approach ##\n",
    "### FE based failure probability calculation\n",
    "\n",
    "#### FE Data \n",
    "we are using VMAP data format and rst file formats. It is also possible to use odb data,"
   ]
  },
  {
   "cell_type": "code",
   "execution_count": null,
   "metadata": {},
   "outputs": [],
   "source": [
    "import numpy as np\n",
    "import pandas as pd\n",
    "import pickle\n",
    "import pylife.vmap\n",
    "import pylife.mesh\n",
    "import pylife.mesh.meshsignal\n",
    "import pylife.stress.equistress\n",
    "import pylife.stress\n",
    "import pylife.strength.fatigue\n",
    "import pylife.utils.histogram as psh\n",
    "import pyvista as pv\n",
    "\n",
    "# from ansys.dpf import post\n",
    "# pv.set_plot_theme('document')\n",
    "# pv.set_jupyter_backend('ipyvtklink')\n",
    "# get_ipython().run_line_magic('matplotlib', 'inline')"
   ]
  },
  {
   "cell_type": "markdown",
   "metadata": {
    "ein.tags": "worksheet-0",
    "slideshow": {
     "slide_type": "-"
    }
   },
   "source": [
    "### VMAP\n",
    "\n",
    "For plotting of VMAP data we are using pyVista."
   ]
  },
  {
   "cell_type": "code",
   "execution_count": null,
   "metadata": {},
   "outputs": [],
   "source": [
    "pyLife_mesh = (pylife.vmap.VMAPImport(\"plate_with_hole.vmap\").make_mesh('1', 'STATE-2')\n",
    "               .join_coordinates()\n",
    "               .join_variable('STRESS_CAUCHY')\n",
    "               .to_frame())\n",
    "\n",
    "pyLife_mesh['mises'] = pyLife_mesh.equistress.mises()\n",
    "grid = pv.UnstructuredGrid(*pyLife_mesh.mesh.vtk_data())\n",
    "plotter = pv.Plotter(window_size=[1920, 1080])\n",
    "plotter.add_mesh(grid, scalars=pyLife_mesh.groupby('element_id')['mises'].mean().to_numpy(),\n",
    "                show_edges=True, cmap='jet')\n",
    "plotter.add_scalar_bar()\n",
    "plotter.show()"
   ]
  },
  {
   "cell_type": "markdown",
   "metadata": {},
   "source": [
    "#### Now we want to apply the collectives to the mesh"
   ]
  },
  {
   "cell_type": "code",
   "execution_count": null,
   "metadata": {},
   "outputs": [],
   "source": [
    "mises = pyLife_mesh.groupby('element_id')['S11', 'S22', 'S33', 'S12', 'S13', 'S23'].mean().equistress.mises()\n",
    "mises /= mises.max()  # the nominal load level in the FEM analysis is set, that s_max = 1\n",
    "collectives = pickle.load(open(\"collectives.p\", \"rb\"))\n",
    "collectives = collectives.unstack().T.fillna(0)\n",
    "collectives_sorted = psh.combine_histogram([collectives[col] for col in collectives],\n",
    "                                             method=\"sum\")\n",
    "\n",
    "scaled_collectives = collectives_sorted.load_collective.scale(mises)\n",
    "display(scaled_collectives.to_pandas().sample(5))"
   ]
  },
  {
   "cell_type": "markdown",
   "metadata": {},
   "source": [
    "#### Define the material parameters"
   ]
  },
  {
   "cell_type": "code",
   "execution_count": null,
   "metadata": {},
   "outputs": [],
   "source": [
    "mat = pd.Series({\n",
    "    'k_1': 8.,\n",
    "    'ND': 1.0e6,\n",
    "    'SD': 200.0, # range\n",
    "    'TN': 1./12.,\n",
    "    'TS': 1./1.1\n",
    "})"
   ]
  },
  {
   "cell_type": "markdown",
   "metadata": {},
   "source": [
    "#### Damage Calculation ####"
   ]
  },
  {
   "cell_type": "code",
   "execution_count": null,
   "metadata": {},
   "outputs": [],
   "source": [
    "damage = mat.fatigue.miner_haibach().damage(scaled_collectives)\n",
    "print(\"Max damage : %f\" % damage.max())\n",
    "damage = damage.groupby(['element_id']).sum()"
   ]
  },
  {
   "cell_type": "code",
   "execution_count": null,
   "metadata": {},
   "outputs": [],
   "source": [
    "grid = pv.UnstructuredGrid(*pyLife_mesh.mesh.vtk_data())\n",
    "plotter = pv.Plotter(window_size=[1920, 1080])\n",
    "plotter.add_mesh(grid, scalars=damage.to_numpy(),\n",
    "                show_edges=True, cmap='jet')\n",
    "plotter.add_scalar_bar()\n",
    "plotter.show()"
   ]
  },
  {
   "cell_type": "markdown",
   "metadata": {},
   "source": [
    "### ANSYS"
   ]
  },
  {
   "cell_type": "code",
   "execution_count": null,
   "metadata": {},
   "outputs": [],
   "source": [
    "#%% Ansys (license is necessary)\n",
    "# For Ansys  *.rst files we are using pymapdl\n",
    "# from ansys.mapdl import reader as pymapdl_reader\n",
    "# # for more information please go to pymapdl\n",
    "# # rst_input = post.load_solution(\"beam_3d.rst\")\n",
    "# # # pymapdl has some nice features\n",
    "# # rst_input.plot_nodal_displacement(0)\n",
    "# # rst_input.plot_nodal_stress(0,\"X\")\n",
    "# ansys_mesh = pymapdl_reader.read_binary('beam_3d.rst')\n",
    "# grid_ansys = ansys_mesh.grid\n",
    "# plotter = pv.Plotter(window_size=[1920, 1080])\n",
    "# _, volume, _  = ansys_mesh.element_solution_data(0,\"ENG\")\n",
    "# volume = pd.DataFrame(volume)[1]\n",
    "\n",
    "# nodes, ansys_mesh_mises = ansys_mesh.nodal_stress(0)\n",
    "# ansys_mesh_mises = pd.DataFrame(data = ansys_mesh_mises,\n",
    "#                                 columns=['S11', 'S22', 'S33', 'S12', 'S13', 'S23']).equistress.mises()\n",
    "\n",
    "\n",
    "# test = pd.DataFrame(ansys_mesh.mesh.elem).iloc[:, 8:]\n",
    "# #%%\n",
    "# plotter.add_mesh(grid_ansys, scalars=ansys_mesh_mises,\n",
    "#                 show_edges=True, cmap='jet')\n",
    "# plotter.add_scalar_bar()\n",
    "# plotter.show()"
   ]
  }
 ],
 "metadata": {
  "kernelspec": {
   "display_name": "Python 3 (ipykernel)",
   "language": "python",
   "name": "python3"
  },
  "language_info": {
   "codemirror_mode": {
    "name": "ipython",
    "version": 3
   },
   "file_extension": ".py",
   "mimetype": "text/x-python",
   "name": "python",
   "nbconvert_exporter": "python",
   "pygments_lexer": "ipython3"
  },
  "name": "VMAP_io.ipynb"
 },
 "nbformat": 4,
 "nbformat_minor": 4
}
