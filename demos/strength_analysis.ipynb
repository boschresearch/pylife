{
 "cells": [
  {
   "cell_type": "markdown",
   "metadata": {
    "ein.tags": "worksheet-0",
    "slideshow": {
     "slide_type": "-"
    }
   },
   "source": [
    "# Basic infinite strength analysis\n",
    "\n",
    "We are performing a very basic strength analysis on a plate with a hole coming from FEM mesh.\n",
    "\n",
    "This contains the following steps:\n",
    "\n",
    "* calculate von Mises equivalent stress\n",
    "* perform a meanstress transformation\n",
    "* perform a strength analysis against infinite strength data from a material\n",
    "\n",
    "The infinite strength data consists of the median of the infinite strength and the scattering. So for a given local stress amplitude we can calculate the local failure probability. Comparing this failure probability with an tolerable failure probability of 1 ppm we can calculate the security factors of each element."
   ]
  },
  {
   "cell_type": "code",
   "execution_count": null,
   "metadata": {},
   "outputs": [],
   "source": [
    "import numpy as np\n",
    "import pandas as pd\n",
    "\n",
    "import pylife.stress.equistress\n",
    "import pylife.strength.meanstress\n",
    "import pylife.strength.infinite\n",
    "import pylife.materialdata.woehler\n",
    "\n",
    "import pylife.mesh.meshplot\n",
    "\n",
    "import matplotlib.pyplot as plt\n",
    "%matplotlib\n"
   ]
  },
  {
   "cell_type": "code",
   "execution_count": null,
   "metadata": {},
   "outputs": [],
   "source": [
    "filename = 'plate_with_hole.h5'\n",
    "\n",
    "stress = pd.read_hdf(filename, 'node_data')\n",
    "stress['S13'] = np.zeros_like(stress['S11'])\n",
    "stress['S23'] = np.zeros_like(stress['S11'])\n",
    "\n",
    " "
   ]
  },
  {
   "cell_type": "code",
   "execution_count": null,
   "metadata": {},
   "outputs": [],
   "source": [
    "goodman = {\n",
    "    'M': 0.5,\n",
    "    'M2': 0.5/3.\n",
    "}\n",
    "\n",
    "R_goal = -1.\n"
   ]
  },
  {
   "cell_type": "code",
   "execution_count": null,
   "metadata": {},
   "outputs": [],
   "source": [
    "woehler_data = {\n",
    "    'strength_inf': 450.,\n",
    "    'strength_scatter': 1.3\n",
    "}"
   ]
  },
  {
   "cell_type": "code",
   "execution_count": null,
   "metadata": {},
   "outputs": [],
   "source": [
    "result = (stress.groupby('element_id').mean()\n",
    "          .equistress.mises().rename(columns={'mises': 'sigma_a'})\n",
    "          .cyclic_stress.constant_R(0.0)\n",
    "          .meanstress_mesh.FKM_goodman(pd.Series(goodman), R_goal)\n",
    "          .infinite_security.factors(pd.Series(woehler_data), allowed_failure_probability=1e-6))\n",
    "\n",
    "print(\"Lowest security factor:\", result.security_factor.min())"
   ]
  },
  {
   "cell_type": "code",
   "execution_count": null,
   "metadata": {},
   "outputs": [],
   "source": [
    "fig, ax = plt.subplots()\n",
    "result[result['security_factor'] > 4.0] = 4.0\n",
    "stress.join(result).meshplot.plot(ax, 'security_factor', cmap='jet_r')\n",
    "plt.show()"
   ]
  }
 ],
 "metadata": {
  "kernelspec": {
   "display_name": "Python 3",
   "language": "python",
   "name": "python3"
  },
  "language_info": {
   "codemirror_mode": {
    "name": "ipython",
    "version": 3
   },
   "file_extension": ".py",
   "mimetype": "text/x-python",
   "name": "python",
   "nbconvert_exporter": "python",
   "pygments_lexer": "ipython3",
   "version": "3.7.4"
  },
  "name": "strength_analysis.ipynb"
 },
 "nbformat": 4,
 "nbformat_minor": 2
}
