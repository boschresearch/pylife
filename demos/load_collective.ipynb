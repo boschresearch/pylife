{
 "cells": [
  {
   "cell_type": "markdown",
   "id": "d2e6705e",
   "metadata": {},
   "source": [
    "# Load Collectives and Load Histograms\n",
    "\n",
    "From the load (stress) side pyLife provides the classes `LoadCollective` and `LoadHistogram` to deal with load collectives.  `LoadCollective` contains individal hysteresis loops whereas `LoadHistogram` contains a 2D-histogram of classes of hysteresis loops and the number of cycles with which they occur."
   ]
  },
  {
   "cell_type": "code",
   "execution_count": null,
   "id": "0531d817",
   "metadata": {},
   "outputs": [],
   "source": [
    "import numpy as np\n",
    "import pandas as pd\n",
    "\n",
    "import matplotlib.pyplot as plt\n",
    "\n",
    "import pylife.stress.timesignal as TS\n",
    "import pylife.stress.rainflow as RF\n",
    "import pylife.strength.meanstress as MS\n",
    "import pylife.strength.fatigue\n",
    "plt.rcParams['figure.figsize'] = [12, 7.5]"
   ]
  },
  {
   "cell_type": "markdown",
   "id": "c7a15e66",
   "metadata": {},
   "source": [
    "## A simple load signal\n",
    "\n",
    "Let's take a look at a really simple load signal:"
   ]
  },
  {
   "cell_type": "code",
   "execution_count": null,
   "id": "89ed4d73",
   "metadata": {},
   "outputs": [],
   "source": [
    "load_signal = np.array([0., 2.0, -2.0, 1.0, -1.0, 2.0, -2.0, 1.0, -1.0, 2.0, -2.0, 1.0, -1.0, 2.0, 0.])\n",
    "plt.plot(load_signal)"
   ]
  },
  {
   "cell_type": "markdown",
   "id": "6fb51395",
   "metadata": {},
   "source": [
    "Now let's perform a rainflow analysis."
   ]
  },
  {
   "cell_type": "code",
   "execution_count": null,
   "id": "b64e12fc",
   "metadata": {},
   "outputs": [],
   "source": [
    "detector = RF.FourPointDetector(recorder=RF.LoopValueRecorder())\n",
    "detector.process(load_signal)"
   ]
  },
  {
   "cell_type": "markdown",
   "id": "4d887620",
   "metadata": {},
   "source": [
    "The detector now contains the recorder which recorded the hysteresis loops for us. The simple load collective comes as a attribute of the detector:"
   ]
  },
  {
   "cell_type": "code",
   "execution_count": null,
   "id": "0dd57ea7",
   "metadata": {},
   "outputs": [],
   "source": [
    "collective = detector.recorder.collective\n",
    "collective"
   ]
  },
  {
   "cell_type": "markdown",
   "id": "31b400a3",
   "metadata": {},
   "source": [
    "As you can see, the rainflow analysis found five histresis loops, three from 1.0 to -1.0 and two from -2.0 to 2.0. Alternatively you can ask the recorder for a load histogram:"
   ]
  },
  {
   "cell_type": "code",
   "execution_count": null,
   "id": "5a4e994f",
   "metadata": {},
   "outputs": [],
   "source": [
    "histogram = detector.recorder.histogram(bins=6)\n",
    "histogram"
   ]
  },
  {
   "cell_type": "markdown",
   "id": "33dd6886",
   "metadata": {},
   "source": [
    "This is a bit hard to read. What you see is a `pands.Series` that has a two dimensional `IntervalIndex` as index. The histogram is all empty except the two classes `from`: (-2.0, 1.5] `to`: (1.5, 2.0] has 2.0 cycles and `from`: (0.5, 1.0] `to`: (-1.0, -1.5] has 3.0 cycles. Tose correspond to the two loops from -2.0 to 2.0 and the three loops 1.0 to -1.0."
   ]
  },
  {
   "cell_type": "markdown",
   "id": "e76f635a",
   "metadata": {},
   "source": [
    "## Working with load collectives and load histograms\n",
    "\n",
    "A load collective and a load histogram can be processed by the two classes `LoadCollective` and `LoadHistogram`. Both inherit from the common base class `AbstractLoadCollective`. There is the common accessor attribute `load_collective` that convert a pandas object with the load collective resp. load histogram data into the corresponding class.\n",
    "\n",
    "First let's look at a load collective. You can easily calculate the amplitude of each hysteresis loop:"
   ]
  },
  {
   "cell_type": "code",
   "execution_count": null,
   "id": "89c64562",
   "metadata": {},
   "outputs": [],
   "source": [
    "cl = collective.load_collective\n",
    "cl.amplitude"
   ]
  },
  {
   "cell_type": "markdown",
   "id": "8c73a936",
   "metadata": {},
   "source": [
    "Same for the mean stress and the R-value:"
   ]
  },
  {
   "cell_type": "code",
   "execution_count": null,
   "id": "fc7f279a",
   "metadata": {},
   "outputs": [],
   "source": [
    "cl.meanstress, cl.R"
   ]
  },
  {
   "cell_type": "markdown",
   "id": "5e856c85",
   "metadata": {},
   "source": [
    "There is also the attribute `cycles`:"
   ]
  },
  {
   "cell_type": "code",
   "execution_count": null,
   "id": "c72dc8aa",
   "metadata": {},
   "outputs": [],
   "source": [
    "cl.cycles"
   ]
  },
  {
   "cell_type": "markdown",
   "id": "d97a9071",
   "metadata": {},
   "source": [
    "As you can see, the cycles are all 1.0 because we have an entry for each indivudual hysteresis loop which by definition occurs only once.\n",
    "\n",
    "Now let's take a look at the histogram:"
   ]
  },
  {
   "cell_type": "code",
   "execution_count": null,
   "id": "7d90ec4c",
   "metadata": {},
   "outputs": [],
   "source": [
    "hi = histogram.load_collective\n",
    "hi.amplitude, hi.meanstress, hi.R"
   ]
  },
  {
   "cell_type": "markdown",
   "id": "2e74ce9a",
   "metadata": {},
   "source": [
    "This might look a bit confusing as this only shows the amplitudes, meanstresses and R-values correspond to the bins of the histogram. Remember, that they were all except two empty. So let's restrict the histogram to bins that are not empty:"
   ]
  },
  {
   "cell_type": "code",
   "execution_count": null,
   "id": "4f0f0209",
   "metadata": {},
   "outputs": [],
   "source": [
    "not_empty = histogram > 0.0\n",
    "hi.amplitude[not_empty], hi.cycles[not_empty]"
   ]
  },
  {
   "cell_type": "markdown",
   "id": "b9e9e465",
   "metadata": {},
   "source": [
    "The amplitude values 1.75 and 0.75 correspond to 2.0 and 1.0. They are in the middle of the histogram bins."
   ]
  },
  {
   "cell_type": "markdown",
   "id": "ed7d6a58",
   "metadata": {},
   "source": [
    "## A more complex example\n",
    "\n",
    "Now let's take a look at a more complex load collective. We use the `TimeSignalGenerator` to generate a load signal."
   ]
  },
  {
   "cell_type": "code",
   "execution_count": null,
   "id": "956cc2bb",
   "metadata": {},
   "outputs": [],
   "source": [
    "load_signal = TS.TimeSignalGenerator(\n",
    "    10, \n",
    "    {\n",
    "        'number': 50,\n",
    "        'amplitude_median': 1.0, 'amplitude_std_dev': 0.5,\n",
    "        'frequency_median': 4, 'frequency_std_dev': 3,\n",
    "        'offset_median': 0, 'offset_std_dev': 0.4\n",
    "    }, None, None\n",
    ").query(50000)\n",
    "plt.plot(load_signal)"
   ]
  },
  {
   "cell_type": "markdown",
   "id": "3c2412a4",
   "metadata": {},
   "source": [
    "Again we perform a rainflow analysis to obtain the load histogram."
   ]
  },
  {
   "cell_type": "code",
   "execution_count": null,
   "id": "fffcf8c6",
   "metadata": {},
   "outputs": [],
   "source": [
    "detector = RF.FourPointDetector(recorder=RF.LoopValueRecorder())\n",
    "detector.process(load_signal)\n",
    "\n",
    "histogram = detector.recorder.histogram(64)"
   ]
  },
  {
   "cell_type": "markdown",
   "id": "69064e15",
   "metadata": {},
   "source": [
    "We can plot the histogram with a bit of processing."
   ]
  },
  {
   "cell_type": "code",
   "execution_count": null,
   "id": "5d0c3ce8",
   "metadata": {},
   "outputs": [],
   "source": [
    "fr, to = histogram.index.levels[0], histogram.index.levels[1]\n",
    "numpy_hist = np.flipud(histogram.values.reshape(len(fr),len(to)))\n",
    "X, Y = np.meshgrid(fr.left, to.left)\n",
    "plt.pcolormesh(X, Y, numpy_hist)"
   ]
  },
  {
   "cell_type": "markdown",
   "id": "0f505f1a",
   "metadata": {},
   "source": [
    "We can also plot the cumulated version of the histogram. Therefor we put the amplitude and the cycles into a dataframe."
   ]
  },
  {
   "cell_type": "code",
   "execution_count": null,
   "id": "aa05f8e1",
   "metadata": {},
   "outputs": [],
   "source": [
    "df = pd.DataFrame({\n",
    "    'cycles': histogram.load_collective.cycles, \n",
    "    'amplitude': histogram.load_collective.amplitude, \n",
    "}).sort_values('amplitude', ascending=False)"
   ]
  },
  {
   "cell_type": "markdown",
   "id": "0a5551bc",
   "metadata": {},
   "source": [
    "Now we can plot the amplitude against the cumulated sum of the cycles:"
   ]
  },
  {
   "cell_type": "code",
   "execution_count": null,
   "id": "9a9d2f64",
   "metadata": {},
   "outputs": [],
   "source": [
    "plt.plot(np.cumsum(df.cycles), df.amplitude)\n",
    "plt.loglog()"
   ]
  }
 ],
 "metadata": {
  "kernelspec": {
   "display_name": "Python 3 (ipykernel)",
   "language": "python",
   "name": "python3"
  },
  "language_info": {
   "codemirror_mode": {
    "name": "ipython",
    "version": 3
   },
   "file_extension": ".py",
   "mimetype": "text/x-python",
   "name": "python",
   "nbconvert_exporter": "python",
   "pygments_lexer": "ipython3"
  }
 },
 "nbformat": 4,
 "nbformat_minor": 5
}
