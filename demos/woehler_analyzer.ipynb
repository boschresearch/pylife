{
 "cells": [
  {
   "cell_type": "markdown",
   "metadata": {
    "ein.tags": "worksheet-0",
    "slideshow": {
     "slide_type": "slide"
    }
   },
   "source": [
    "# Wöhler analyzing tool\n",
    "Developed by Mustapha Kassem in scope of a master thesis at TU München"
   ]
  },
  {
   "cell_type": "markdown",
   "metadata": {
    "ein.tags": "worksheet-0",
    "slideshow": {
     "slide_type": "slide"
    }
   },
   "source": [
    "## Pylife Woehler-curve evaluation script"
   ]
  },
  {
   "cell_type": "markdown",
   "metadata": {
    "ein.tags": "worksheet-0",
    "slideshow": {
     "slide_type": "slide"
    }
   },
   "source": [
    "### Initialization"
   ]
  },
  {
   "cell_type": "code",
   "execution_count": null,
   "metadata": {
    "autoscroll": false,
    "ein.hycell": false,
    "ein.tags": "worksheet-0",
    "slideshow": {
     "slide_type": "-"
    }
   },
   "outputs": [],
   "source": [
    "import pandas as pd\n",
    "from os import path\n",
    "import sys, os\n",
    "import json\n",
    "\n",
    "sys.path.insert(0, os.path.abspath('..'))\n",
    "\n",
    "from pylife.materialdata.woehler.fatigue_data import FatigueData\n",
    "from pylife.materialdata.woehler.data_file_display import DataFileDisplay\n",
    "from pylife.materialdata.woehler.woehler_curve_creator_options import  WoehlerCurveCreatorOptions\n",
    "from pylife.materialdata.woehler.woehler_curve_data_plotter import  WoehlerCurveDataPlotter\n",
    "from pylife.materialdata.woehler.whole_woehler_curve_plotter import  WholeWoehlerCurvePlotter\n",
    "from pylife.materialdata.woehler.probability_curve_plotter import ProbabilityCurvePlotter"
   ]
  },
  {
   "cell_type": "code",
   "execution_count": null,
   "metadata": {
    "autoscroll": false,
    "ein.hycell": false,
    "ein.tags": "worksheet-0",
    "slideshow": {
     "slide_type": "-"
    }
   },
   "outputs": [],
   "source": [
    "from __future__ import print_function\n",
    "from ipywidgets import interact, interactive, fixed, interact_manual\n",
    "import ipywidgets as widgets\n",
    "from IPython.display import display\n",
    "import warnings\n",
    "import pdb"
   ]
  },
  {
   "cell_type": "markdown",
   "metadata": {
    "ein.tags": "worksheet-0",
    "slideshow": {
     "slide_type": "slide"
    }
   },
   "source": [
    "### Data import\n",
    "#### Data is made up of two columns:\n",
    " * The first column is made up of the load values\n",
    " * The scond column is made up of the load-cycle values\n",
    " "
   ]
  },
  {
   "cell_type": "code",
   "execution_count": null,
   "metadata": {
    "autoscroll": false,
    "ein.hycell": false,
    "ein.tags": "worksheet-0",
    "slideshow": {
     "slide_type": "-"
    }
   },
   "outputs": [],
   "source": [
    "file_name = 'woehler-test-data.csv'\n"
   ]
  },
  {
   "cell_type": "markdown",
   "metadata": {
    "ein.tags": "worksheet-0",
    "slideshow": {
     "slide_type": "subslide"
    }
   },
   "source": [
    "##### Transforming data in excel to python arrays"
   ]
  },
  {
   "cell_type": "code",
   "execution_count": null,
   "metadata": {
    "autoscroll": false,
    "ein.hycell": false,
    "ein.tags": "worksheet-0",
    "slideshow": {
     "slide_type": "-"
    }
   },
   "outputs": [],
   "source": [
    "data = pd.read_csv(file_name, sep='\\t')\n",
    "data.columns=['loads', 'cycles']\n",
    "rb = DataFileDisplay(data)"
   ]
  },
  {
   "cell_type": "markdown",
   "metadata": {
    "ein.tags": "worksheet-0",
    "slideshow": {
     "slide_type": "fragment"
    }
   },
   "source": [
    "##### For automization purposes\n",
    "data = pd.read_excel('../data/Test_dat.xlsx')\n",
    "data.columns=['loads', 'cycles']"
   ]
  },
  {
   "cell_type": "markdown",
   "metadata": {
    "ein.tags": "worksheet-0",
    "slideshow": {
     "slide_type": "slide"
    }
   },
   "source": [
    "#### 2. Enter the load cycle limit (The load-cycle value that seperates Fractures from Run-outs):\n",
    "##### Note: in case the load cycle limit is the highest number found in the column set it to *max(data[:,1])*"
   ]
  },
  {
   "cell_type": "code",
   "execution_count": null,
   "metadata": {
    "autoscroll": false,
    "ein.hycell": false,
    "ein.tags": "worksheet-0",
    "slideshow": {
     "slide_type": "-"
    }
   },
   "outputs": [],
   "source": [
    "ld_cyc_lim = data['cycles'].max()\n",
    "#ld_cyc_lim = 10e6"
   ]
  },
  {
   "cell_type": "markdown",
   "metadata": {
    "ein.tags": "worksheet-0",
    "slideshow": {
     "slide_type": "slide"
    }
   },
   "source": [
    "## Parameters"
   ]
  },
  {
   "cell_type": "markdown",
   "metadata": {
    "ein.tags": "worksheet-0",
    "slideshow": {
     "slide_type": "fragment"
    }
   },
   "source": [
    "#### 3. Fill in the fixed parameter values. \n",
    "#### The empty parameters are the ones to be estimated.\n",
    "##### Note: fixing parameters are only applicable for method maximum likelihood 5 params"
   ]
  },
  {
   "cell_type": "code",
   "execution_count": null,
   "metadata": {},
   "outputs": [],
   "source": [
    "fatigue_data = FatigueData(data, ld_cyc_lim)\n",
    "woehler_curve_creator_options = WoehlerCurveCreatorOptions(fatigue_data)"
   ]
  },
  {
   "cell_type": "markdown",
   "metadata": {
    "ein.tags": "worksheet-0",
    "slideshow": {
     "slide_type": "slide"
    }
   },
   "source": [
    "#### 4. Variable definition of class WoehlerCurve:"
   ]
  },
  {
   "cell_type": "markdown",
   "metadata": {
    "ein.tags": "worksheet-0",
    "slideshow": {
     "slide_type": "slide"
    }
   },
   "source": [
    "## Visualization of Results\n",
    "#### 5. Enter necessary description to personalize the diagram:\n",
    " * For a default diagram description set the value default = 1\n",
    " * Enter the units for the axes as a string variable [amp, ld_typ, unit]"
   ]
  },
  {
   "cell_type": "markdown",
   "metadata": {
    "ein.tags": "worksheet-0",
    "slideshow": {
     "slide_type": "-"
    }
   },
   "source": [
    "##### x- and y-axis are dynamically scaled to fit the data in a diagram. If the User wishes to change them:\n",
    " * Enter the limits for the x- and y-axis [xlim_WL and ylim_WL]\n",
    " <br>\n",
    "(example: xlim_WL = (4E5, 8E10) )"
   ]
  },
  {
   "cell_type": "code",
   "execution_count": null,
   "metadata": {},
   "outputs": [],
   "source": [
    "woehler_curve_data_plotter = WoehlerCurveDataPlotter(woehler_curve_creator_options.woehler_curve)"
   ]
  },
  {
   "cell_type": "markdown",
   "metadata": {
    "ein.tags": "worksheet-0",
    "slideshow": {
     "slide_type": "-"
    }
   },
   "source": [
    "#### 6. Choose the plot type to be visualized in the following cell"
   ]
  },
  {
   "cell_type": "code",
   "execution_count": null,
   "metadata": {},
   "outputs": [],
   "source": [
    "whole_woeler_curve_plotter = WholeWoehlerCurvePlotter(woehler_curve_creator_options.woehler_curve)"
   ]
  },
  {
   "cell_type": "code",
   "execution_count": null,
   "metadata": {},
   "outputs": [],
   "source": [
    "probability_curve_plotter = ProbabilityCurvePlotter(fatigue_data)"
   ]
  },
  {
   "cell_type": "markdown",
   "metadata": {
    "ein.tags": "worksheet-0",
    "slideshow": {
     "slide_type": "slide"
    }
   },
   "source": [
    "### Final Woehler-curve plot\n",
    "#### 7. Plot of the complete Woehler curve.\n",
    "#### Choose the value of $k_2$ to plot the figure."
   ]
  },
  {
   "cell_type": "markdown",
   "metadata": {
    "ein.tags": "worksheet-0",
    "slideshow": {
     "slide_type": "slide"
    }
   },
   "source": [
    "## BIC\n",
    "#### Bayesian Information Criterion: is a criterion for model selection among a finite set of models;\n",
    "#### the model with the lowest BIC is preferred."
   ]
  }
 ],
 "metadata": {
  "celltoolbar": "Slideshow",
  "kernelspec": {
   "display_name": "Python 3",
   "language": "python",
   "name": "python3"
  },
  "language_info": {
   "codemirror_mode": {
    "name": "ipython",
    "version": 3
   },
   "file_extension": ".py",
   "mimetype": "text/x-python",
   "name": "python",
   "nbconvert_exporter": "python",
   "pygments_lexer": "ipython3",
   "version": "3.6.9"
  },
  "name": "woehler_analyzer.ipynb"
 },
 "nbformat": 4,
 "nbformat_minor": 2
}