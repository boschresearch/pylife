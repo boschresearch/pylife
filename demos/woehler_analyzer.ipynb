{
 "cells": [
  {
   "cell_type": "markdown",
   "metadata": {
    "ein.tags": "worksheet-0",
    "slideshow": {
     "slide_type": "slide"
    }
   },
   "source": [
    "# Wöhler analyzing tool\n",
    "Developed by Mustapha Kassem in scope of a master thesis at TU München"
   ]
  },
  {
   "cell_type": "markdown",
   "metadata": {
    "ein.tags": "worksheet-0",
    "slideshow": {
     "slide_type": "slide"
    }
   },
   "source": [
    "## Pylife Woehler-curve evaluation script"
   ]
  },
  {
   "cell_type": "markdown",
   "metadata": {
    "ein.tags": "worksheet-0",
    "slideshow": {
     "slide_type": "slide"
    }
   },
   "source": [
    "### Initialization"
   ]
  },
  {
   "cell_type": "code",
   "execution_count": 1,
   "metadata": {
    "autoscroll": false,
    "ein.hycell": false,
    "ein.tags": "worksheet-0",
    "slideshow": {
     "slide_type": "-"
    }
   },
   "outputs": [],
   "source": [
    "import numpy as np\n",
    "import pandas as pd\n",
    "import numpy.ma as ma\n",
    "from scipy import stats, optimize\n",
    "import mystic as my\n",
    "import matplotlib\n",
    "import matplotlib.pyplot as plt\n",
    "import matplotlib.patches as patches\n",
    "from os import path\n",
    "import io\n",
    "import sys, os\n",
    "import json\n",
    "\n",
    "sys.path.insert(0, os.path.abspath('..'))\n",
    "\n",
    "from pylife.materialdata.woehler.fatigue_data import FatigueData\n",
    "from pylife.materialdata.woehler.woehler_curve_creator import WoehlerCurveCreator\n",
    "from pylife.materialdata.woehler.probability_plot_creator import ProbabilityPlotCreator\n",
    "from pylife.materialdata.woehler.plot_woehler_curve_data import PlotWoehlerCurveData\n",
    "from pylife.materialdata.woehler.widgets import WoehlerWidget"
   ]
  },
  {
   "cell_type": "code",
   "execution_count": 2,
   "metadata": {
    "autoscroll": false,
    "ein.hycell": false,
    "ein.tags": "worksheet-0",
    "slideshow": {
     "slide_type": "-"
    }
   },
   "outputs": [],
   "source": [
    "from __future__ import print_function\n",
    "from ipywidgets import interact, interactive, fixed, interact_manual\n",
    "import ipywidgets as widgets\n",
    "from IPython.display import display\n",
    "import warnings\n",
    "import pdb"
   ]
  },
  {
   "cell_type": "markdown",
   "metadata": {
    "ein.tags": "worksheet-0",
    "slideshow": {
     "slide_type": "slide"
    }
   },
   "source": [
    "### Data import\n",
    "#### Data is made up of two columns:\n",
    " * The first column is made up of the load values\n",
    " * The scond column is made up of the load-cycle values\n",
    " "
   ]
  },
  {
   "cell_type": "code",
   "execution_count": 3,
   "metadata": {
    "autoscroll": false,
    "ein.hycell": false,
    "ein.tags": "worksheet-0",
    "slideshow": {
     "slide_type": "-"
    }
   },
   "outputs": [],
   "source": [
    "file_name = 'woehler-test-data.csv'"
   ]
  },
  {
   "cell_type": "markdown",
   "metadata": {
    "ein.tags": "worksheet-0",
    "slideshow": {
     "slide_type": "subslide"
    }
   },
   "source": [
    "##### Transforming data in excel to python arrays"
   ]
  },
  {
   "cell_type": "code",
   "execution_count": 4,
   "metadata": {
    "autoscroll": false,
    "ein.hycell": false,
    "ein.tags": "worksheet-0",
    "slideshow": {
     "slide_type": "-"
    }
   },
   "outputs": [],
   "source": [
    "data = pd.read_csv(file_name, sep='\\t')\n",
    "data.columns=['loads', 'cycles']"
   ]
  },
  {
   "cell_type": "markdown",
   "metadata": {
    "ein.tags": "worksheet-0",
    "slideshow": {
     "slide_type": "fragment"
    }
   },
   "source": [
    "##### For automization purposes\n",
    "data = pd.read_excel('../data/Test_dat.xlsx')\n",
    "data.columns=['loads', 'cycles']"
   ]
  },
  {
   "cell_type": "code",
   "execution_count": 5,
   "metadata": {
    "autoscroll": false,
    "ein.hycell": false,
    "ein.tags": "worksheet-0",
    "slideshow": {
     "slide_type": "-"
    }
   },
   "outputs": [
    {
     "name": "stdout",
     "output_type": "stream",
     "text": [
      "Choose whether to visualize the head or tail of the data found in excel:\n"
     ]
    },
    {
     "data": {
      "application/vnd.jupyter.widget-view+json": {
       "model_id": "86219d34b4e54990b1c983e85f0f7ad8",
       "version_major": 2,
       "version_minor": 0
      },
      "text/plain": [
       "RadioButtons(description='Visualization:', options=('Head of the data', 'Details of the data'), style=Descript…"
      ]
     },
     "metadata": {},
     "output_type": "display_data"
    }
   ],
   "source": [
    "w = WoehlerWidget.data_head_tail()\n",
    "print('Choose whether to visualize the head or tail of the data found in excel:')\n",
    "w"
   ]
  },
  {
   "cell_type": "markdown",
   "metadata": {
    "ein.tags": "worksheet-0",
    "slideshow": {
     "slide_type": "fragment"
    }
   },
   "source": [
    "##### Visualization of the data:\n",
    "* It is possible to go back and pick the other choice \n",
    "* Rerun this cell to see it"
   ]
  },
  {
   "cell_type": "code",
   "execution_count": 6,
   "metadata": {
    "autoscroll": false,
    "ein.hycell": false,
    "ein.tags": "worksheet-0",
    "slideshow": {
     "slide_type": "-"
    }
   },
   "outputs": [
    {
     "data": {
      "text/html": [
       "<div>\n",
       "<style scoped>\n",
       "    .dataframe tbody tr th:only-of-type {\n",
       "        vertical-align: middle;\n",
       "    }\n",
       "\n",
       "    .dataframe tbody tr th {\n",
       "        vertical-align: top;\n",
       "    }\n",
       "\n",
       "    .dataframe thead th {\n",
       "        text-align: right;\n",
       "    }\n",
       "</style>\n",
       "<table border=\"1\" class=\"dataframe\">\n",
       "  <thead>\n",
       "    <tr style=\"text-align: right;\">\n",
       "      <th></th>\n",
       "      <th>loads</th>\n",
       "      <th>cycles</th>\n",
       "    </tr>\n",
       "  </thead>\n",
       "  <tbody>\n",
       "    <tr>\n",
       "      <th>0</th>\n",
       "      <td>284.39285</td>\n",
       "      <td>1369000</td>\n",
       "    </tr>\n",
       "    <tr>\n",
       "      <th>1</th>\n",
       "      <td>284.39285</td>\n",
       "      <td>10000000</td>\n",
       "    </tr>\n",
       "    <tr>\n",
       "      <th>2</th>\n",
       "      <td>284.39285</td>\n",
       "      <td>10000000</td>\n",
       "    </tr>\n",
       "    <tr>\n",
       "      <th>3</th>\n",
       "      <td>284.39285</td>\n",
       "      <td>10000000</td>\n",
       "    </tr>\n",
       "    <tr>\n",
       "      <th>4</th>\n",
       "      <td>284.39285</td>\n",
       "      <td>10000000</td>\n",
       "    </tr>\n",
       "  </tbody>\n",
       "</table>\n",
       "</div>"
      ],
      "text/plain": [
       "       loads    cycles\n",
       "0  284.39285   1369000\n",
       "1  284.39285  10000000\n",
       "2  284.39285  10000000\n",
       "3  284.39285  10000000\n",
       "4  284.39285  10000000"
      ]
     },
     "metadata": {},
     "output_type": "display_data"
    }
   ],
   "source": [
    "if w.value == 'Head of the data':\n",
    "    display(data.head())\n",
    "else: \n",
    "    display(data.describe())"
   ]
  },
  {
   "cell_type": "markdown",
   "metadata": {
    "ein.tags": "worksheet-0",
    "slideshow": {
     "slide_type": "slide"
    }
   },
   "source": [
    "#### 2. Enter the load cycle limit (The load-cycle value that seperates Fractures from Run-outs):\n",
    "##### Note: in case the load cycle limit is the highest number found in the column set it to *max(data[:,1])*"
   ]
  },
  {
   "cell_type": "code",
   "execution_count": 7,
   "metadata": {
    "autoscroll": false,
    "ein.hycell": false,
    "ein.tags": "worksheet-0",
    "slideshow": {
     "slide_type": "-"
    }
   },
   "outputs": [],
   "source": [
    "ld_cyc_lim = data['cycles'].max()\n",
    "#ld_cyc_lim = 10e6"
   ]
  },
  {
   "cell_type": "markdown",
   "metadata": {
    "ein.tags": "worksheet-0",
    "slideshow": {
     "slide_type": "slide"
    }
   },
   "source": [
    "## Parameters"
   ]
  },
  {
   "cell_type": "markdown",
   "metadata": {
    "ein.tags": "worksheet-0",
    "slideshow": {
     "slide_type": "fragment"
    }
   },
   "source": [
    "#### 3. Fill in the fixed parameter values. \n",
    "#### The empty parameters are the ones to be estimated.\n",
    "##### Note: don't rerun the cell after typing the values"
   ]
  },
  {
   "cell_type": "code",
   "execution_count": 8,
   "metadata": {
    "autoscroll": false,
    "ein.hycell": false,
    "ein.tags": "worksheet-0",
    "slideshow": {
     "slide_type": "-"
    }
   },
   "outputs": [
    {
     "data": {
      "application/vnd.jupyter.widget-view+json": {
       "model_id": "c9dab08696bf47ad87c6eec65727cb0f",
       "version_major": 2,
       "version_minor": 0
      },
      "text/plain": [
       "Tab(children=(Text(value='', description='k_1'), Text(value='', description='1/TN'), Text(value='', descriptio…"
      ]
     },
     "metadata": {},
     "output_type": "display_data"
    }
   ],
   "source": [
    "tab = WoehlerWidget.WL_param()\n",
    "display(tab)"
   ]
  },
  {
   "cell_type": "code",
   "execution_count": 9,
   "metadata": {
    "autoscroll": false,
    "ein.hycell": false,
    "ein.tags": "worksheet-0",
    "slideshow": {
     "slide_type": "-"
    }
   },
   "outputs": [
    {
     "name": "stdout",
     "output_type": "stream",
     "text": [
      "Maximum Likelihood Method:\n",
      "\n",
      "Estimated Parameters:\n",
      "k_1\n",
      "1/TN\n",
      "SD_50\n",
      "1/TS\n",
      "ND_50\n",
      "\n",
      "Fixed Parameters:\n"
     ]
    }
   ],
   "source": [
    "fixed_param, estim_param =  WoehlerWidget.WL_param_display(tab)"
   ]
  },
  {
   "cell_type": "markdown",
   "metadata": {
    "ein.tags": "worksheet-0",
    "slideshow": {
     "slide_type": "slide"
    }
   },
   "source": [
    "#### 4. Variable definition of class WoehlerCurve: (Variable name = WC_data)"
   ]
  },
  {
   "cell_type": "code",
   "execution_count": 10,
   "metadata": {
    "autoscroll": false,
    "ein.hycell": false,
    "ein.tags": "worksheet-0",
    "slideshow": {
     "slide_type": "-"
    }
   },
   "outputs": [
    {
     "name": "stdout",
     "output_type": "stream",
     "text": [
      "Optimization terminated successfully.\n",
      "         Current function value: 18.908399\n",
      "         Iterations: 514\n",
      "         Function evaluations: 728\n"
     ]
    }
   ],
   "source": [
    "warnings.filterwarnings('ignore')\n",
    "#pdb.set_trace()\n",
    "fatigue_data = FatigueData(data, ld_cyc_lim)\n",
    "woehler_curve_creator = WoehlerCurveCreator(fatigue_data)\n",
    "woehler_curve = woehler_curve_creator.maximum_like_procedure(fixed_param)"
   ]
  },
  {
   "cell_type": "markdown",
   "metadata": {
    "ein.tags": "worksheet-0",
    "slideshow": {
     "slide_type": "slide"
    }
   },
   "source": [
    "#### 5. Paramter results of the chosen evaluation method\n",
    "##### Colored parameters: estimated\n",
    "##### Black/white paramters: fixed"
   ]
  },
  {
   "cell_type": "code",
   "execution_count": 11,
   "metadata": {
    "autoscroll": false,
    "ein.hycell": false,
    "ein.tags": "worksheet-0",
    "slideshow": {
     "slide_type": "-"
    }
   },
   "outputs": [
    {
     "name": "stdout",
     "output_type": "stream",
     "text": [
      "Maximum Likelihood 5 Param method:\n",
      "\n",
      "\u001b[91m\u001b[1mEndurance SD50 = \u001b[1;34m293.5\n",
      "\u001b[91m\u001b[1mEndurance load-cycle ND50 = \u001b[1;34m1.40e+06\n",
      "\u001b[91m\u001b[1mDeviation in load direction 1/TS = \u001b[1;34m1.11\n",
      "\u001b[91m\u001b[1mSlope k = \u001b[1;34m8.66\n",
      "\u001b[91m\u001b[1mDeviation in load-cycle direction 1/TN = \u001b[1;34m9.86\n"
     ]
    }
   ],
   "source": [
    "estim_param.update(woehler_curve.curve_parameters)\n",
    "all(map(estim_param.pop, fixed_param))\n",
    "\n",
    "WoehlerWidget.print_mali_5p_result(woehler_curve, fixed_param)"
   ]
  },
  {
   "cell_type": "markdown",
   "metadata": {
    "ein.tags": "worksheet-0",
    "slideshow": {
     "slide_type": "-"
    }
   },
   "source": [
    "| Variables              || Explanation                                          |\n",
    "| :-------------         ||:-------------                                        |\n",
    "| `fixed_param`          || Fixed parameters (by user)                           |\n",
    "| `estim_param`          || Estimated parameters (exluding the fixed parameters) |\n",
    "|`WC_data.Mali_5p_result`|| Estimated & fixed parameters                         |\n",
    "|`WC_data.Mali_2p_result`|| MLE likelihood functions for the infinite-life zone  |\n",
    "|`WC_data.k`             || Basquin slope using linear regression                |\n",
    "|`WC_data.TN`            || Scatter in load-cycle direction using pearl-chain    |\n",
    "|`WC_data.TS`            || Scatter in load direction using Koeder formula       |\n",
    "|`WC_data.Probit_result` || Probit parameter results                             |\n"
   ]
  },
  {
   "cell_type": "markdown",
   "metadata": {
    "ein.tags": "worksheet-0",
    "slideshow": {
     "slide_type": "slide"
    }
   },
   "source": [
    "## Visualization of Results\n",
    "#### 5. Enter necessary description to personalize the diagram:\n",
    " * For a default diagram description set the value default = 1\n",
    " * Enter the units for the axes as a string variable [amp, ld_typ, unit]"
   ]
  },
  {
   "cell_type": "markdown",
   "metadata": {
    "ein.tags": "worksheet-0",
    "slideshow": {
     "slide_type": "-"
    }
   },
   "source": [
    "##### x- and y-axis are dynamically scaled to fit the data in a diagram. If the User wishes to change them:\n",
    " * Enter the limits for the x- and y-axis [xlim_WL and ylim_WL]\n",
    " <br>\n",
    "(example: xlim_WL = (4E5, 8E10) )"
   ]
  },
  {
   "cell_type": "code",
   "execution_count": 12,
   "metadata": {
    "autoscroll": false,
    "ein.hycell": false,
    "ein.tags": "worksheet-0",
    "slideshow": {
     "slide_type": "-"
    }
   },
   "outputs": [],
   "source": [
    "default = 0\n",
    "\n",
    "if default == 0:\n",
    "    amp = 'Amplitude'\n",
    "    ld_typ = 'Stress'\n",
    "    unit = u'$N/mm^2$'\n",
    "    xlim_WL = (round(min(woehler_curve.fatigue_data.data.cycles)*0.4,-1), round(max(woehler_curve.fatigue_data.data.cycles)*2,-1))\n",
    "    ylim_WL = (round(min(woehler_curve.fatigue_data.data.loads)*0.8,-1), round(max(woehler_curve.fatigue_data.data.loads)*1.2,-1))\n",
    "else:\n",
    "    amp, ld_typ, unit, xlim_WL, ylim_WL = 0,0,0,0,0"
   ]
  },
  {
   "cell_type": "markdown",
   "metadata": {
    "ein.tags": "worksheet-0",
    "slideshow": {
     "slide_type": "-"
    }
   },
   "source": [
    "#### 6. Choose the plot type to be visualized in the following cell"
   ]
  },
  {
   "cell_type": "code",
   "execution_count": 13,
   "metadata": {
    "autoscroll": false,
    "ein.hycell": false,
    "ein.tags": "worksheet-0",
    "slideshow": {
     "slide_type": "-"
    }
   },
   "outputs": [
    {
     "name": "stdout",
     "output_type": "stream",
     "text": [
      "Choose a plot type and execute the following cell to visualize the results:\n"
     ]
    },
    {
     "data": {
      "application/vnd.jupyter.widget-view+json": {
       "model_id": "ce2c3f1555124869a7c830735cd02db8",
       "version_major": 2,
       "version_minor": 0
      },
      "text/plain": [
       "RadioButtons(description='Plot Type', options=(('Initial data', 'Initial data'), ('Slope', 'Slope'), ('Pearl c…"
      ]
     },
     "metadata": {},
     "output_type": "display_data"
    }
   ],
   "source": [
    "w4 = WoehlerWidget.results_visual_woehler_curve()\n",
    "print('Choose a plot type and execute the following cell to visualize the results:')\n",
    "w4"
   ]
  },
  {
   "cell_type": "markdown",
   "metadata": {
    "ein.tags": "worksheet-0",
    "slideshow": {
     "slide_type": "fragment"
    }
   },
   "source": [
    "##### Note: It is possible to go back and pick another choice. Rerun the following cell to see it."
   ]
  },
  {
   "cell_type": "code",
   "execution_count": 14,
   "metadata": {
    "autoscroll": false,
    "ein.hycell": false,
    "ein.tags": "worksheet-0",
    "slideshow": {
     "slide_type": "-"
    }
   },
   "outputs": [
    {
     "data": {
      "text/plain": [
       "<pylife.materialdata.woehler.plot_woehler_curve_data.PlotWoehlerCurveData at 0x2be43f65f60>"
      ]
     },
     "execution_count": 14,
     "metadata": {},
     "output_type": "execute_result"
    },
    {
     "data": {
      "image/png": "[encoded data removed]",
      "text/plain": [
       "<Figure size 432x288 with 1 Axes>"
      ]
     },
     "metadata": {
      "needs_background": "light"
     },
     "output_type": "display_data"
    }
   ],
   "source": [
    "PlotWC = PlotWoehlerCurveData(woehler_curve)\n",
    "fig, ax = plt.subplots()\n",
    "\n",
    "ax.set_title('Initial data')\n",
    "ax.set_xlim(xlim_WL)\n",
    "ax.set_ylim(ylim_WL)\n",
    "ax.set_xscale('log')\n",
    "ax.set_yscale('log')\n",
    "ax.grid(True)\n",
    "ax.set_xlabel('Number of cycles', fontsize = 11)\n",
    "ax.set_ylabel(amp + ' (' + ld_typ+') in ' + unit + '(log scaled)')\n",
    "#ax.legend(loc='upper right', fontsize=11)\n",
    "fig.tight_layout()\n",
    "matplotlib.rcParams.update({'font.size': 11})\n",
    "PlotWC.plot_basic_fatigue_data(ax)"
   ]
  },
  {
   "cell_type": "code",
   "execution_count": 15,
   "metadata": {},
   "outputs": [
    {
     "data": {
      "image/png": "[encoded data removed]",
      "text/plain": [
       "<Figure size 432x288 with 1 Axes>"
      ]
     },
     "metadata": {
      "needs_background": "light"
     },
     "output_type": "display_data"
    }
   ],
   "source": [
    "#pdb.set_trace()\n",
    "fig, ax = plt.subplots()\n",
    "PlotWC.plot_woehler_curve(ax)\n",
    "\n",
    "ax.set_title('Initial data')\n",
    "ax.set_xlim(xlim_WL)\n",
    "ax.set_ylim(ylim_WL)\n",
    "ax.set_xscale('log')\n",
    "ax.set_yscale('log')\n",
    "ax.grid(True)\n",
    "ax.set_xlabel('Number of cycles', fontsize = 11)\n",
    "ax.set_ylabel(amp + ' (' + ld_typ+') in ' + unit + '(log scaled)')\n",
    "ax.legend(loc='upper right', fontsize=11)\n",
    "fig.tight_layout()\n",
    "matplotlib.rcParams.update({'font.size': 11})"
   ]
  },
  {
   "cell_type": "code",
   "execution_count": 16,
   "metadata": {},
   "outputs": [
    {
     "data": {
      "image/png": "[encoded data removed]",
      "text/plain": [
       "<Figure size 432x288 with 1 Axes>"
      ]
     },
     "metadata": {
      "needs_background": "light"
     },
     "output_type": "display_data"
    }
   ],
   "source": [
    "fig, ax = plt.subplots()\n",
    "PlotWC.plot_pearl_chain_method(ax)\n",
    "\n",
    "ax.set_title('Initial data')\n",
    "ax.set_xlim(xlim_WL)\n",
    "ax.set_ylim(ylim_WL)\n",
    "ax.set_xscale('log')\n",
    "ax.set_yscale('log')\n",
    "ax.grid(True)\n",
    "ax.set_xlabel('Number of cycles', fontsize = 11)\n",
    "ax.set_ylabel(amp + ' (' + ld_typ+') in ' + unit + '(log scaled)')\n",
    "ax.legend(loc='upper right', fontsize=11)\n",
    "fig.tight_layout()\n",
    "matplotlib.rcParams.update({'font.size': 11})"
   ]
  },
  {
   "cell_type": "code",
   "execution_count": 17,
   "metadata": {},
   "outputs": [
    {
     "data": {
      "image/png": "[encoded data removed]",
      "text/plain": [
       "<Figure size 432x288 with 1 Axes>"
      ]
     },
     "metadata": {
      "needs_background": "light"
     },
     "output_type": "display_data"
    }
   ],
   "source": [
    "fig, ax = plt.subplots()\n",
    "PlotWC.plot_deviation(ax).plot_woehler_curve(ax)\n",
    "\n",
    "ax.set_title('Initial data')\n",
    "ax.set_xlim(xlim_WL)\n",
    "ax.set_ylim(ylim_WL)\n",
    "ax.set_xscale('log')\n",
    "ax.set_yscale('log')\n",
    "ax.grid(True)\n",
    "ax.set_xlabel('Number of cycles', fontsize = 11)\n",
    "ax.set_ylabel(amp + ' (' + ld_typ+') in ' + unit + '(log scaled)')\n",
    "ax.legend(loc='upper right', fontsize=11)\n",
    "fig.tight_layout()\n",
    "matplotlib.rcParams.update({'font.size': 11})"
   ]
  },
  {
   "cell_type": "code",
   "execution_count": 18,
   "metadata": {},
   "outputs": [
    {
     "data": {
      "image/png": "[encoded data removed]",
      "text/plain": [
       "<Figure size 432x288 with 1 Axes>"
      ]
     },
     "metadata": {
      "needs_background": "light"
     },
     "output_type": "display_data"
    }
   ],
   "source": [
    "fig, ax = plt.subplots()\n",
    "#PlotWC.plot_whole_woehler_curve_graph(0, ax)\n",
    "#PlotWC.plot_whole_woehler_curve_graph(woehler_curve.k, ax)\n",
    "PlotWC.plot_whole_woehler_curve_graph(2*woehler_curve.k-1, ax)\n",
    "ax.set_title('Initial data')\n",
    "ax.set_xlim(xlim_WL)\n",
    "ax.set_ylim(ylim_WL)\n",
    "ax.set_xscale('log')\n",
    "ax.set_yscale('log')\n",
    "ax.grid(True)\n",
    "ax.set_xlabel('Number of cycles', fontsize = 11)\n",
    "ax.set_ylabel(amp + ' (' + ld_typ+') in ' + unit + '(log scaled)')\n",
    "ax.legend(loc='upper right', fontsize=11)\n",
    "fig.tight_layout()\n",
    "matplotlib.rcParams.update({'font.size': 11})"
   ]
  },
  {
   "cell_type": "code",
   "execution_count": 19,
   "metadata": {},
   "outputs": [
    {
     "name": "stdout",
     "output_type": "stream",
     "text": [
      "Choose a plot type and execute the following cell to visualize the results:\n"
     ]
    },
    {
     "data": {
      "application/vnd.jupyter.widget-view+json": {
       "model_id": "4c1b2747f65d4418a2059b4eb593cc16",
       "version_major": 2,
       "version_minor": 0
      },
      "text/plain": [
       "RadioButtons(description='Plot Type', options=(('Probability plot of the finite zone', 'Probability plot of th…"
      ]
     },
     "metadata": {},
     "output_type": "display_data"
    }
   ],
   "source": [
    "w4 = WoehlerWidget.results_visual_probability_plot()\n",
    "print('Choose a plot type and execute the following cell to visualize the results:')\n",
    "w4"
   ]
  },
  {
   "cell_type": "code",
   "execution_count": 20,
   "metadata": {},
   "outputs": [],
   "source": [
    "#probability_plot_creator = ProbabilityPlotCreator(fatigue_data)\n",
    "#probability_plot = probability_plot_creator.maximum_like_procedure(fixed_param)"
   ]
  },
  {
   "cell_type": "markdown",
   "metadata": {
    "ein.tags": "worksheet-0",
    "slideshow": {
     "slide_type": "slide"
    }
   },
   "source": [
    "### Final Woehler-curve plot\n",
    "#### 7. Plot of the complete Woehler curve.\n",
    "#### Choose the value of $k_2$ to plot the figure."
   ]
  },
  {
   "cell_type": "code",
   "execution_count": 21,
   "metadata": {
    "autoscroll": false,
    "ein.hycell": false,
    "ein.tags": "worksheet-0",
    "slideshow": {
     "slide_type": "-"
    }
   },
   "outputs": [
    {
     "name": "stdout",
     "output_type": "stream",
     "text": [
      "Choose a value for k_2:\n"
     ]
    },
    {
     "data": {
      "application/vnd.jupyter.widget-view+json": {
       "model_id": "d5af32c144484e3e94907a54ea805155",
       "version_major": 2,
       "version_minor": 0
      },
      "text/plain": [
       "RadioButtons(description='runout-zone plot', options=(('k_2 = 0', 0), ('k_2 = k_1', 8.664596198055607), ('k_2 …"
      ]
     },
     "metadata": {},
     "output_type": "display_data"
    }
   ],
   "source": [
    "k_1 = woehler_curve.curve_parameters['k_1']\n",
    "w5 = WoehlerWidget.inf_plot(woehler_curve, k_1)\n",
    "print('Choose a value for k_2:')\n",
    "w5"
   ]
  },
  {
   "cell_type": "markdown",
   "metadata": {
    "ein.tags": "worksheet-0",
    "slideshow": {
     "slide_type": "-"
    }
   },
   "source": [
    "### 8. Choose the parameters to plot\n",
    "- Probit: $k_{regression}$, $\\frac{1}{T_N}$, $ND_{50}$, $SD_{50}$(Probit),$\\frac{1}{T_S}$(Probit)\n",
    "- Mali: Maximum likelihood parameters (including the parameters fixed by the user)"
   ]
  },
  {
   "cell_type": "code",
   "execution_count": 22,
   "metadata": {
    "autoscroll": false,
    "ein.hycell": false,
    "ein.tags": "worksheet-0",
    "slideshow": {
     "slide_type": "-"
    }
   },
   "outputs": [
    {
     "data": {
      "application/vnd.jupyter.widget-view+json": {
       "model_id": "4344f0ff8a4149a9ae44a6b6a043cf18",
       "version_major": 2,
       "version_minor": 0
      },
      "text/plain": [
       "RadioButtons(description='Visualization', options=('Mali', 'Probit'), style=DescriptionStyle(description_width…"
      ]
     },
     "metadata": {},
     "output_type": "display_data"
    }
   ],
   "source": [
    "w2 = WoehlerWidget.method_mali_probit()\n",
    "w2"
   ]
  },
  {
   "cell_type": "code",
   "execution_count": 23,
   "metadata": {
    "autoscroll": false,
    "ein.hycell": false,
    "ein.tags": "worksheet-0",
    "slideshow": {
     "slide_type": "-"
    }
   },
   "outputs": [
    {
     "ename": "AttributeError",
     "evalue": "'PlotWoehlerCurveData' object has no attribute 'runout_zone_method'",
     "output_type": "error",
     "traceback": [
      "\u001b[1;31m---------------------------------------------------------------------------\u001b[0m",
      "\u001b[1;31mAttributeError\u001b[0m                            Traceback (most recent call last)",
      "\u001b[1;32m<ipython-input-23-1f559973c4fa>\u001b[0m in \u001b[0;36m<module>\u001b[1;34m\u001b[0m\n\u001b[0;32m      4\u001b[0m     \u001b[0mprint\u001b[0m\u001b[1;33m(\u001b[0m\u001b[1;34m\"\\nparameters for visualization\"\u001b[0m\u001b[1;33m)\u001b[0m\u001b[1;33m\u001b[0m\u001b[1;33m\u001b[0m\u001b[0m\n\u001b[0;32m      5\u001b[0m \u001b[1;32melse\u001b[0m\u001b[1;33m:\u001b[0m\u001b[1;33m\u001b[0m\u001b[1;33m\u001b[0m\u001b[0m\n\u001b[1;32m----> 6\u001b[1;33m     \u001b[0mSD50\u001b[0m\u001b[1;33m,\u001b[0m \u001b[0mND50\u001b[0m\u001b[1;33m,\u001b[0m \u001b[0mTS\u001b[0m \u001b[1;33m=\u001b[0m \u001b[0mPlotWC\u001b[0m\u001b[1;33m.\u001b[0m\u001b[0mrunout_zone_method\u001b[0m\u001b[1;33m(\u001b[0m\u001b[0mwoehler_curve\u001b[0m\u001b[1;33m,\u001b[0m \u001b[0mmethod\u001b[0m\u001b[1;33m=\u001b[0m\u001b[0mw2\u001b[0m\u001b[1;33m.\u001b[0m\u001b[0mvalue\u001b[0m\u001b[1;33m,\u001b[0m \u001b[0mslope_chosen\u001b[0m\u001b[1;33m=\u001b[0m\u001b[0mw5\u001b[0m\u001b[1;33m.\u001b[0m\u001b[0mvalue\u001b[0m\u001b[1;33m)\u001b[0m\u001b[1;33m\u001b[0m\u001b[1;33m\u001b[0m\u001b[0m\n\u001b[0m\u001b[0;32m      7\u001b[0m     \u001b[0m_\u001b[0m \u001b[1;33m=\u001b[0m \u001b[0mPlotWC\u001b[0m\u001b[1;33m.\u001b[0m\u001b[0mfinal_curve_plot\u001b[0m\u001b[1;33m(\u001b[0m\u001b[0mwoehler_curve\u001b[0m\u001b[1;33m,\u001b[0m \u001b[0mSD50\u001b[0m\u001b[1;33m,\u001b[0m \u001b[0mND50\u001b[0m\u001b[1;33m,\u001b[0m \u001b[0mTS\u001b[0m\u001b[1;33m,\u001b[0m \u001b[0mw5\u001b[0m\u001b[1;33m.\u001b[0m\u001b[0mvalue\u001b[0m\u001b[1;33m,\u001b[0m \u001b[0mw2\u001b[0m\u001b[1;33m.\u001b[0m\u001b[0mvalue\u001b[0m\u001b[1;33m,\u001b[0m \u001b[0mamp\u001b[0m\u001b[1;33m,\u001b[0m \u001b[0mld_typ\u001b[0m\u001b[1;33m,\u001b[0m \u001b[0munit\u001b[0m\u001b[1;33m,\u001b[0m \u001b[0mxlim_WL\u001b[0m\u001b[1;33m,\u001b[0m \u001b[0mylim_WL\u001b[0m\u001b[1;33m,\u001b[0m \u001b[0mdefault\u001b[0m\u001b[1;33m)\u001b[0m\u001b[1;33m\u001b[0m\u001b[1;33m\u001b[0m\u001b[0m\n",
      "\u001b[1;31mAttributeError\u001b[0m: 'PlotWoehlerCurveData' object has no attribute 'runout_zone_method'"
     ]
    }
   ],
   "source": [
    "if len(woehler_curve.fatigue_data.ld_lvls_inf[0])<2 and w2.value == \"Probit\":\n",
    "    print(\"Warning:\\n\")\n",
    "    print(\"Not enough load levels in the infinite zone for the probit method, please choose the Mali\")\n",
    "    print(\"\\nparameters for visualization\")\n",
    "else:\n",
    "    SD50, ND50, TS = PlotWC.runout_zone_method(woehler_curve, method=w2.value, slope_chosen=w5.value)\n",
    "    _ = PlotWC.final_curve_plot(woehler_curve, SD50, ND50, TS, w5.value, w2.value, amp, ld_typ, unit, xlim_WL, ylim_WL, default)"
   ]
  },
  {
   "cell_type": "markdown",
   "metadata": {
    "ein.tags": "worksheet-0",
    "slideshow": {
     "slide_type": "slide"
    }
   },
   "source": [
    "## BIC\n",
    "#### Bayesian Information Criterion: is a criterion for model selection among a finite set of models;\n",
    "#### the model with the lowest BIC is preferred."
   ]
  },
  {
   "cell_type": "code",
   "execution_count": null,
   "metadata": {
    "autoscroll": false,
    "ein.hycell": false,
    "ein.tags": "worksheet-0",
    "slideshow": {
     "slide_type": "-"
    }
   },
   "outputs": [],
   "source": [
    "sum_lolli = woehler_curve_creator.mali_sum_lolli(woehler_curve.curve_parameters['SD_50'], woehler_curve.curve_parameters['1/TS'], \n",
    "                                        woehler_curve.curve_parameters['k_1'], woehler_curve.curve_parameters['ND_50'], \n",
    "                                        woehler_curve.curve_parameters['1/TN'], woehler_curve.fatigue_data.fractures,\n",
    "                                        woehler_curve.fatigue_data.zone_inf, woehler_curve.fatigue_data.load_cycle_limit)\n",
    "\n",
    "n_data_pt = data.shape[0]\n",
    "bic = WC_data.bayes_inf_crit(sum_lolli, WC_data.p_opt, n_data_pt)\n",
    "print('\\nBIC =',bic)"
   ]
  },
  {
   "cell_type": "markdown",
   "metadata": {
    "ein.tags": "worksheet-0",
    "slideshow": {
     "slide_type": "slide"
    }
   },
   "source": [
    "## Export variable data"
   ]
  },
  {
   "cell_type": "code",
   "execution_count": null,
   "metadata": {
    "autoscroll": false,
    "ein.hycell": false,
    "ein.tags": "worksheet-0",
    "slideshow": {
     "slide_type": "-"
    }
   },
   "outputs": [],
   "source": [
    "with open('param_dict.json', 'w') as fp:\n",
    "    json.dump({'Mali_%dp_result_estimated'%len(WC_data.p_opt):estim_param, \n",
    "               'Mali_%dp_result_fixed'%len(WC_data.p_opt):fixed_param,\n",
    "               'Mali_2p_result':WC_data.Mali_2p_result,\n",
    "               'Probit_result':WC_data.Probit_result, 'k_reg': WC_data.k, '1/TN prl-chn':WC_data.TN,\n",
    "               'BIC':bic}, fp)"
   ]
  },
  {
   "cell_type": "markdown",
   "metadata": {
    "ein.tags": "worksheet-0",
    "slideshow": {
     "slide_type": "subslide"
    }
   },
   "source": [
    "## Reload variable data"
   ]
  },
  {
   "cell_type": "code",
   "execution_count": null,
   "metadata": {
    "autoscroll": false,
    "ein.hycell": false,
    "ein.tags": "worksheet-0",
    "slideshow": {
     "slide_type": "-"
    }
   },
   "outputs": [],
   "source": [
    "with open('param_dict.json', 'r') as fp:\n",
    "    dict_import = json.load(fp)\n",
    "dict_import"
   ]
  }
 ],
 "metadata": {
  "celltoolbar": "Slideshow",
  "kernelspec": {
   "display_name": "Python 3",
   "language": "python",
   "name": "python3"
  },
  "language_info": {
   "codemirror_mode": {
    "name": "ipython",
    "version": 3
   },
   "file_extension": ".py",
   "mimetype": "text/x-python",
   "name": "python",
   "nbconvert_exporter": "python",
   "pygments_lexer": "ipython3",
   "version": "3.6.9"
  },
  "name": "woehler_analyzer.ipynb"
 },
 "nbformat": 4,
 "nbformat_minor": 2
}
