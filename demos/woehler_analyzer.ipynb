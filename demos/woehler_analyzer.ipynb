{
 "cells": [
  {
   "cell_type": "markdown",
   "metadata": {},
   "source": [
    "# Wöhler analyzing functions\n",
    "Developed by Mustapha Kassem in scope of a master thesis at TU München"
   ]
  },
  {
   "cell_type": "code",
   "execution_count": null,
   "metadata": {},
   "outputs": [],
   "source": [
    "import copy\n",
    "import numpy as np\n",
    "import pandas as pd\n",
    "import plotly.express as px\n",
    "import plotly.graph_objects as go\n",
    "\n",
    "import pylife.materialdata.woehler as woehler\n",
    "from pylife.materiallaws import WoehlerCurve"
   ]
  },
  {
   "cell_type": "markdown",
   "metadata": {},
   "source": [
    "The Wölhler analysis module takes fatigue data, i. e. values of the form `cycles` `load` `fracture` that have been measured by a fatigue testing lab and analyze it to return the parameters of a Wöhler curve. \n",
    "\n",
    "These are:\n",
    "* the slope `k_1`\n",
    "* the cycle number of the endurance limit `ND`\n",
    "* the load level of the endurance limit `SD`\n",
    "* the scatter line cycle (lifetime) direction `TN`\n",
    "* the scatter in load direction `TS`\n",
    "\n",
    "We will see several methods to perform the analysis below."
   ]
  },
  {
   "cell_type": "markdown",
   "metadata": {},
   "source": [
    "## Data import\n",
    "### Data is made up of two columns:\n",
    " * The first column is made up of the load values\n",
    " * The scond column is made up of the load-cycle values\n",
    " "
   ]
  },
  {
   "cell_type": "code",
   "execution_count": null,
   "metadata": {},
   "outputs": [],
   "source": [
    "file_name = 'data/woehler/fatigue-data-plain.csv'\n"
   ]
  },
  {
   "cell_type": "code",
   "execution_count": null,
   "metadata": {},
   "outputs": [],
   "source": [
    "df = pd.read_csv(file_name, sep='\\t')\n",
    "df.columns=['load', 'cycles']\n",
    "px.scatter(df, x='cycles', y='load', log_x=True, log_y=True)"
   ]
  },
  {
   "cell_type": "markdown",
   "metadata": {},
   "source": [
    "### Guessing the fractures"
   ]
  },
  {
   "cell_type": "markdown",
   "metadata": {},
   "source": [
    "In this case there is no information if the specimen was a runout or a fracture. We can guess it based on the value for the `load_cycle_limit` which defaults to `1e7`."
   ]
  },
  {
   "cell_type": "code",
   "execution_count": null,
   "metadata": {},
   "outputs": [],
   "source": [
    "load_cycle_limit = None # or for example 1e7\n",
    "df = woehler.determine_fractures(df, load_cycle_limit)\n",
    "px.scatter(df, x='cycles', y='load', color='fracture', log_x=True, log_y=True)"
   ]
  },
  {
   "cell_type": "markdown",
   "metadata": {},
   "source": [
    "## Analysis"
   ]
  },
  {
   "cell_type": "markdown",
   "metadata": {},
   "source": [
    "### Genaral preparations"
   ]
  },
  {
   "cell_type": "markdown",
   "metadata": {},
   "source": [
    "Before we do the actual analysis, we make some preparations like, guessing the initial `fatigue_limit`, distinguishing between `runouts` and `fractures` and between `infinite_zone` and `finite_zone`."
   ]
  },
  {
   "cell_type": "code",
   "execution_count": null,
   "metadata": {},
   "outputs": [],
   "source": [
    "fatigue_data = df.fatigue_data\n",
    "fatigue_data.fatigue_limit"
   ]
  },
  {
   "cell_type": "markdown",
   "metadata": {},
   "source": [
    "We can distinguish between the finite and infinite zones."
   ]
  },
  {
   "cell_type": "code",
   "execution_count": null,
   "metadata": {},
   "outputs": [],
   "source": [
    "infinite_zone = fatigue_data.infinite_zone\n",
    "finite_zone = fatigue_data.finite_zone\n",
    "\n",
    "go.Figure([\n",
    "    go.Scatter(x=finite_zone.cycles, y=finite_zone.load, mode='markers', name='finite'),\n",
    "    go.Scatter(x=infinite_zone.cycles, y=infinite_zone.load, mode='markers', name='infinite'),\n",
    "    go.Scatter(x=[df.cycles.min(), df.cycles.max()], y=[fatigue_data.fatigue_limit]*2, mode='lines', name='fatigue limit')\n",
    "]).update_xaxes(type='log').update_yaxes(type='log').update_layout(xaxis_title='Cycles', yaxis_title='Load')"
   ]
  },
  {
   "cell_type": "markdown",
   "metadata": {},
   "source": [
    "We can separate fractures from runouts."
   ]
  },
  {
   "cell_type": "code",
   "execution_count": null,
   "metadata": {},
   "outputs": [],
   "source": [
    "fractures = fatigue_data.fractures\n",
    "runouts = fatigue_data.runouts\n",
    "\n",
    "fig = go.Figure([\n",
    "    go.Scatter(x=fractures.cycles, y=fractures.load, mode='markers', name='fractures'),\n",
    "    go.Scatter(x=runouts.cycles, y=runouts.load, mode='markers', name='runouts'),\n",
    "    go.Scatter(x=[df.cycles.min(), df.cycles.max()], y=[fatigue_data.fatigue_limit]*2, mode='lines', name='fatigue limit')\n",
    "]).update_xaxes(type='log').update_yaxes(type='log').update_layout(xaxis_title='Cycles', yaxis_title='Load')\n",
    "fig"
   ]
  },
  {
   "cell_type": "markdown",
   "metadata": {},
   "source": [
    "### Elementary analysis\n",
    "\n",
    "The `Elementary` analysis is the first step of the analysis. It determines the slope `k_1` in the finite region and the scatter in cycle region `TN` using the pearl chain method.\n",
    "\n",
    "The endurance limit in load direction `SN` is guessed from the tentative fatigue limit. The scatter in load direction `TS` is transformed from `TN` using the slope `k_1`.\n"
   ]
  },
  {
   "cell_type": "code",
   "execution_count": null,
   "metadata": {},
   "outputs": [],
   "source": [
    "elementary_result = woehler.Elementary(fatigue_data).analyze()\n",
    "elementary_result"
   ]
  },
  {
   "cell_type": "code",
   "execution_count": null,
   "metadata": {},
   "outputs": [],
   "source": [
    "wc = elementary_result.woehler\n",
    "\n",
    "cycles = np.logspace(np.log10(df.cycles.min()), np.log10(df.cycles.max()), 100)\n",
    "elementary_fig = copy.deepcopy(fig)\n",
    "\n",
    "elementary_fig.add_scatter(x=cycles, y=wc.basquin_load(cycles), mode='lines', name='Elementary 50%')\n",
    "elementary_fig.add_scatter(x=cycles, y=wc.basquin_load(cycles, failure_probability=0.1), \n",
    "                           mode='lines', name='Elementary 10%')\n",
    "elementary_fig.add_scatter(x=cycles, y=wc.basquin_load(cycles, failure_probability=0.9), \n",
    "                           mode='lines', name='Elementary 90%')\n",
    "\n",
    "elementary_fig"
   ]
  },
  {
   "cell_type": "markdown",
   "metadata": {},
   "source": [
    "### Probit\n"
   ]
  },
  {
   "cell_type": "code",
   "execution_count": null,
   "metadata": {},
   "outputs": [],
   "source": [
    "probit_result = woehler.Probit(fatigue_data).analyze()\n",
    "probit_result"
   ]
  },
  {
   "cell_type": "code",
   "execution_count": null,
   "metadata": {},
   "outputs": [],
   "source": [
    "wc = probit_result.woehler\n",
    "\n",
    "cycles = np.logspace(np.log10(df.cycles.min()), np.log10(df.cycles.max()), 100)\n",
    "probit_fig = copy.deepcopy(fig)\n",
    "probit_fig.add_scatter(x=cycles, y=wc.basquin_load(cycles), mode='lines', name='Probit 50%')\n",
    "probit_fig.add_scatter(x=cycles, y=wc.basquin_load(cycles, failure_probability=0.1), mode='lines', name='Probit 10%')\n",
    "probit_fig.add_scatter(x=cycles, y=wc.basquin_load(cycles, failure_probability=0.9), mode='lines', name='Probit 90%')\n",
    "\n",
    "probit_fig"
   ]
  },
  {
   "cell_type": "markdown",
   "metadata": {},
   "source": [
    "### Maximum Likelihood Infinite"
   ]
  },
  {
   "cell_type": "markdown",
   "metadata": {},
   "source": [
    "The Maximum Likelihood Infinite method takes the parameters for the finite regime fitted by `Elementary` (`k_1`, `TN`) and fits the ones for the infinite regime (`SD`, `ND`, `TS`), hence the name."
   ]
  },
  {
   "cell_type": "code",
   "execution_count": null,
   "metadata": {},
   "outputs": [],
   "source": [
    "maxlike_inf_result = woehler.MaxLikeInf(fatigue_data).analyze()\n",
    "maxlike_inf_result"
   ]
  },
  {
   "cell_type": "code",
   "execution_count": null,
   "metadata": {},
   "outputs": [],
   "source": [
    "wc = maxlike_inf_result.woehler\n",
    "\n",
    "cycles = np.logspace(np.log10(df.cycles.min()), np.log10(df.cycles.max()), 100)\n",
    "maxlike_inf_fig = copy.deepcopy(fig)\n",
    "maxlike_inf_fig.add_scatter(x=cycles, y=wc.basquin_load(cycles), mode='lines', name='MaxLikeInf 50%')\n",
    "maxlike_inf_fig.add_scatter(x=cycles, y=wc.basquin_load(cycles, failure_probability=0.1), mode='lines', name='MaxLikeInf 10%')\n",
    "maxlike_inf_fig.add_scatter(x=cycles, y=wc.basquin_load(cycles, failure_probability=0.9), mode='lines', name='MaxLikeInf 90%')\n",
    "\n",
    "maxlike_inf_fig"
   ]
  },
  {
   "cell_type": "markdown",
   "metadata": {},
   "source": [
    "### Maximum Likelihood Full"
   ]
  },
  {
   "cell_type": "markdown",
   "metadata": {},
   "source": [
    "The Maximum Likelihood Full method just takes the elementary result as starting values but fits all the parameters."
   ]
  },
  {
   "cell_type": "code",
   "execution_count": null,
   "metadata": {},
   "outputs": [],
   "source": [
    "maxlike_full_result = woehler.MaxLikeFull(fatigue_data).analyze()\n",
    "maxlike_full_result"
   ]
  },
  {
   "cell_type": "code",
   "execution_count": null,
   "metadata": {},
   "outputs": [],
   "source": [
    "wc = maxlike_full_result.woehler\n",
    "\n",
    "cycles = np.logspace(np.log10(df.cycles.min()), np.log10(df.cycles.max()), 100)\n",
    "maxlike_full_fig = copy.deepcopy(fig)\n",
    "maxlike_full_fig.add_scatter(x=cycles, y=wc.basquin_load(cycles), mode='lines', name='MaxLikeFull 50%')\n",
    "maxlike_full_fig.add_scatter(x=cycles, y=wc.basquin_load(cycles, failure_probability=0.1), mode='lines', name='MaxLikeFull 10%')\n",
    "maxlike_full_fig.add_scatter(x=cycles, y=wc.basquin_load(cycles, failure_probability=0.9), mode='lines', name='MaxLikeFull 90%')\n",
    "\n",
    "maxlike_full_fig"
   ]
  },
  {
   "cell_type": "markdown",
   "metadata": {},
   "source": [
    "### Maximum Likelihood Full with fixed parameters"
   ]
  },
  {
   "cell_type": "markdown",
   "metadata": {},
   "source": [
    "Sometimes it is desirable to pin one or more parameters of the Wöhler curve to a predefined value based on assumptions of the Wöhler curve. You can archive that by handing the fixed parameters to the `MaxLikeFull` object using the `fixed_parameters` argument."
   ]
  },
  {
   "cell_type": "code",
   "execution_count": null,
   "metadata": {},
   "outputs": [],
   "source": [
    "fixed_parameters = {\n",
    "    'k_1': 7.,\n",
    "    'ND': 1e6\n",
    "}\n",
    "\n",
    "maxlike_fixed_result = woehler.MaxLikeFull(fatigue_data).analyze(fixed_parameters=fixed_parameters)\n",
    "maxlike_fixed_result"
   ]
  },
  {
   "cell_type": "code",
   "execution_count": null,
   "metadata": {},
   "outputs": [],
   "source": [
    "wc = maxlike_fixed_result.woehler\n",
    "\n",
    "cycles = np.logspace(np.log10(df.cycles.min()), np.log10(df.cycles.max()), 100)\n",
    "maxlike_fixed_fig = copy.deepcopy(fig)\n",
    "maxlike_fixed_fig.add_scatter(x=cycles, y=wc.basquin_load(cycles), mode='lines', name='MaxLikefixed 50%')\n",
    "maxlike_fixed_fig.add_scatter(x=cycles, y=wc.basquin_load(cycles, failure_probability=0.1), mode='lines', name='MaxLikeFixed 10%')\n",
    "maxlike_fixed_fig.add_scatter(x=cycles, y=wc.basquin_load(cycles, failure_probability=0.9), mode='lines', name='MaxLikeFixed 90%')\n",
    "\n",
    "maxlike_fixed_fig"
   ]
  },
  {
   "cell_type": "code",
   "execution_count": null,
   "metadata": {},
   "outputs": [],
   "source": []
  }
 ],
 "metadata": {
  "celltoolbar": "Slideshow",
  "kernelspec": {
   "display_name": "Python 3 (ipykernel)",
   "language": "python",
   "name": "python3"
  },
  "language_info": {
   "codemirror_mode": {
    "name": "ipython",
    "version": 3
   },
   "file_extension": ".py",
   "mimetype": "text/x-python",
   "name": "python",
   "nbconvert_exporter": "python",
   "pygments_lexer": "ipython3"
  },
  "name": "woehler_analyzer.ipynb"
 },
 "nbformat": 4,
 "nbformat_minor": 2
}
