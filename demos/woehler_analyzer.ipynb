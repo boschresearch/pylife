{
 "cells": [
  {
   "cell_type": "markdown",
   "metadata": {
    "ein.tags": "worksheet-0",
    "slideshow": {
     "slide_type": "slide"
    }
   },
   "source": [
    "# Wöhler analyzing tool\n",
    "Developed by Mustapha Kassem in scope of a master thesis at TU München"
   ]
  },
  {
   "cell_type": "markdown",
   "metadata": {
    "ein.tags": "worksheet-0",
    "slideshow": {
     "slide_type": "slide"
    }
   },
   "source": [
    "## Pylife Woehler-curve evaluation script"
   ]
  },
  {
   "cell_type": "markdown",
   "metadata": {
    "ein.tags": "worksheet-0",
    "slideshow": {
     "slide_type": "slide"
    }
   },
   "source": [
    "### Initialization"
   ]
  },
  {
   "cell_type": "code",
   "execution_count": 1,
   "metadata": {
    "autoscroll": false,
    "ein.hycell": false,
    "ein.tags": "worksheet-0",
    "slideshow": {
     "slide_type": "-"
    }
   },
   "outputs": [],
   "source": [
    "import numpy as np\n",
    "import pandas as pd\n",
    "import numpy.ma as ma\n",
    "from scipy import stats, optimize\n",
    "import mystic as my\n",
    "import matplotlib\n",
    "import matplotlib.pyplot as plt\n",
    "import matplotlib.patches as patches\n",
    "from os import path\n",
    "import io\n",
    "import sys, os\n",
    "import json\n",
    "\n",
    "sys.path.insert(0, os.path.abspath('..'))\n",
    "\n",
    "from pylife.materialdata.woehler.fatigue_data import FatigueData\n",
    "from pylife.materialdata.woehler.woehler_curve_creator import WoehlerCurveCreator\n",
    "from pylife.materialdata.woehler.probability_plot_creator import ProbabilityPlotCreator\n",
    "from pylife.materialdata.woehler.woehler_curve_diagrams import WoehlerCurveDiagrams\n",
    "from pylife.materialdata.woehler.plot_probability_plot_finite import PlotProbabilityPlotFinite\n",
    "from pylife.materialdata.woehler.plot_probability_plot_infinite import PlotProbabilityPlotInfinite\n",
    "from pylife.materialdata.woehler.woehler_curve_widgets import WoehlerCurveWidgets\n",
    "from pylife.materialdata.woehler.data_file_display import DataFileDisplay\n",
    "from pylife.materialdata.woehler.woehler_curve_creator_options import  WoehlerCurveCreatorOptions\n",
    "from pylife.materialdata.woehler.woehler_curve_data_plotter import  WoehlerCurveDataPlotter\n",
    "from pylife.materialdata.woehler.whole_woehler_curve_plotter import  WholeWoehlerCurvePlotter"
   ]
  },
  {
   "cell_type": "code",
   "execution_count": 2,
   "metadata": {
    "autoscroll": false,
    "ein.hycell": false,
    "ein.tags": "worksheet-0",
    "slideshow": {
     "slide_type": "-"
    }
   },
   "outputs": [],
   "source": [
    "from __future__ import print_function\n",
    "from ipywidgets import interact, interactive, fixed, interact_manual\n",
    "import ipywidgets as widgets\n",
    "from IPython.display import display\n",
    "import warnings\n",
    "import pdb"
   ]
  },
  {
   "cell_type": "markdown",
   "metadata": {
    "ein.tags": "worksheet-0",
    "slideshow": {
     "slide_type": "slide"
    }
   },
   "source": [
    "### Data import\n",
    "#### Data is made up of two columns:\n",
    " * The first column is made up of the load values\n",
    " * The scond column is made up of the load-cycle values\n",
    " "
   ]
  },
  {
   "cell_type": "code",
   "execution_count": 3,
   "metadata": {
    "autoscroll": false,
    "ein.hycell": false,
    "ein.tags": "worksheet-0",
    "slideshow": {
     "slide_type": "-"
    }
   },
   "outputs": [],
   "source": [
    "file_name = 'woehler-test-data.csv'\n"
   ]
  },
  {
   "cell_type": "markdown",
   "metadata": {
    "ein.tags": "worksheet-0",
    "slideshow": {
     "slide_type": "subslide"
    }
   },
   "source": [
    "##### Transforming data in excel to python arrays"
   ]
  },
  {
   "cell_type": "code",
   "execution_count": 4,
   "metadata": {
    "autoscroll": false,
    "ein.hycell": false,
    "ein.tags": "worksheet-0",
    "slideshow": {
     "slide_type": "-"
    }
   },
   "outputs": [],
   "source": [
    "data = pd.read_csv(file_name, sep='\\t')\n",
    "data.columns=['loads', 'cycles']\n",
    "rb = DataFileDisplay(data)"
   ]
  },
  {
   "cell_type": "markdown",
   "metadata": {
    "ein.tags": "worksheet-0",
    "slideshow": {
     "slide_type": "fragment"
    }
   },
   "source": [
    "##### For automization purposes\n",
    "data = pd.read_excel('../data/Test_dat.xlsx')\n",
    "data.columns=['loads', 'cycles']"
   ]
  },
  {
   "cell_type": "markdown",
   "metadata": {
    "ein.tags": "worksheet-0",
    "slideshow": {
     "slide_type": "slide"
    }
   },
   "source": [
    "#### 2. Enter the load cycle limit (The load-cycle value that seperates Fractures from Run-outs):\n",
    "##### Note: in case the load cycle limit is the highest number found in the column set it to *max(data[:,1])*"
   ]
  },
  {
   "cell_type": "code",
   "execution_count": 5,
   "metadata": {
    "autoscroll": false,
    "ein.hycell": false,
    "ein.tags": "worksheet-0",
    "slideshow": {
     "slide_type": "-"
    }
   },
   "outputs": [],
   "source": [
    "ld_cyc_lim = data['cycles'].max()\n",
    "#ld_cyc_lim = 10e6"
   ]
  },
  {
   "cell_type": "markdown",
   "metadata": {
    "ein.tags": "worksheet-0",
    "slideshow": {
     "slide_type": "slide"
    }
   },
   "source": [
    "## Parameters"
   ]
  },
  {
   "cell_type": "markdown",
   "metadata": {
    "ein.tags": "worksheet-0",
    "slideshow": {
     "slide_type": "fragment"
    }
   },
   "source": [
    "#### 3. Fill in the fixed parameter values. \n",
    "#### The empty parameters are the ones to be estimated.\n",
    "##### Note: don't rerun the cell after typing the values"
   ]
  },
  {
   "cell_type": "code",
   "execution_count": 6,
   "metadata": {},
   "outputs": [],
   "source": [
    "fatigue_data = FatigueData(data, ld_cyc_lim)\n",
    "woehler_curve_creator_options = WoehlerCurveCreatorOptions(fatigue_data)"
   ]
  },
  {
   "cell_type": "code",
   "execution_count": 7,
   "metadata": {
    "autoscroll": false,
    "ein.hycell": false,
    "ein.tags": "worksheet-0",
    "slideshow": {
     "slide_type": "-"
    }
   },
   "outputs": [],
   "source": [
    "woehler_curve_widgets = WoehlerCurveWidgets()"
   ]
  },
  {
   "cell_type": "markdown",
   "metadata": {
    "ein.tags": "worksheet-0",
    "slideshow": {
     "slide_type": "slide"
    }
   },
   "source": [
    "#### 4. Variable definition of class WoehlerCurve:"
   ]
  },
  {
   "cell_type": "markdown",
   "metadata": {
    "ein.tags": "worksheet-0",
    "slideshow": {
     "slide_type": "slide"
    }
   },
   "source": [
    "## Visualization of Results\n",
    "#### 5. Enter necessary description to personalize the diagram:\n",
    " * For a default diagram description set the value default = 1\n",
    " * Enter the units for the axes as a string variable [amp, ld_typ, unit]"
   ]
  },
  {
   "cell_type": "markdown",
   "metadata": {
    "ein.tags": "worksheet-0",
    "slideshow": {
     "slide_type": "-"
    }
   },
   "source": [
    "##### x- and y-axis are dynamically scaled to fit the data in a diagram. If the User wishes to change them:\n",
    " * Enter the limits for the x- and y-axis [xlim_WL and ylim_WL]\n",
    " <br>\n",
    "(example: xlim_WL = (4E5, 8E10) )"
   ]
  },
  {
   "cell_type": "code",
   "execution_count": 8,
   "metadata": {},
   "outputs": [],
   "source": [
    "woehler_curve_data_plotter = WoehlerCurveDataPlotter(woehler_curve_creator_options.woehler_curve)"
   ]
  },
  {
   "cell_type": "markdown",
   "metadata": {
    "ein.tags": "worksheet-0",
    "slideshow": {
     "slide_type": "-"
    }
   },
   "source": [
    "#### 6. Choose the plot type to be visualized in the following cell"
   ]
  },
  {
   "cell_type": "code",
   "execution_count": 9,
   "metadata": {},
   "outputs": [],
   "source": [
    "whole_woeler_curve_plotter = WholeWoehlerCurvePlotter(woehler_curve_creator_options.woehler_curve)"
   ]
  },
  {
   "cell_type": "code",
   "execution_count": 10,
   "metadata": {},
   "outputs": [
    {
     "name": "stdout",
     "output_type": "stream",
     "text": [
      "Choose a plot type and execute the following cell to visualize the results:\n"
     ]
    },
    {
     "data": {
      "application/vnd.jupyter.widget-view+json": {
       "model_id": "b108e209f79c46888ff03f69102604bc",
       "version_major": 2,
       "version_minor": 0
      },
      "text/plain": [
       "RadioButtons(description='Plot Type', options=(('Probability plot of the finite zone', 'Probability plot of th…"
      ]
     },
     "metadata": {},
     "output_type": "display_data"
    }
   ],
   "source": [
    "w4 = woehler_curve_widgets.results_visual_probability_plot()\n",
    "print('Choose a plot type and execute the following cell to visualize the results:')\n",
    "w4"
   ]
  },
  {
   "cell_type": "code",
   "execution_count": 11,
   "metadata": {},
   "outputs": [],
   "source": [
    "probability_plot_creator = ProbabilityPlotCreator(fatigue_data)\n",
    "finite_probability_plot = probability_plot_creator.probability_plot_finite()\n",
    "infinite_probability_plot = probability_plot_creator.probability_plot_infinite()\n",
    "plot_probability_plot_finite = PlotProbabilityPlotFinite(finite_probability_plot)\n",
    "plot_probability_plot_finite.plot_probability_plot()\n",
    "plot_probabilty_plot_infinite = PlotProbabilityPlotInfinite(infinite_probability_plot)\n",
    "plot_probabilty_plot_infinite.plot_probability_plot()"
   ]
  },
  {
   "cell_type": "markdown",
   "metadata": {
    "ein.tags": "worksheet-0",
    "slideshow": {
     "slide_type": "slide"
    }
   },
   "source": [
    "### Final Woehler-curve plot\n",
    "#### 7. Plot of the complete Woehler curve.\n",
    "#### Choose the value of $k_2$ to plot the figure."
   ]
  },
  {
   "cell_type": "code",
   "execution_count": null,
   "metadata": {
    "autoscroll": false,
    "ein.hycell": false,
    "ein.tags": "worksheet-0",
    "slideshow": {
     "slide_type": "-"
    }
   },
   "outputs": [],
   "source": [
    "k_1 = woehler_curve.curve_parameters['k_1']\n",
    "w5 = WoehlerWidget.inf_plot(woehler_curve, k_1)\n",
    "print('Choose a value for k_2:')\n",
    "w5"
   ]
  },
  {
   "cell_type": "markdown",
   "metadata": {
    "ein.tags": "worksheet-0",
    "slideshow": {
     "slide_type": "-"
    }
   },
   "source": [
    "### 8. Choose the parameters to plot\n",
    "- Probit: $k_{regression}$, $\\frac{1}{T_N}$, $ND_{50}$, $SD_{50}$(Probit),$\\frac{1}{T_S}$(Probit)\n",
    "- Mali: Maximum likelihood parameters (including the parameters fixed by the user)"
   ]
  },
  {
   "cell_type": "code",
   "execution_count": null,
   "metadata": {
    "autoscroll": false,
    "ein.hycell": false,
    "ein.tags": "worksheet-0",
    "slideshow": {
     "slide_type": "-"
    }
   },
   "outputs": [],
   "source": [
    "w2 = WoehlerWidget.method_mali_probit()\n",
    "w2"
   ]
  },
  {
   "cell_type": "code",
   "execution_count": null,
   "metadata": {
    "autoscroll": false,
    "ein.hycell": false,
    "ein.tags": "worksheet-0",
    "slideshow": {
     "slide_type": "-"
    }
   },
   "outputs": [],
   "source": [
    "if len(woehler_curve.fatigue_data.ld_lvls_inf[0])<2 and w2.value == \"Probit\":\n",
    "    print(\"Warning:\\n\")\n",
    "    print(\"Not enough load levels in the infinite zone for the probit method, please choose the Mali\")\n",
    "    print(\"\\nparameters for visualization\")\n",
    "else:\n",
    "    SD50, ND50, TS = PlotWC.runout_zone_method(woehler_curve, method=w2.value, slope_chosen=w5.value)\n",
    "    _ = PlotWC.final_curve_plot(woehler_curve, SD50, ND50, TS, w5.value, w2.value, amp, ld_typ, unit, xlim_WL, ylim_WL, default)"
   ]
  },
  {
   "cell_type": "markdown",
   "metadata": {
    "ein.tags": "worksheet-0",
    "slideshow": {
     "slide_type": "slide"
    }
   },
   "source": [
    "## BIC\n",
    "#### Bayesian Information Criterion: is a criterion for model selection among a finite set of models;\n",
    "#### the model with the lowest BIC is preferred."
   ]
  },
  {
   "cell_type": "code",
   "execution_count": null,
   "metadata": {
    "autoscroll": false,
    "ein.hycell": false,
    "ein.tags": "worksheet-0",
    "slideshow": {
     "slide_type": "-"
    }
   },
   "outputs": [],
   "source": [
    "sum_lolli = woehler_curve_creator.mali_sum_lolli(woehler_curve.curve_parameters['SD_50'], woehler_curve.curve_parameters['1/TS'], \n",
    "                                        woehler_curve.curve_parameters['k_1'], woehler_curve.curve_parameters['ND_50'], \n",
    "                                        woehler_curve.curve_parameters['1/TN'], woehler_curve.fatigue_data.fractures,\n",
    "                                        woehler_curve.fatigue_data.zone_inf, woehler_curve.fatigue_data.load_cycle_limit)\n",
    "\n",
    "n_data_pt = data.shape[0]\n",
    "bic = WC_data.bayes_inf_crit(sum_lolli, WC_data.p_opt, n_data_pt)\n",
    "print('\\nBIC =',bic)"
   ]
  },
  {
   "cell_type": "markdown",
   "metadata": {
    "ein.tags": "worksheet-0",
    "slideshow": {
     "slide_type": "slide"
    }
   },
   "source": [
    "## Export variable data"
   ]
  },
  {
   "cell_type": "code",
   "execution_count": null,
   "metadata": {
    "autoscroll": false,
    "ein.hycell": false,
    "ein.tags": "worksheet-0",
    "slideshow": {
     "slide_type": "-"
    }
   },
   "outputs": [],
   "source": [
    "with open('param_dict.json', 'w') as fp:\n",
    "    json.dump({'Mali_%dp_result_estimated'%len(WC_data.p_opt):estim_param, \n",
    "               'Mali_%dp_result_fixed'%len(WC_data.p_opt):fixed_param,\n",
    "               'Mali_2p_result':WC_data.Mali_2p_result,\n",
    "               'Probit_result':WC_data.Probit_result, 'k_reg': WC_data.k, '1/TN prl-chn':WC_data.TN,\n",
    "               'BIC':bic}, fp)"
   ]
  },
  {
   "cell_type": "markdown",
   "metadata": {
    "ein.tags": "worksheet-0",
    "slideshow": {
     "slide_type": "subslide"
    }
   },
   "source": [
    "## Reload variable data"
   ]
  },
  {
   "cell_type": "code",
   "execution_count": null,
   "metadata": {
    "autoscroll": false,
    "ein.hycell": false,
    "ein.tags": "worksheet-0",
    "slideshow": {
     "slide_type": "-"
    }
   },
   "outputs": [],
   "source": [
    "with open('param_dict.json', 'r') as fp:\n",
    "    dict_import = json.load(fp)\n",
    "dict_import"
   ]
  }
 ],
 "metadata": {
  "celltoolbar": "Slideshow",
  "kernelspec": {
   "display_name": "Python 3",
   "language": "python",
   "name": "python3"
  },
  "language_info": {
   "codemirror_mode": {
    "name": "ipython",
    "version": 3
   },
   "file_extension": ".py",
   "mimetype": "text/x-python",
   "name": "python",
   "nbconvert_exporter": "python",
   "pygments_lexer": "ipython3",
   "version": "3.6.9"
  },
  "name": "woehler_analyzer.ipynb"
 },
 "nbformat": 4,
 "nbformat_minor": 2
}
