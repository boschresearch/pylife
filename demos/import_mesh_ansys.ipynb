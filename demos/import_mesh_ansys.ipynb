{
 "cells": [
  {
   "cell_type": "markdown",
   "id": "b0835bd3",
   "metadata": {},
   "source": [
    "# How to import Ansys meshes\n",
    "This notebook demonstrates how to import simulation results from Ansys in pylife, e.g., to be used for a FKM nonlinear assessment. This notebook uses the `pymapdl` reader package, so no installation of Ansys is required.\n",
    "You may need to install `pip install ansys-mapdl-reader` though.\n",
    "\n",
    "Because working with large meshes can be time-consuming, we also show how a mesh dataset can be filtered."
   ]
  },
  {
   "cell_type": "code",
   "execution_count": null,
   "id": "f766af5b",
   "metadata": {},
   "outputs": [],
   "source": [
    "# base packages\n",
    "import os\n",
    "import time\n",
    "import itertools\n",
    "import numpy as np\n",
    "import pandas as pd\n",
    "import matplotlib.pyplot as plt\n",
    "import matplotlib as mpl\n",
    "import timeit\n",
    "\n",
    "# Ansys import\n",
    "from ansys.mapdl import reader as pymapdl_reader\n",
    "\n",
    "# import pylife.vmap\n",
    "# pylife\n",
    "from pylife.strength import failure_probability as fp\n",
    "\n",
    "import pylife\n",
    "import pylife.vmap\n",
    "import pylife.mesh\n",
    "import pylife.stress.equistress\n",
    "import pylife.mesh.gradient"
   ]
  },
  {
   "cell_type": "markdown",
   "id": "16db83e3",
   "metadata": {},
   "source": [
    "Read ANSYS file"
   ]
  },
  {
   "cell_type": "code",
   "execution_count": null,
   "id": "c3fb70ba",
   "metadata": {},
   "outputs": [],
   "source": [
    "filename = 'data/kt1.rst'\n",
    "result = pymapdl_reader.read_binary(filename)\n",
    "print(f\"The mesh has {result.mesh.n_node} nodes.\")"
   ]
  },
  {
   "cell_type": "markdown",
   "id": "15337cd4",
   "metadata": {},
   "source": [
    "Process the mesh data and transform it into the pylife mesh format."
   ]
  },
  {
   "cell_type": "code",
   "execution_count": null,
   "id": "a858b6d3",
   "metadata": {},
   "outputs": [],
   "source": [
    "element_number_list = result.element_stress(0)\n",
    "\n",
    "node_location = result.mesh.nodes\n",
    "nodal_results = result.nodal_stress(0)\n",
    "equivalent_results = result.principal_nodal_stress(0)\n",
    "\n",
    "node_location_df = pd.DataFrame(node_location, columns=['x', 'y', 'z'])\n",
    "node_number = pd.DataFrame(nodal_results[0], columns=['node_id'], dtype=int)\n",
    "nodal_stress = pd.DataFrame(nodal_results[1], columns = ['S11', 'S22', 'S33', 'S12', 'S13', 'S23'])\n",
    "nodal_equivalent_stress = pd.DataFrame(equivalent_results[1], columns = ['S1', 'S2', 'S3', 'S_Int', 'mises'])\n",
    "\n",
    "data = [node_number, node_location_df, nodal_stress, nodal_equivalent_stress]\n",
    "\n",
    "mesh_data = pd.concat(data, axis=1)\n",
    "mesh_data = mesh_data.set_index(\"node_id\")\n",
    "\n",
    "# create multi-index for FE mesh in pylife\n",
    "tuples = [(elem[8], elem[10+i]) for elem in result.mesh.elem for i in range(len(elem)-10)]\n",
    "index = pd.MultiIndex.from_tuples(tuples, \n",
    "                          names=[\"element_id\", \"node_id\"])\n",
    "# sort multi-index by element_id, but keep order of node-ids per element\n",
    "index,_ = index.sortlevel(0, sort_remaining=False)   \n",
    "\n",
    "# join mesh data with multi index\n",
    "pylife_mesh = pd.DataFrame(index=index)\n",
    "pylife_mesh = pylife_mesh.join(mesh_data, on=\"node_id\")"
   ]
  },
  {
   "cell_type": "markdown",
   "id": "444ef09a",
   "metadata": {},
   "source": [
    "Now, we have the mesh as a pandas DataFrame with multi-index:"
   ]
  },
  {
   "cell_type": "code",
   "execution_count": null,
   "id": "9bc11435",
   "metadata": {},
   "outputs": [],
   "source": [
    "pylife_mesh"
   ]
  },
  {
   "cell_type": "code",
   "execution_count": null,
   "id": "2ccba70a",
   "metadata": {},
   "outputs": [],
   "source": [
    "# Calculate the stress gradient\n",
    "tstart = timeit.default_timer()\n",
    "grad1 = pylife_mesh.gradient_3D.gradient_of('mises')\n",
    "tend = timeit.default_timer()\n",
    "print(f\"duration calculate stress gradient: {tend-tstart:.1f} s\")\n",
    "\n",
    "grad1[\"abs_grad\"] = np.linalg.norm(grad1, axis=1)\n",
    "pylife_mesh = pylife_mesh.join(grad1, sort=False)"
   ]
  },
  {
   "cell_type": "markdown",
   "id": "a5ed1537",
   "metadata": {},
   "source": [
    "## Plot the mesh\n",
    "Plot the absolute stress gradient G."
   ]
  },
  {
   "cell_type": "code",
   "execution_count": null,
   "id": "813b855d",
   "metadata": {},
   "outputs": [],
   "source": [
    "import pyvista as pv\n",
    "\n",
    "# import profile\n",
    "mpl.style.use('bmh')\n",
    "\n",
    "grid = pv.UnstructuredGrid(*pylife_mesh.mesh.vtk_data())\n",
    "plotter = pv.Plotter(window_size=[1920, 1080])\n",
    "plotter.add_mesh(grid, scalars=pylife_mesh.groupby('element_id')['abs_grad'].mean().to_numpy(),\n",
    "                show_edges=True, cmap='jet')\n",
    "plotter.add_scalar_bar()\n",
    "plotter.show()\n",
    "# ============================================================================="
   ]
  },
  {
   "cell_type": "markdown",
   "id": "acddf858",
   "metadata": {},
   "source": [
    "Plot the Mises stress."
   ]
  },
  {
   "cell_type": "code",
   "execution_count": null,
   "id": "74d75cb0",
   "metadata": {},
   "outputs": [],
   "source": [
    "grid = pv.UnstructuredGrid(*pylife_mesh.mesh.vtk_data())\n",
    "plotter = pv.Plotter(window_size=[1920, 1080])\n",
    "plotter.add_mesh(grid, scalars=pylife_mesh.groupby('element_id')['mises'].mean().to_numpy(),\n",
    "                show_edges=True, cmap='jet')\n",
    "plotter.add_scalar_bar()\n",
    "plotter.show()"
   ]
  },
  {
   "cell_type": "markdown",
   "id": "d74a061f",
   "metadata": {},
   "source": [
    "## Select surface elements\n",
    "Often, we want to only consider the finite elements that touch the surface of the 3D object, because the highest fatigue load is often located at the surface.\n",
    "A heuristic is to count the number of adjacent elements for each node and filter the node set by this number. At the surface, less elements are next to each other than in the interior of the volume. The actual number depends on the used element types."
   ]
  },
  {
   "cell_type": "code",
   "execution_count": null,
   "id": "c6c20570",
   "metadata": {},
   "outputs": [],
   "source": [
    "# compute number of elements that are adjacent for each node\n",
    "pylife_mesh_temp = pylife_mesh.copy()\n",
    "pylife_mesh_temp[\"element_id\"] = pylife_mesh_temp.index.get_level_values(\"element_id\")\n",
    "pylife_mesh_temp = pylife_mesh_temp.droplevel(\"element_id\")\n",
    "n_elements_per_node = pylife_mesh_temp.groupby(\"node_id\")[\"element_id\"].nunique()\n"
   ]
  },
  {
   "cell_type": "code",
   "execution_count": null,
   "id": "456a7916",
   "metadata": {},
   "outputs": [],
   "source": [
    "# How many elements max. should touch at a node to be considered a surface node?\n",
    "n_elements = 2  # for a hexahedral mesh\n",
    "#n_elements = 4  # for a tetrahedral mesh\n",
    "\n",
    "# select nodes with less than a certain number of elements\n",
    "surface_node_ids = n_elements_per_node[n_elements_per_node<=n_elements].index\n",
    "surface_element_ids = pylife_mesh_temp.loc[surface_node_ids,\"element_id\"].unique()\n",
    "surface_mesh = pylife_mesh[pylife_mesh.index.get_level_values(\"element_id\").isin(surface_element_ids)]\n",
    "\n",
    "n_elements_original = pylife_mesh.index.get_level_values(\"element_id\").nunique()\n",
    "print(f\"select {len(surface_element_ids)} elements of {n_elements_original} \"\n",
    "      f\"(= {100*len(surface_element_ids)/n_elements_original:.1f} %)\")"
   ]
  },
  {
   "cell_type": "markdown",
   "id": "db13d31a",
   "metadata": {},
   "source": [
    "The resulting mesh at the surface has the following elements:"
   ]
  },
  {
   "cell_type": "code",
   "execution_count": null,
   "id": "953ffd3e",
   "metadata": {},
   "outputs": [],
   "source": [
    "surface_mesh"
   ]
  },
  {
   "cell_type": "markdown",
   "id": "85d9f9e0",
   "metadata": {},
   "source": [
    "The following visualization shows only the mesh with only surface elements. It looks the same as the full mesh, though."
   ]
  },
  {
   "cell_type": "code",
   "execution_count": null,
   "id": "1b748694",
   "metadata": {},
   "outputs": [],
   "source": [
    "grid = pv.UnstructuredGrid(*surface_mesh.mesh.vtk_data())\n",
    "plotter = pv.Plotter(window_size=[1920, 1080])\n",
    "plotter.add_mesh(grid, scalars=surface_mesh.groupby('element_id')['mises'].mean().to_numpy(),\n",
    "                show_edges=True, cmap='jet')\n",
    "plotter.add_scalar_bar()\n",
    "plotter.show()"
   ]
  },
  {
   "cell_type": "markdown",
   "id": "2e95e54a",
   "metadata": {},
   "source": [
    "## Select nodes with highest stress\n",
    "We can also filter the finite element mesh by the Mises stress, only considering nodes with a stress above a certain threshold."
   ]
  },
  {
   "cell_type": "code",
   "execution_count": null,
   "id": "f0fad660",
   "metadata": {},
   "outputs": [],
   "source": [
    "# The threshold is specified in relation to the maximum stress, by the following factor:\n",
    "stress_factor = 0.8\n",
    "\n",
    "# select elements where at least one node has at least the given mises stress\n",
    "pylife_mesh_temp = pylife_mesh.copy()\n",
    "maximum_stress = pylife_mesh_temp[\"mises\"].max()\n",
    "selected_node_ids = pylife_mesh_temp[pylife_mesh_temp[\"mises\"] > stress_factor*maximum_stress].index.get_level_values(\"node_id\")\n",
    "selected_element_ids = pylife_mesh_temp[pylife_mesh_temp.index.get_level_values(\"node_id\").isin(selected_node_ids)].index.get_level_values(\"element_id\").unique()\n",
    "selected_mesh = pylife_mesh[pylife_mesh.index.get_level_values(\"element_id\").isin(selected_element_ids)]\n",
    "\n",
    "# output statistic\n",
    "n_elements_original = pylife_mesh.index.get_level_values(\"element_id\").nunique()\n",
    "print(f\"select {len(selected_element_ids)} elements of {n_elements_original} \"\n",
    "      f\"(= {100*len(selected_element_ids)/n_elements_original:.1f} %)\")"
   ]
  },
  {
   "cell_type": "code",
   "execution_count": null,
   "id": "5e75c2bb",
   "metadata": {},
   "outputs": [],
   "source": [
    "grid = pv.UnstructuredGrid(*selected_mesh.mesh.vtk_data())\n",
    "plotter = pv.Plotter(window_size=[1920, 1080])\n",
    "plotter.add_mesh(grid, scalars=selected_mesh.groupby('element_id')['mises'].mean().to_numpy(),\n",
    "                show_edges=True, cmap='jet')\n",
    "plotter.add_scalar_bar()\n",
    "plotter.show()"
   ]
  },
  {
   "cell_type": "code",
   "execution_count": null,
   "id": "7f465559",
   "metadata": {},
   "outputs": [],
   "source": []
  }
 ],
 "metadata": {
  "kernelspec": {
   "display_name": "Python 3.9.0 64-bit",
   "language": "python",
   "name": "python3"
  },
  "language_info": {
   "codemirror_mode": {
    "name": "ipython",
    "version": 3
   },
   "file_extension": ".py",
   "mimetype": "text/x-python",
   "name": "python",
   "nbconvert_exporter": "python",
   "pygments_lexer": "ipython3",
   "version": "3.9.0"
  },
  "vscode": {
   "interpreter": {
    "hash": "791b1cef4b2988ef2e6c991e5c1b67abac4914ef58f40e04494fa800ef4e03d9"
   }
  }
 },
 "nbformat": 4,
 "nbformat_minor": 5
}
