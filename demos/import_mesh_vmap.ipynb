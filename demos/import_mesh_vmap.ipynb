{
 "cells": [
  {
   "cell_type": "markdown",
   "id": "82b55359",
   "metadata": {},
   "source": [
    "# How to import VMAP meshes\n",
    "This notebook demonstrates how to import finite element meshes in VMAP format in pylife, e.g., to be used for a FKM nonlinear assessment."
   ]
  },
  {
   "cell_type": "code",
   "execution_count": null,
   "id": "078ab7bb",
   "metadata": {},
   "outputs": [],
   "source": [
    "# standard modules\n",
    "import pandas as pd\n",
    "import numpy as np\n",
    "import itertools\n",
    "import matplotlib.pyplot as plt\n",
    "import timeit\n",
    "\n",
    "# pylife\n",
    "import pylife\n",
    "import pylife.vmap\n",
    "import pylife.mesh\n",
    "import pylife.stress.equistress\n",
    "import pylife.mesh.gradient"
   ]
  },
  {
   "cell_type": "code",
   "execution_count": null,
   "id": "c6895957",
   "metadata": {},
   "outputs": [],
   "source": [
    "# import the vmap file\n",
    "filename = 'data/kt1.vmap'\n",
    "vmap_mesh = pylife.vmap.VMAPImport(filename)\n",
    "\n",
    "# select the geometry and state in the vmap file\n",
    "geometry = 'KT1-1'\n",
    "state = 'Step-1'\n",
    "pylife_mesh = (vmap_mesh.make_mesh(geometry, state) \n",
    "               .join_coordinates()\n",
    "               .join_variable('STRESS_CAUCHY')\n",
    "               .to_frame())\n",
    "\n",
    "# calculate the Mises equistress\n",
    "pylife_mesh['mises'] = pylife_mesh.equistress.mises()"
   ]
  },
  {
   "cell_type": "code",
   "execution_count": null,
   "id": "15aa8c7e",
   "metadata": {},
   "outputs": [],
   "source": [
    "pylife_mesh"
   ]
  },
  {
   "cell_type": "markdown",
   "id": "6db85caa",
   "metadata": {},
   "source": [
    "We can filter only element Id 1:"
   ]
  },
  {
   "cell_type": "code",
   "execution_count": null,
   "id": "b2bddb5d",
   "metadata": {},
   "outputs": [],
   "source": [
    "# entries of element 1\n",
    "pylife_mesh[pylife_mesh.index.get_level_values(\"element_id\") == 1]"
   ]
  },
  {
   "cell_type": "code",
   "execution_count": null,
   "id": "0cd93810",
   "metadata": {},
   "outputs": [],
   "source": [
    "# Calculate the stress gradient\n",
    "tstart = timeit.default_timer()\n",
    "grad = pylife_mesh.gradient_3D.gradient_of('mises')\n",
    "tend = timeit.default_timer()\n",
    "print(f\"duration calculate stress gradient: {tend-tstart:.1f} s\")\n",
    "\n",
    "grad[\"abs_grad\"] = np.linalg.norm(grad, axis=1)\n",
    "pylife_mesh = pylife_mesh.join(grad, sort=False)"
   ]
  },
  {
   "cell_type": "code",
   "execution_count": null,
   "id": "d74aeda9",
   "metadata": {},
   "outputs": [],
   "source": [
    "display(grad)"
   ]
  },
  {
   "cell_type": "markdown",
   "id": "1a5dbf4d",
   "metadata": {},
   "source": [
    "Next, we visualize the absolute stress gradient G using the `pyvista` package."
   ]
  },
  {
   "cell_type": "code",
   "execution_count": null,
   "id": "17d7f957",
   "metadata": {},
   "outputs": [],
   "source": [
    "### Plotting using pyvista\n",
    "import pyvista as pv\n",
    "grid = pv.UnstructuredGrid(*pylife_mesh.mesh.vtk_data())\n",
    "plotter = pv.Plotter(window_size=[1920, 1080])\n",
    "plotter.add_mesh(grid, scalars=pylife_mesh.groupby('element_id')['abs_grad'].mean().to_numpy(),\n",
    "                show_edges=True, cmap='jet')\n",
    "plotter.add_scalar_bar()\n",
    "plotter.show()"
   ]
  }
 ],
 "metadata": {
  "kernelspec": {
   "display_name": "Python 3 (ipykernel)",
   "language": "python",
   "name": "python3"
  },
  "language_info": {
   "codemirror_mode": {
    "name": "ipython",
    "version": 3
   },
   "file_extension": ".py",
   "mimetype": "text/x-python",
   "name": "python",
   "nbconvert_exporter": "python",
   "pygments_lexer": "ipython3",
   "version": "3.9.0"
  }
 },
 "nbformat": 4,
 "nbformat_minor": 5
}
