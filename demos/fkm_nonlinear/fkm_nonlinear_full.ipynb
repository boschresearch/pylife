{
 "cells": [
  {
   "cell_type": "markdown",
   "id": "39ff11e6",
   "metadata": {},
   "source": [
    "# FKM Nonlinear - full algorithm step-through\n",
    "The algorithm follows the document \"RICHTLINIE NICHTLINEAR / Rechnerischer Festigkeitsnachweis unter expliziter Erfassung nichtlinearen Werkstoffverformungsverhaltens / Für Bauteile aus Stahl, Stahlguss und Aluminiumknetlegierungen / 1.Auflage, 2019\"\n",
    "\n",
    "The used values are according to \"Akademisches Beispiel\", chapter 2.7.1.\n",
    "\n",
    "*Note that this notebook is for demonstration of the algorithm, for actual assessment use other notebooks, e.g., [fkm_nonlinear](fkm_nonlinear.ipynb)*"
   ]
  },
  {
   "cell_type": "markdown",
   "id": "ed60bc83",
   "metadata": {},
   "source": [
    "#### Python module imports"
   ]
  },
  {
   "cell_type": "code",
   "execution_count": null,
   "id": "1aada777",
   "metadata": {},
   "outputs": [],
   "source": [
    "# standard modules\n",
    "import pandas as pd\n",
    "import numpy as np\n",
    "import itertools\n",
    "import matplotlib.pyplot as plt\n",
    "import copy\n",
    "\n",
    "# pylife\n",
    "import pylife\n",
    "import pylife.vmap\n",
    "import pylife.stress.equistress\n",
    "import pylife.strength.fkm_load_distribution\n",
    "import pylife.strength.fkm_nonlinear\n",
    "import pylife.strength.fkm_nonlinear.damage_calculator\n",
    "import pylife.strength.damage_parameter\n",
    "import pylife.strength.woehler_fkm_nonlinear\n",
    "import pylife.materiallaws\n",
    "import pylife.stress.rainflow\n",
    "import pylife.stress.rainflow.recorders\n",
    "import pylife.stress.rainflow.fkm_nonlinear\n",
    "import pylife.materiallaws.notch_approximation_law\n",
    "import pylife.materiallaws.notch_approximation_law_seegerbeste\n",
    "\n",
    "import pylife.strength.fkm_nonlinear.parameter_calculations as parameter_calculations"
   ]
  },
  {
   "cell_type": "markdown",
   "id": "a8f657d6",
   "metadata": {},
   "source": [
    "## 2.6.1 Collect all input data"
   ]
  },
  {
   "cell_type": "markdown",
   "id": "d34d56af",
   "metadata": {},
   "source": [
    "#### Material parameters"
   ]
  },
  {
   "cell_type": "code",
   "execution_count": null,
   "id": "bc6b137c",
   "metadata": {},
   "outputs": [],
   "source": [
    "assessment_parameters = pd.Series({\n",
    "        'MatGroupFKM': 'Steel',  # [Steel, SteelCast, Al_wrought] material group\n",
    "        'FinishingFKM': 'none',  # type of surface finisihing\n",
    "        'R_m': 600,              # [MPa] ultimate tensile strength (de: Zugfestigkeit)\n",
    "        #'K_RP': 1,               # [-] surface roughness factor, set to 1 for polished surfaces or determine from the diagrams below\n",
    "        'R_z': 250,              # [um] average roughness (de: mittlere Rauheit), only required if K_RP is not specified directly\n",
    "    \n",
    "        'P_A': 7.2e-5,           # [-] failure probability, set to 0.5 to not consider additional safety (de: auszulegende Ausfallwahrscheinlichkeit)\n",
    "        # beta: 0.5,             # damage index, specify this as an alternative to P_A\n",
    "    \n",
    "        'P_L': 2.5,              # [%] (one of 2.5%, 50%) (de: Auftretenswahrscheinlilchkeit der Lastfolge)\n",
    "        'c':   3,              # [MPa/N] (de: Übertragungsfaktor Vergleichsspannung zu Referenzlast im Nachweispunkt, c = sigma_I / L_REF)\n",
    "        'A_sigma': 339.4,        # [mm^2] (de: Hochbeanspruchte Oberfläche des Bauteils)\n",
    "        'A_ref': 500,            # [mm^2] (de: Hochbeanspruchte Oberfläche eines Referenzvolumens), usually set to 500\n",
    "        'G': 2/15,               # [mm^-1] (de: bezogener Spannungsgradient)\n",
    "        's_L': 10,               # [MPa] standard deviation of Gaussian distribution\n",
    "        'K_p': 3.5,              # [-] (de: Traglastformzahl) K_p = F_plastic / F_yield (3.1.1)\n",
    "        'r': 15,                 # [mm] radius (?)\n",
    "})"
   ]
  },
  {
   "attachments": {},
   "cell_type": "markdown",
   "id": "d2110651",
   "metadata": {},
   "source": [
    "## Notes on the parameters\n",
    "### The highly loaded surface $A_\\sigma$\n",
    "The highly loaded surface parameter $A_\\sigma$ is needed when the expected fracture starts at the component's surface. It can be computed using the algorithm \"SPIEL\" as described in the FKM guideline nonlinear. (cf. chapter 3.1.2). For simple common geometries like notched plates and shafts, table 2.6 of the FKM guideline nonlinear presents formulas for $A_\\sigma$.\n",
    "\n",
    "### The relative stress gradient $G$\n",
    "The relative stress gradient $G$ is usually determined from finite element calculations, but can also be estimated by heuristic, cf. eq. (2.5-34) in the FKM guideline nonlinear.\n",
    "\n",
    "### The surface roughness factor $K_{R,P}$\n",
    "The factor of surface roughness can either be manually specified in the ``assessment_parameters`` variable. If it is omitted, the FKM formula is used to estimate it from ultimate tensile strength, $R_m$, and surface roughness, $R_z$.\n",
    "For polished components, the factor should be set to $K_{R,P}=1$. For other materials, it can be retrieved from the  diagrams in Fig. 2.8 in the FKM guideline nonlinear.\n",
    "\n",
    "### The safety factor of the component and the failure probability $P_A$\n",
    "For calculations that should be compared with cyclic experiments, set the failure probability to $P_A=50\\%$.\n",
    "For added safety in assessment concepts, the FKM guideline nonlinear suggests the following failure probabilities ``P_A``:\n",
    "* Redundant components: $P_A=2.3\\cdot 10^{-1}$, $P_A=10^{-3}$, and $P_A=7.2\\cdot 10^{-5}$ for moderate, severe, and very severe failure consequences, respectively.\n",
    "* Non-redundant components: $P_A=10^{-3}$, $P_A=7.2\\cdot 10^{-5}$, and $P_A=10^{-5}$ for moderate, severe, and very severe failure consequences, respectively.\n",
    "\n",
    "You can additionally specify the parameter ``beta`` (de: Zuverlässigkeitsindex) for the material, which then will be used to compute the material safety factor $\\gamma_M$. For $P_A=50\\%$ set ``gamma_M=1``."
   ]
  },
  {
   "cell_type": "markdown",
   "id": "680c309a",
   "metadata": {},
   "source": [
    "#### Load sequence"
   ]
  },
  {
   "cell_type": "code",
   "execution_count": null,
   "id": "64e116c8",
   "metadata": {},
   "outputs": [],
   "source": [
    "load_sequence = pd.Series([160, -200, 250, -250, 230, 0, 260])  # [N]\n",
    "\n",
    "fig = plt.figure(figsize=(5,3))\n",
    "plt.plot(load_sequence, \"o-\")\n",
    "plt.ylabel(\"F\")"
   ]
  },
  {
   "cell_type": "markdown",
   "id": "84138164",
   "metadata": {},
   "source": [
    "### Estimate tensile strength $R_m$ from nominal value $R_{m,N}$"
   ]
  },
  {
   "cell_type": "markdown",
   "id": "ec8cd234",
   "metadata": {},
   "source": [
    "There are three possible methods to consider the statistical distribution of the load:\n",
    "* A normal distribution with given standard deviation, $s_L$\n",
    "* A logarithmic-normal distribution with given standard deviation $LSD_s$\n",
    "* An unknown distribution, instead use a constant factor $P_L = 2.5\\%$"
   ]
  },
  {
   "cell_type": "code",
   "execution_count": null,
   "id": "2e510805",
   "metadata": {},
   "outputs": [],
   "source": [
    "# Choose one of the following three lines:\n",
    "\n",
    "# FKMLoadDistributionNormal, uses assessment_parameters.s_L, assessment_parameters.P_L, assessment_parameters.P_A\n",
    "scaled_load_sequence = load_sequence.fkm_safety_normal_from_stddev.scaled_load_sequence(assessment_parameters)\n",
    "gamma_L = load_sequence.fkm_safety_normal_from_stddev.gamma_L(assessment_parameters)\n",
    "print(f\"scaling factor gamma_L: {gamma_L:.5f}\")\n",
    "\n",
    "# FKMLoadDistributionLognormal, uses assessment_parameters.LSD_s, assessment_parameters.P_L, assessment_parameters.P_A\n",
    "assessment_parameters[\"LSD_s\"] = 1\n",
    "#scaled_load_sequence = load_sequence.fkm_safety_lognormal_from_stddev.scaled_load_sequence(assessment_parameters)\n",
    "\n",
    "# FKMLoadDistributionBlanket, uses input_parameters.P_L\n",
    "#scaled_load_sequence = load_sequence.fkm_safety_blanket.scaled_load_sequence(assessment_parameters)\n",
    "\n",
    "# 79"
   ]
  },
  {
   "cell_type": "markdown",
   "id": "e357104f",
   "metadata": {},
   "source": [
    "Compute load sequence for lifetime assessment, $L = c \\cdot \\gamma_L \\cdot \\mathcal{L}$ with $c = \\dfrac{\\sigma_V}{L_{REF}}$.  \n",
    "See 2.3.3, 2.3.4"
   ]
  },
  {
   "cell_type": "code",
   "execution_count": null,
   "id": "f8e6dea8",
   "metadata": {},
   "outputs": [],
   "source": [
    "# scale load sequence by reference load\n",
    "#c = 1/L_REF\n",
    "c = assessment_parameters.c\n",
    "scaled_load_sequence = c * gamma_L * load_sequence\n",
    "display(scaled_load_sequence)\n",
    "\n",
    "# plot load sequence\n",
    "plt.rcParams.update({'font.size': 22})\n",
    "plt.plot(range(len(scaled_load_sequence)), load_sequence, \"o-\", c=\"g\", lw=3)\n",
    "plt.grid()\n",
    "plt.ylabel(\"$\\sigma_V$ [MPa]\")"
   ]
  },
  {
   "cell_type": "markdown",
   "id": "bff75b7f",
   "metadata": {},
   "source": [
    "## 2.6.3  Determine cyclic material parameters according to Ramberg-Osgood\n",
    "This can be done by experiments or by the formulas given in the guideline. This Jupyter notebook uses the implemented formulas. So far, we have specified the following quantities."
   ]
  },
  {
   "cell_type": "code",
   "execution_count": null,
   "id": "3471cb05",
   "metadata": {},
   "outputs": [],
   "source": [
    "assessment_parameters"
   ]
  },
  {
   "cell_type": "code",
   "execution_count": null,
   "id": "ab6c8f87",
   "metadata": {},
   "outputs": [],
   "source": [
    "assessment_parameters = pylife.strength.fkm_nonlinear.parameter_calculations.calculate_cyclic_assessment_parameters(assessment_parameters)"
   ]
  },
  {
   "cell_type": "markdown",
   "id": "983c7b27",
   "metadata": {},
   "source": [
    "## 2.6.4 Estimate material SN-curve (Werkstoff-Wöhlerlinie)"
   ]
  },
  {
   "cell_type": "markdown",
   "id": "0abbb656",
   "metadata": {},
   "source": [
    "#### 2.5.5.1 Determine from experiments\n",
    "* Conduct strain-driven experiments with $R_\\varepsilon = -1$. Record values for $\\sigma_a, \\varepsilon_{a,\\text{ges}}$ and $N_\\text{Werkstoff}$.\n",
    "* Compute $P_{RAM}=\\sqrt{\\sigma_a\\cdot \\varepsilon_{a,\\text{ges}} \\cdot E}$ for every single experiment.\n",
    "* Use the maximum-likelihood method to infer the parameters $d_1, d_2, P_{RAM,Z,WS}$. For details, refer to the FKM nonlinear document, Sec. 2.5.5.1, p. 40."
   ]
  },
  {
   "cell_type": "markdown",
   "id": "b20fc450",
   "metadata": {},
   "source": [
    "#### 2.5.5.2 Estimate from formulas\n",
    "Alternatively, estimate the material SN-curve from the ultimate tensile strength $R_m$."
   ]
  },
  {
   "cell_type": "code",
   "execution_count": null,
   "id": "0e94b172",
   "metadata": {},
   "outputs": [],
   "source": [
    "# calculate the parameters for the material woehler curve \n",
    "# (for both P_RAM and P_RAJ, the variable names do not interfere)\n",
    "assessment_parameters = parameter_calculations.calculate_material_woehler_parameters_P_RAM(assessment_parameters)\n",
    "assessment_parameters = parameter_calculations.calculate_material_woehler_parameters_P_RAJ(assessment_parameters)"
   ]
  },
  {
   "cell_type": "markdown",
   "id": "24c4ec94",
   "metadata": {},
   "source": [
    "## 2.6.5 Estimate component SN-curve (Bauteil-Wöhlerlinie)\n",
    "Consideration of non-local effects on the lifetime of the component."
   ]
  },
  {
   "cell_type": "markdown",
   "id": "0ab150b6",
   "metadata": {},
   "source": [
    "### 2.6.5.1, 2.5.6.1 Size and geometry factor $n_P$, Spannungsgradient $G$, $A_\\sigma$\n",
    "Compute the factor for non-local influences, $n_P = n_{bm}(R_m, G) \\cdot n_{st}(A_\\sigma)$, where $n_{bm}$ is the fracture mechanics factor (de: bruchmechanische Stützzahl) and $n_{st}$ is the statistic factor (de: statistische Stützzahl). The factors depend on the stress gradient, $G$, and the highly loaded surface, $A_\\sigma$, respectively."
   ]
  },
  {
   "cell_type": "code",
   "execution_count": null,
   "id": "4a0cb6d0",
   "metadata": {},
   "outputs": [],
   "source": [
    "assessment_parameters = parameter_calculations.calculate_nonlocal_parameters(assessment_parameters)"
   ]
  },
  {
   "cell_type": "markdown",
   "id": "ec37ebec",
   "metadata": {},
   "source": [
    "### 2.6.5.2, 2.5.6.2 Roughness factor $K_{R,P}$\n",
    "Compute the influence factor of the roughness, $K_{R,P}$, which is estimated based on the ultimate tensile strength, $R_m$, and the surface roughness, $R_z$. See also the diagrams \"Abbildung 2.21\" show above."
   ]
  },
  {
   "cell_type": "code",
   "execution_count": null,
   "id": "1dd5cacb",
   "metadata": {},
   "outputs": [],
   "source": [
    "assessment_parameters = parameter_calculations.calculate_roughness_parameter(assessment_parameters)"
   ]
  },
  {
   "cell_type": "code",
   "execution_count": null,
   "id": "599f487a",
   "metadata": {},
   "outputs": [],
   "source": [
    "assessment_parameters = parameter_calculations.calculate_failure_probability_factor_P_RAM(assessment_parameters)\n",
    "assessment_parameters = parameter_calculations.calculate_failure_probability_factor_P_RAJ(assessment_parameters)"
   ]
  },
  {
   "cell_type": "markdown",
   "id": "45a3812d",
   "metadata": {},
   "source": [
    "### 2.6.5.3, 2.5.6.3 safety factor $\\gamma_M$\n",
    "Compute the factors to derive the component Wöhler curve from the material Wöhler curve. The factors for both P_RAM and P_RAJ are computed."
   ]
  },
  {
   "cell_type": "code",
   "execution_count": null,
   "id": "00fea54f",
   "metadata": {},
   "outputs": [],
   "source": [
    "assessment_parameters = parameter_calculations.calculate_component_woehler_parameters_P_RAM(assessment_parameters)\n",
    "assessment_parameters = parameter_calculations.calculate_component_woehler_parameters_P_RAJ(assessment_parameters)"
   ]
  },
  {
   "cell_type": "markdown",
   "id": "bc0cc815",
   "metadata": {},
   "source": [
    "### 2.6.5.4, 2.5.6   formula for component SN-curve"
   ]
  },
  {
   "cell_type": "markdown",
   "id": "5eb5b4e3",
   "metadata": {},
   "source": [
    "Woehler curve for P_RAM"
   ]
  },
  {
   "cell_type": "code",
   "execution_count": null,
   "id": "2bf69f45",
   "metadata": {},
   "outputs": [],
   "source": [
    "component_woehler_curve_parameters = assessment_parameters[[\"P_RAM_Z\", \"P_RAM_D\", \"d_1\", \"d_2\"]]\n",
    "component_woehler_curve_P_RAM = component_woehler_curve_parameters.woehler_P_RAM"
   ]
  },
  {
   "cell_type": "markdown",
   "id": "f952af68",
   "metadata": {},
   "source": [
    "Wöhler curve for P_RAJ"
   ]
  },
  {
   "cell_type": "code",
   "execution_count": null,
   "id": "81c35376",
   "metadata": {},
   "outputs": [],
   "source": [
    "component_woehler_curve_parameters = assessment_parameters[[\"P_RAJ_Z\", \"P_RAJ_D_0\", \"d_RAJ\"]]\n",
    "component_woehler_curve_P_RAJ = component_woehler_curve_parameters.woehler_P_RAJ"
   ]
  },
  {
   "cell_type": "code",
   "execution_count": null,
   "id": "b81268de",
   "metadata": {},
   "outputs": [],
   "source": [
    "assessment_parameters"
   ]
  },
  {
   "cell_type": "code",
   "execution_count": null,
   "id": "3a1d5382",
   "metadata": {},
   "outputs": [],
   "source": [
    "1/assessment_parameters.d_1, 1/assessment_parameters.d_2, 1/assessment_parameters.d_RAJ"
   ]
  },
  {
   "cell_type": "code",
   "execution_count": null,
   "id": "2d0c0d32",
   "metadata": {},
   "outputs": [],
   "source": [
    "assessment_parameters[[\"P_RAM_Z_WS\", \"P_RAM_D_WS\", \"d_1\", \"d_2\"]]"
   ]
  },
  {
   "cell_type": "code",
   "execution_count": null,
   "id": "9587175b",
   "metadata": {},
   "outputs": [],
   "source": [
    "# plot P_RAM material Woehler curve\n",
    "n_list = np.logspace(2, 7, num=101, endpoint=True, base=10.0)\n",
    "plt.rcParams.update({'font.size': 24})\n",
    "fig,ax = plt.subplots(figsize=(8,6))\n",
    "\n",
    "# for core\n",
    "material_woehler_curve_parameters = assessment_parameters[[\"P_RAM_Z_WS\", \"P_RAM_D_WS\", \"d_1\", \"d_2\"]]\n",
    "material_woehler_curve_parameters[\"P_RAM_Z\"] = assessment_parameters[\"P_RAM_Z_WS\"]\n",
    "material_woehler_curve_parameters[\"P_RAM_D\"] = assessment_parameters[\"P_RAM_D_WS\"]\n",
    "\n",
    "material_woehler_curve_P_RAM = pylife.strength.woehler_fkm_nonlinear\\\n",
    "    .WoehlerCurvePRAM(material_woehler_curve_parameters)\n",
    "\n",
    "line = plt.plot(n_list, material_woehler_curve_P_RAM.calc_P_RAM(n_list), \"-\", lw=4)\n",
    "plt.plot(1e3, material_woehler_curve_P_RAM.P_RAM_Z, \n",
    "         \"o\", color=line[0].get_color(), markersize=10)\n",
    "N_D = material_woehler_curve_P_RAM.fatigue_life_limit\n",
    "plt.plot(N_D, material_woehler_curve_P_RAM.fatigue_strength_limit, \n",
    "         \"o\", color=line[0].get_color(), markersize=10)\n",
    "plt.annotate(f\"$N_D$ = {N_D:.1e}\", (N_D, material_woehler_curve_P_RAM.fatigue_strength_limit), \n",
    "             textcoords=\"offset points\", xytext=(0,10), color=line[0].get_color())\n",
    "\n",
    "plt.xscale('log')\n",
    "plt.yscale('log')\n",
    "plt.xlabel('N')\n",
    "plt.ylabel('P_RAM')\n",
    "plt.title(\"P_RAM material Woehler curve\")\n",
    "plt.grid(which='both')"
   ]
  },
  {
   "cell_type": "code",
   "execution_count": null,
   "id": "66a132b1",
   "metadata": {},
   "outputs": [],
   "source": [
    "# plot P_RAM component Woehler curve\n",
    "n_list = np.logspace(2, 7, num=101, endpoint=True, base=10.0)\n",
    "plt.rcParams.update({'font.size': 24})\n",
    "fig,ax = plt.subplots(figsize=(8,6))\n",
    "\n",
    "# for core\n",
    "component_woehler_curve_parameters = assessment_parameters[[\"P_RAM_Z\", \"P_RAM_D\", \"d_1\", \"d_2\"]]\n",
    "\n",
    "component_woehler_curve_P_RAM = pylife.strength.woehler_fkm_nonlinear\\\n",
    "    .WoehlerCurvePRAM(component_woehler_curve_parameters)\n",
    "\n",
    "# material\n",
    "line = plt.plot(n_list, material_woehler_curve_P_RAM.calc_P_RAM(n_list), \"-\", lw=4, label=\"material\")\n",
    "plt.plot(1e3, material_woehler_curve_P_RAM.P_RAM_Z, \n",
    "         \"o\", color=line[0].get_color(), markersize=10)\n",
    "N_D = material_woehler_curve_P_RAM.fatigue_life_limit\n",
    "plt.plot(N_D, material_woehler_curve_P_RAM.fatigue_strength_limit, \n",
    "         \"o\", color=line[0].get_color(), markersize=10)\n",
    "plt.annotate(f\"$N_D$ = {N_D:.1e}\", (N_D, material_woehler_curve_P_RAM.fatigue_strength_limit), \n",
    "             textcoords=\"offset points\", xytext=(0,10), color=line[0].get_color())\n",
    "\n",
    "\n",
    "# component\n",
    "line = plt.plot(n_list, component_woehler_curve_P_RAM.calc_P_RAM(n_list), \"-\", lw=4, label=\"component\")\n",
    "plt.plot(1e3, component_woehler_curve_P_RAM.P_RAM_Z, \n",
    "         \"o\", color=line[0].get_color(), markersize=10)\n",
    "N_D = component_woehler_curve_P_RAM.fatigue_life_limit\n",
    "plt.plot(N_D, component_woehler_curve_P_RAM.fatigue_strength_limit, \n",
    "         \"o\", color=line[0].get_color(), markersize=10)\n",
    "plt.annotate(f\"$N_D$ = {N_D:.1e}\", (N_D, component_woehler_curve_P_RAM.fatigue_strength_limit), \n",
    "             textcoords=\"offset points\", xytext=(0,10), color=line[0].get_color())\n",
    "\n",
    "plt.legend(loc=\"best\")\n",
    "plt.xscale('log')\n",
    "plt.yscale('log')\n",
    "plt.xlabel('N')\n",
    "plt.ylabel('P_RAM')\n",
    "plt.title(\"P_RAM component Woehler curve\")\n",
    "plt.grid(which='both')"
   ]
  },
  {
   "cell_type": "markdown",
   "id": "408f8a7c",
   "metadata": {},
   "source": [
    "## 2.6.7, 2.5.8 Perform HCM rainflow counting\n",
    "    "
   ]
  },
  {
   "cell_type": "markdown",
   "id": "810c14c2",
   "metadata": {},
   "source": [
    "* 2.6.6, 2.5.7 Compute stresses and strains, classification, PFAD and AST matrices   \n",
    "* 2.6.7, 2.5.8.1 HCM algorithm, output (S_a, S_m and epsilon_a) for every hysteresis"
   ]
  },
  {
   "cell_type": "code",
   "execution_count": null,
   "id": "a1ef1fcb",
   "metadata": {},
   "outputs": [],
   "source": [
    "# initialize notch approximation law\n",
    "E, K_prime, n_prime, K_p = assessment_parameters[[\"E\", \"K_prime\", \"n_prime\", \"K_p\"]]\n",
    "extended_neuber = pylife.materiallaws.notch_approximation_law.ExtendedNeuber(E, K_prime, n_prime, K_p)\n",
    "\n",
    "load_sequence_list = scaled_load_sequence\n",
    "print(load_sequence_list)\n",
    "\n",
    "# wrap the notch approximation law by a binning class, which precomputes the values\n",
    "maximum_absolute_load = max(np.abs(load_sequence_list))\n",
    "print(f\"maximum_absolute_load: {maximum_absolute_load}\")\n",
    "extended_neuber_binned = pylife.materiallaws.notch_approximation_law.Binned(\n",
    "    extended_neuber, maximum_absolute_load, 100)\n",
    "\n",
    "# create recorder object\n",
    "recorder = pylife.stress.rainflow.recorders.FKMNonlinearRecorder()\n",
    "\n",
    "# create detector object\n",
    "detector = pylife.stress.rainflow.fkm_nonlinear.FKMNonlinearDetector(\n",
    "    recorder=recorder, notch_approximation_law=extended_neuber_binned)\n",
    "\n",
    "# perform HCM algorithm, first run\n",
    "detector.process(load_sequence_list, flush=False)\n",
    "detector_1st = copy.deepcopy(detector)\n",
    "\n",
    "# perform HCM algorithm, second run\n",
    "detector.process(load_sequence_list, flush=True)\n"
   ]
  },
  {
   "cell_type": "code",
   "execution_count": null,
   "id": "cbe73466",
   "metadata": {},
   "outputs": [],
   "source": [
    "# plot resulting stress-strain curve\n",
    "sampling_parameter = 50    # choose larger for smoother plot\n",
    "plotting_data = detector_1st.interpolated_stress_strain_data(sampling_parameter)\n",
    "\n",
    "strain_values_primary = plotting_data[\"strain_values_primary\"]\n",
    "stress_values_primary = plotting_data[\"stress_values_primary\"]\n",
    "hysteresis_index_primary = plotting_data[\"hysteresis_index_primary\"]\n",
    "strain_values_secondary = plotting_data[\"strain_values_secondary\"]\n",
    "stress_values_secondary = plotting_data[\"stress_values_secondary\"]\n",
    "hysteresis_index_secondary = plotting_data[\"hysteresis_index_secondary\"]\n",
    "\n",
    "\n",
    "fig, axes = plt.subplots(1, 2, figsize=(12,6))\n",
    "plt.subplots_adjust(wspace=0.4, \n",
    "                    hspace=0.4)\n",
    "\n",
    "# load-time diagram\n",
    "import matplotlib\n",
    "matplotlib.rcParams.update({'font.size': 14})\n",
    "axes[0].plot(load_sequence_list, \"o-\", lw=3)\n",
    "axes[0].grid()\n",
    "axes[0].set_xlabel(\"t [s]\")\n",
    "axes[0].set_ylabel(\"L [N]\")\n",
    "axes[0].set_title(\"Scaled load sequence\")\n",
    "\n",
    "# stress-strain diagram\n",
    "axes[1].plot(0,0,\"ok\")\n",
    "axes[1].plot(strain_values_primary, stress_values_primary, \"k-\", lw=2)\n",
    "axes[1].plot(strain_values_secondary, stress_values_secondary, \"k--\", lw=1)\n",
    "axes[1].grid()\n",
    "axes[1].set_xlabel(\"$\\epsilon$\")\n",
    "axes[1].set_ylabel(\"$\\sigma$ [MPa]\")\n",
    "axes[1].set_title(\"Material response\")\n",
    "\n",
    "\n",
    "# stress-strain diagram\n",
    "plt.rcParams.update({'font.size': 22})\n",
    "fig, ax = plt.subplots(1, 1, figsize=(4,4))\n",
    "ax.plot(0,0,\"ok\")\n",
    "ax.plot([e*1e2 for e in strain_values_primary], stress_values_primary, \"k-\", lw=3)\n",
    "ax.plot([e*1e2 for e in strain_values_secondary], stress_values_secondary, \"k--\", lw=1)\n",
    "ax.grid()\n",
    "ax.set_xlabel(\"$\\epsilon$ [%]\")\n",
    "ax.set_ylabel(\"$\\sigma$ [MPa]\")"
   ]
  },
  {
   "cell_type": "markdown",
   "id": "e13cc9bb",
   "metadata": {},
   "source": [
    "## 2.6.8, 2.5.9 Compute $P_{RAM}$ and damage sum\n",
    "2.6.8.1, 2.5.9 Mittelspannungsempfindlichkeit"
   ]
  },
  {
   "cell_type": "code",
   "execution_count": null,
   "id": "54766d21",
   "metadata": {},
   "outputs": [],
   "source": [
    "recorder.collective"
   ]
  },
  {
   "cell_type": "code",
   "execution_count": null,
   "id": "603bbcf2",
   "metadata": {},
   "outputs": [],
   "source": [
    "# define damage parameter\n",
    "damage_parameter = pylife.strength.damage_parameter.P_RAM(recorder.collective, assessment_parameters)\n",
    "#display(damage_parameter.collective)\n",
    "\n",
    "# compute the effect of the damage parameter with the woehler curve\n",
    "damage_calculator = pylife.strength.fkm_nonlinear.damage_calculator\\\n",
    "    .DamageCalculatorPRAM(damage_parameter.collective, component_woehler_curve_P_RAM)\n",
    "\n",
    "display(damage_calculator.collective)"
   ]
  },
  {
   "cell_type": "markdown",
   "id": "668cf728",
   "metadata": {},
   "source": [
    "## 2.6.9, 2.5.10 Safety assessment with $P_{RAM}$\n",
    "### 2.6.9.1, 2.5.10.1 Infinite life assessment (Dauerfestigkeitsnachweis)"
   ]
  },
  {
   "cell_type": "code",
   "execution_count": null,
   "id": "a2f6c1ab",
   "metadata": {},
   "outputs": [],
   "source": [
    "# Infinite life assessment\n",
    "is_life_infinite = damage_calculator.is_life_infinite\n",
    "print(f\"Infinite life:                     {is_life_infinite}\")"
   ]
  },
  {
   "cell_type": "markdown",
   "id": "cb2f7132",
   "metadata": {},
   "source": [
    "### 2.6.9.3, 2.5.10.3 Finite life assessment (Betriebsfestigkeitsnachweis)"
   ]
  },
  {
   "cell_type": "code",
   "execution_count": null,
   "id": "356b1c49",
   "metadata": {},
   "outputs": [],
   "source": [
    "# finite life assessment\n",
    "lifetime_n_cycles = damage_calculator.lifetime_n_cycles\n",
    "lifetime_n_times_load_sequence = damage_calculator.lifetime_n_times_load_sequence\n",
    "\n",
    "print(f\"Number of bearable cycles:         {lifetime_n_cycles:.0f}\")\n",
    "print(f\"Number of bearable load sequences: {lifetime_n_times_load_sequence:.0f}\")"
   ]
  },
  {
   "cell_type": "markdown",
   "id": "e6ac3526",
   "metadata": {},
   "source": [
    "## Assessment with $P_{RAJ}$"
   ]
  },
  {
   "cell_type": "markdown",
   "id": "2757ab13",
   "metadata": {},
   "source": [
    "### Repeat HCM algorithm with Seeger-Beste notch approximation"
   ]
  },
  {
   "cell_type": "code",
   "execution_count": null,
   "id": "561656f4",
   "metadata": {},
   "outputs": [],
   "source": [
    "# initialize notch approximation law\n",
    "E, K_prime, n_prime, K_p = assessment_parameters[[\"E\", \"K_prime\", \"n_prime\", \"K_p\"]]\n",
    "seeger_beste = pylife.materiallaws.notch_approximation_law_seegerbeste.SeegerBeste(E, K_prime, n_prime, K_p)\n",
    "\n",
    "load_sequence_list = scaled_load_sequence\n",
    "print(load_sequence_list)\n",
    "\n",
    "# wrap the notch approximation law by a binning class, which precomputes the values\n",
    "maximum_absolute_load = max(np.abs(load_sequence_list))\n",
    "print(f\"maximum_absolute_load: {maximum_absolute_load}\")\n",
    "seeger_beste_binned = pylife.materiallaws.notch_approximation_law.Binned(\n",
    "    seeger_beste, maximum_absolute_load, 100)\n",
    "\n",
    "# create recorder object\n",
    "recorder = pylife.stress.rainflow.recorders.FKMNonlinearRecorder()\n",
    "\n",
    "# create detector object\n",
    "detector = pylife.stress.rainflow.fkm_nonlinear.FKMNonlinearDetector(\n",
    "    recorder=recorder, notch_approximation_law=seeger_beste_binned)\n",
    "\n",
    "# perform HCM algorithm, first run\n",
    "detector.process(load_sequence_list, flush=False)\n",
    "\n",
    "# perform HCM algorithm, second run\n",
    "detector.process(load_sequence_list, flush=True)\n"
   ]
  },
  {
   "cell_type": "markdown",
   "id": "6d16bab7",
   "metadata": {},
   "source": [
    "## 2.9.8, 2.8.9 Compute $P_{RAJ}$ and damage sum"
   ]
  },
  {
   "cell_type": "markdown",
   "id": "e2fac41c",
   "metadata": {},
   "source": [
    "## 2.9.9, 2.8.10 Safety assessment with $P_{RAJ}$"
   ]
  },
  {
   "cell_type": "code",
   "execution_count": null,
   "id": "d3f02063",
   "metadata": {},
   "outputs": [],
   "source": [
    "# define damage parameter\n",
    "damage_parameter = pylife.strength.damage_parameter.P_RAJ(recorder.collective, assessment_parameters,\\\n",
    "                                                          component_woehler_curve_P_RAJ)\n",
    "#display(damage_parameter.collective)\n",
    "\n",
    "# compute the effect of the damage parameter with the woehler curve\n",
    "damage_calculator = pylife.strength.fkm_nonlinear.damage_calculator\\\n",
    "    .DamageCalculatorPRAJ(damage_parameter.collective, assessment_parameters, component_woehler_curve_P_RAJ)\n",
    "\n",
    "display(damage_calculator.collective)\n",
    "\n",
    "# show all columns\n",
    "pd.set_option('display.max_columns', None)\n",
    "display(damage_calculator.collective)"
   ]
  },
  {
   "cell_type": "code",
   "execution_count": null,
   "id": "2f2db1ca",
   "metadata": {},
   "outputs": [],
   "source": [
    "print(\"Tabelle 2.48, stimmt\")\n",
    "display(damage_calculator.collective[[\"run_index\",\"epsilon_open_alt\",\"epsilon_min_alt_SP\", \"epsilon_max_alt_SP\", \"epsilon_min_LF\", \"epsilon_max_LF\"]])"
   ]
  },
  {
   "cell_type": "code",
   "execution_count": null,
   "id": "a7316810",
   "metadata": {},
   "outputs": [],
   "source": [
    "print(\"Tabelle 2.49, stimmt\")\n",
    "display(damage_calculator.collective[[\"run_index\", \"is_closed_hysteresis\", \"S_open\", \"case_name\", \"epsilon_open_ein\", \"epsilon_open\", \"S_close\", \"P_RAJ\", \"P_RAJ_D\"]])"
   ]
  },
  {
   "cell_type": "markdown",
   "id": "aaa5d042",
   "metadata": {},
   "source": [
    "## Debug crack opening strain of hystereses"
   ]
  },
  {
   "cell_type": "code",
   "execution_count": null,
   "id": "9ec6da78",
   "metadata": {},
   "outputs": [],
   "source": [
    "# plot resulting stress-strain curve\n",
    "sampling_parameter = 50    # choose larger for smoother plot\n",
    "plotting_data = detector.interpolated_stress_strain_data(sampling_parameter)\n",
    "\n",
    "strain_values_primary = plotting_data[\"strain_values_primary\"]\n",
    "stress_values_primary = plotting_data[\"stress_values_primary\"]\n",
    "hysteresis_index_primary = plotting_data[\"hysteresis_index_primary\"]\n",
    "strain_values_secondary = plotting_data[\"strain_values_secondary\"]\n",
    "stress_values_secondary = plotting_data[\"stress_values_secondary\"]\n",
    "hysteresis_index_secondary = plotting_data[\"hysteresis_index_secondary\"]\n",
    "\n",
    "# all hystereses in stress-strain diagram\n",
    "fig, axes = plt.subplots(1, 2, figsize=(18,6))\n",
    "# load-time diagram\n",
    "import matplotlib\n",
    "matplotlib.rcParams.update({'font.size': 14})\n",
    "axes[0].plot(load_sequence_list, \"o-\", lw=3)\n",
    "axes[0].grid()\n",
    "axes[0].set_xlabel(\"t [s]\")\n",
    "axes[0].set_ylabel(\"L [N]\")\n",
    "axes[0].set_title(\"Scaled load sequence\")\n",
    "\n",
    "# stress-strain diagram\n",
    "axes[1].plot(strain_values_primary, stress_values_primary, \"k-\", lw=2)\n",
    "axes[1].plot(strain_values_secondary, stress_values_secondary, \"k--\", lw=1)\n",
    "axes[1].grid()\n",
    "axes[1].set_xlabel(\"$\\epsilon$\")\n",
    "axes[1].set_ylabel(\"$\\sigma$ [MPa]\")\n",
    "axes[1].set_title(\"Material response\")\n",
    "\n",
    "# all hystereses in stress-strain diagram\n",
    "strain_previous = []\n",
    "stress_previous = []\n",
    "\n",
    "n_hystereses = max(max(hysteresis_index_primary), max(hysteresis_index_secondary))\n",
    "for hysteresis_index in range(n_hystereses):\n",
    "\n",
    "    fig, ax = plt.subplots(figsize=(12,6))\n",
    "    strain_primary_subset = np.where(hysteresis_index_primary == hysteresis_index, strain_values_primary, np.nan)\n",
    "    stress_primary_subset = np.where(hysteresis_index_primary == hysteresis_index, stress_values_primary, np.nan)\n",
    "\n",
    "    strain_secondary_subset = np.where(hysteresis_index_secondary == hysteresis_index, strain_values_secondary, np.nan)\n",
    "    stress_secondary_subset = np.where(hysteresis_index_secondary == hysteresis_index, stress_values_secondary, np.nan)\n",
    "\n",
    "    run_index = damage_parameter.collective.iloc[hysteresis_index, damage_parameter.collective.columns.get_loc(\"run_index\")]\n",
    "    debug_output = damage_parameter.collective.iloc[hysteresis_index, damage_parameter.collective.columns.get_loc(\"debug_output\")]\n",
    "    ax.set_title(f\"Hysteresis {hysteresis_index}, Run {run_index}:\\n{debug_output}\")\n",
    "    ax.plot(strain_previous, stress_previous, \"gray\", lw=1)\n",
    "    ax.plot(strain_primary_subset, stress_primary_subset, \"b-\", lw=2)\n",
    "    ax.plot(strain_secondary_subset, stress_secondary_subset, \"b--\", lw=1)\n",
    "    ax.grid()\n",
    "    ax.set_xlabel(\"$\\epsilon$\")\n",
    "    ax.set_ylabel(\"$\\sigma$ [MPa]\")\n",
    "    \n",
    "    # add the new hysteresis to every next plot\n",
    "    strain_previous += list(strain_primary_subset)\n",
    "    stress_previous += list(stress_primary_subset)\n",
    "    strain_previous += list(strain_secondary_subset)\n",
    "    stress_previous += list(stress_secondary_subset)\n",
    "    "
   ]
  },
  {
   "cell_type": "code",
   "execution_count": null,
   "id": "a79d3212",
   "metadata": {},
   "outputs": [],
   "source": [
    "# plot all hystereses\n",
    "# get all graph data\n",
    "sampling_parameter = 50    # choose larger for smoother plot\n",
    "plotting_data = detector.interpolated_stress_strain_data(sampling_parameter, only_hystereses=False)\n",
    "\n",
    "strain_values_primary = plotting_data[\"strain_values_primary\"]\n",
    "stress_values_primary = plotting_data[\"stress_values_primary\"]\n",
    "hysteresis_index_primary = plotting_data[\"hysteresis_index_primary\"]\n",
    "strain_values_secondary = plotting_data[\"strain_values_secondary\"]\n",
    "stress_values_secondary = plotting_data[\"stress_values_secondary\"]\n",
    "hysteresis_index_secondary = plotting_data[\"hysteresis_index_secondary\"]\n",
    "\n",
    "fig, ax = plt.subplots(figsize=(12,6))\n",
    "ax.plot(strain_values_primary, stress_values_primary, \"b-\", lw=2)\n",
    "ax.plot(strain_values_secondary, stress_values_secondary, \"b--\", lw=1)\n",
    "ax.grid()\n",
    "ax.set_xlabel(\"$\\epsilon$\")\n",
    "ax.set_ylabel(\"$\\sigma$ [MPa]\")\n",
    "ax.set_title(\"All hystereses\")\n",
    "\n",
    "\n",
    "collective = damage_parameter.collective\n",
    "\n",
    "# get graph data of only hystereses\n",
    "sampling_parameter = 50    # choose larger for smoother plot\n",
    "plotting_data = detector.interpolated_stress_strain_data(sampling_parameter, only_hystereses=True)\n",
    "\n",
    "strain_values_primary = plotting_data[\"strain_values_primary\"]\n",
    "stress_values_primary = plotting_data[\"stress_values_primary\"]\n",
    "hysteresis_index_primary = plotting_data[\"hysteresis_index_primary\"]\n",
    "strain_values_secondary = plotting_data[\"strain_values_secondary\"]\n",
    "stress_values_secondary = plotting_data[\"stress_values_secondary\"]\n",
    "hysteresis_index_secondary = plotting_data[\"hysteresis_index_secondary\"]\n",
    "\n",
    "# plot only hystereses\n",
    "strain_previous = []\n",
    "stress_previous = []\n",
    "n_hystereses = max(max(hysteresis_index_primary), max(hysteresis_index_secondary))\n",
    "for hysteresis_index in range(n_hystereses):\n",
    "\n",
    "    fig, ax = plt.subplots(figsize=(12,6))\n",
    "    \n",
    "    # plot hysteresis\n",
    "    strain_primary_subset = np.where(hysteresis_index_primary == hysteresis_index, strain_values_primary, np.nan)\n",
    "    stress_primary_subset = np.where(hysteresis_index_primary == hysteresis_index, stress_values_primary, np.nan)\n",
    "\n",
    "    strain_secondary_subset = np.where(hysteresis_index_secondary == hysteresis_index, strain_values_secondary, np.nan)\n",
    "    stress_secondary_subset = np.where(hysteresis_index_secondary == hysteresis_index, stress_values_secondary, np.nan)\n",
    "\n",
    "    if len([_ for _ in strain_primary_subset if not np.isnan(_)]) == 0 and \\\n",
    "        len([_ for _ in strain_secondary_subset if not np.isnan(_)]) == 0:\n",
    "        strain_primary_subset = np.array(strain_values_primary_all)\n",
    "        stress_primary_subset = np.array(stress_values_primary_all)\n",
    "        strain_secondary_subset = np.array(strain_values_secondary_all)\n",
    "        stress_secondary_subset = np.array(stress_values_secondary_all)\n",
    "    \n",
    "    run_index = collective.iloc[hysteresis_index, collective.columns.get_loc(\"run_index\")]\n",
    "    #case_debugging = collective.iloc[hysteresis_index, collective.columns.get_loc(\"case_debugging\")]\n",
    "    case_debugging = \"\"\n",
    "    ax.set_title(f\"Hysteresis {hysteresis_index}, Run {run_index}:\\n{case_debugging}\")\n",
    "    ax.plot(strain_previous, stress_previous, \"gray\", lw=1)\n",
    "    ax.plot(strain_primary_subset, stress_primary_subset, \"b-\", lw=4)\n",
    "    ax.plot(strain_secondary_subset, stress_secondary_subset, \"b--\", lw=2)\n",
    "    \n",
    "    # plot crack opening points\n",
    "    S_open = collective.iloc[hysteresis_index, collective.columns.get_loc(\"S_open\")]\n",
    "    S_close = collective.iloc[hysteresis_index, collective.columns.get_loc(\"S_close\")]\n",
    "    epsilon_open = collective.iloc[hysteresis_index, collective.columns.get_loc(\"epsilon_open\")]\n",
    "    epsilon_open_ein = collective.iloc[hysteresis_index, collective.columns.get_loc(\"epsilon_open_ein\")]\n",
    "    \n",
    "    ax.plot(epsilon_open_ein, S_open, \"+\", markersize=20, markeredgewidth=4, color=\"b\", label=\"ε_open,ein\")\n",
    "    ax.plot(epsilon_open_ein, S_close, \"+\", markersize=20, markeredgewidth=4, color=\"b\")\n",
    "    \n",
    "    ax.plot(epsilon_open, S_open, \"+\", markersize=20, markeredgewidth=2, color=\"m\", label=\"ε_open\")\n",
    "    ax.plot(epsilon_open, S_close, \"+\", markersize=20, markeredgewidth=2, color=\"m\")\n",
    "    ax.plot([epsilon_open, epsilon_open], \n",
    "            [-400,400], \"-\", color=\"m\")\n",
    "    \n",
    "    # plot epsilons\n",
    "    S_min = collective.iloc[hysteresis_index, collective.columns.get_loc(\"S_min\")]\n",
    "    S_max = collective.iloc[hysteresis_index, collective.columns.get_loc(\"S_max\")]\n",
    "    \n",
    "    epsilon_min_alt_SP = collective.iloc[hysteresis_index, collective.columns.get_loc(\"epsilon_min_alt_SP\")]\n",
    "    epsilon_max_alt_SP = collective.iloc[hysteresis_index, collective.columns.get_loc(\"epsilon_max_alt_SP\")]\n",
    "    epsilon_min_LF = collective.iloc[hysteresis_index, collective.columns.get_loc(\"epsilon_min_LF\")]\n",
    "    epsilon_max_LF = collective.iloc[hysteresis_index, collective.columns.get_loc(\"epsilon_max_LF\")]\n",
    "    \n",
    "    \n",
    "    # add the new hysteresis to every next plot\n",
    "    strain_previous += list(strain_primary_subset)\n",
    "    stress_previous += list(stress_primary_subset)\n",
    "    strain_previous += list(strain_secondary_subset)\n",
    "    stress_previous += list(stress_secondary_subset)\n",
    "    \n",
    "    ax.plot([epsilon_min_alt_SP,epsilon_min_alt_SP], [S_min*0.9,S_max*1.1], \":\", label=\"ε_min,alt,SP\")\n",
    "    ax.plot([epsilon_max_alt_SP,epsilon_max_alt_SP], [S_min*0.9,S_max*1.1], \"-\", label=\"ε_max,alt,SP\")\n",
    "    ax.plot([epsilon_min_LF,epsilon_min_LF], [S_min,S_max], \":\", label=\"ε_min,LF\")\n",
    "    ax.plot([epsilon_max_LF,epsilon_max_LF], [S_min,S_max], \"-\", label=\"ε_max,LF\")\n",
    "    \n",
    "    ax.grid()\n",
    "    ax.legend(bbox_to_anchor=(1.1,1), loc=\"upper left\")\n",
    "    ax.set_xlabel(\"$\\epsilon$\")\n",
    "    ax.set_ylabel(\"$\\sigma$ [MPa]\")\n",
    "    "
   ]
  },
  {
   "cell_type": "code",
   "execution_count": null,
   "id": "0ca38e1e",
   "metadata": {},
   "outputs": [],
   "source": [
    "hysteresis_index_primary"
   ]
  },
  {
   "cell_type": "markdown",
   "id": "e10a70e2",
   "metadata": {},
   "source": [
    "### 2.9.9.1, 2.8.10.1 Infinite life assessment (Dauerfestigkeitsnachweis)"
   ]
  },
  {
   "cell_type": "code",
   "execution_count": null,
   "id": "20bf7bab",
   "metadata": {},
   "outputs": [],
   "source": [
    "# Infinite life assessment\n",
    "is_life_infinite = damage_calculator.is_life_infinite\n",
    "print(f\"Infinite life:                     {is_life_infinite}\")"
   ]
  },
  {
   "cell_type": "markdown",
   "id": "9b8ebbf4",
   "metadata": {},
   "source": [
    "### 2.9.8.4, 2.8.10.2 Finite life assessment (Betriebsfestigkeitsnachweis)"
   ]
  },
  {
   "cell_type": "code",
   "execution_count": null,
   "id": "74b9b614",
   "metadata": {},
   "outputs": [],
   "source": [
    "# finite life assessment\n",
    "lifetime_n_cycles = damage_calculator.lifetime_n_cycles\n",
    "lifetime_n_times_load_sequence = damage_calculator.lifetime_n_times_load_sequence\n",
    "\n",
    "print(f\"Number of bearable cycles:         {lifetime_n_cycles:.0f}\")\n",
    "print(f\"Number of bearable load sequences: {lifetime_n_times_load_sequence:.0f}\")"
   ]
  }
 ],
 "metadata": {
  "kernelspec": {
   "display_name": "Python 3 (ipykernel)",
   "language": "python",
   "name": "python3"
  },
  "language_info": {
   "codemirror_mode": {
    "name": "ipython",
    "version": 3
   },
   "file_extension": ".py",
   "mimetype": "text/x-python",
   "name": "python",
   "nbconvert_exporter": "python",
   "pygments_lexer": "ipython3",
   "version": "3.9.0"
  }
 },
 "nbformat": 4,
 "nbformat_minor": 5
}
