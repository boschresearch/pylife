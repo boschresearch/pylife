{
 "cells": [
  {
   "cell_type": "markdown",
   "id": "0d2b68d8",
   "metadata": {},
   "source": [
    "# FKM Nonlinear example\n",
    "## Plot a load-lifetime woehler curve with several calls to the FKM nonlinear algorithm"
   ]
  },
  {
   "cell_type": "markdown",
   "id": "a840b749",
   "metadata": {},
   "source": [
    "#### Python module imports"
   ]
  },
  {
   "cell_type": "code",
   "execution_count": 1,
   "id": "988836b1",
   "metadata": {},
   "outputs": [],
   "source": [
    "# standard modules\n",
    "import pandas as pd\n",
    "import numpy as np\n",
    "import itertools\n",
    "import timeit\n",
    "import matplotlib.pyplot as plt\n",
    "import matplotlib.patches\n",
    "\n",
    "# pylife\n",
    "import pylife\n",
    "import pylife.strength\n",
    "import pylife.strength.fkm_nonlinear\n",
    "import pylife.mesh.gradient"
   ]
  },
  {
   "cell_type": "markdown",
   "id": "55bfd28b",
   "metadata": {},
   "source": [
    "## Collect all input data"
   ]
  },
  {
   "cell_type": "code",
   "execution_count": 4,
   "id": "bd72c8ec",
   "metadata": {},
   "outputs": [],
   "source": [
    "# define function for one FKM assessment\n",
    "def get_lifetime(load):\n",
    "    load_sequence = pd.Series([load, 0])  # [N]\n",
    "    \n",
    "    assessment_parameters = pd.Series({\n",
    "            'MatGroupFKM': 'Steel',  # [Steel, SteelCast, Al_wrought] material group\n",
    "            'R_m':  400,  #907,           # [MPa] ultimate tensile strength (de: Zugfestigkeit)\n",
    "            #'K_RP': 1,             # [-] surface roughness factor, set to 1 for polished surfaces or determine from the diagrams below\n",
    "            'R_z': 250,  #0,             # [um] average roughness (de: mittlere Rauheit), only required if K_RP is not specified directly\n",
    "\n",
    "            'P_A': 0.5,            # [-] (one of [0.5, 2.3e-1, 1e-3, 7.2e-5, 1e-5], failure probability (de: auszulegende Ausfallwahrscheinlichkeit)\n",
    "            # beta: 0.5,           # damage index, specify this as an alternative to P_A\n",
    "\n",
    "            'P_L': 50,             # [%] (one of 2.5%, 50%) (de: Auftretenswahrscheinlilchkeit der Lastfolge)\n",
    "            'c':   1.4,              # [MPa/N] (de: Übertragungsfaktor Vergleichsspannung zu Referenzlast im Nachweispunkt, c = sigma_I / L_REF)\n",
    "            'A_sigma': 339.4,  # 25,         # [mm^2] (de: Hochbeanspruchte Oberfläche des Bauteils)\n",
    "            'A_ref': 500,          # [mm^2] (de: Hochbeanspruchte Oberfläche eines Referenzvolumens), usually set to 500\n",
    "            'G': 2/15, #0.44,             # [mm^-1] (de: bezogener Spannungsgradient)\n",
    "            's_L': 10, # 0,              # [MPa] standard deviation of Gaussian distribution\n",
    "            'K_p': 3.5, #2.76,           # [-] (de: Traglastformzahl) K_p = F_plastic / F_yield (3.1.1)\n",
    "    })\n",
    "\n",
    "\n",
    "    result = pylife.strength.fkm_nonlinear.assessment_nonlinear_standard.perform_fkm_nonlinear_assessment(assessment_parameters, load_sequence, \n",
    "                                                                            calculate_P_RAM=True, calculate_P_RAJ=True)\n",
    "\n",
    "    print(result[\"P_RAM_stddev_log_N\"], result[\"P_RAJ_stddev_log_N\"])\n",
    "    \n",
    "    # get lifetime for P_RAM\n",
    "    n_ram = result['P_RAM_lifetime_n_cycles']\n",
    "    if result['P_RAM_is_life_infinite']:\n",
    "        n_ram = 1e7\n",
    "        \n",
    "        \n",
    "    # get lifetime for P_RAJ\n",
    "    n_raj = result['P_RAJ_lifetime_n_cycles']\n",
    "    if result['P_RAJ_is_life_infinite']:\n",
    "        n_raj = 1e7\n",
    "        \n",
    "    # get damage parameter values\n",
    "    p_ram = result['P_RAM_collective'][\"P_RAM\"].values[0]\n",
    "    p_raj = result['P_RAJ_collective'][\"P_RAJ\"].values[0]\n",
    "    \n",
    "    # get scatter\n",
    "    one_over_tn_ram = result['P_RAM_1/T_N']\n",
    "    one_over_tn_raj = result['P_RAJ_1/T_N']\n",
    "    \n",
    "    return n_ram, n_raj, p_ram, p_raj, one_over_tn_ram, one_over_tn_raj\n",
    "    "
   ]
  },
  {
   "cell_type": "markdown",
   "id": "a6b3f617",
   "metadata": {},
   "source": [
    "#### Compute woehler curve"
   ]
  },
  {
   "cell_type": "code",
   "execution_count": 5,
   "id": "c4e2e4de",
   "metadata": {
    "scrolled": true
   },
   "outputs": [
    {
     "name": "stdout",
     "output_type": "stream",
     "text": [
      "load values: [ 100.          154.44521049  238.53323045  368.40314986  568.98102028\n",
      "  878.76393444 1357.2088083  2096.14400083 3237.39401435 5000.        ]\n",
      "P_RAM_max: \n",
      "72.57679722607583\n",
      "fatigue_strength_limit: \n",
      "187.4273972241359\n"
     ]
    },
    {
     "name": "stderr",
     "output_type": "stream",
     "text": [
      "D:\\pylife\\_venv\\lib\\site-packages\\scipy\\optimize\\zeros.py:459: RuntimeWarning: some failed to converge after 50 iterations\n",
      "  warnings.warn(msg, RuntimeWarning)\n"
     ]
    },
    {
     "name": "stdout",
     "output_type": "stream",
     "text": [
      "Seeger-Beste stress computation: 2.50 % of 200 variables diverged\n",
      "0.31218274111675126 0.12936507936507935\n",
      "P_RAM_max: \n",
      "111.32134069069943\n",
      "fatigue_strength_limit: \n",
      "187.4273972241359\n"
     ]
    },
    {
     "name": "stderr",
     "output_type": "stream",
     "text": [
      "D:\\pylife\\_venv\\lib\\site-packages\\scipy\\optimize\\zeros.py:459: RuntimeWarning: some failed to converge after 50 iterations\n",
      "  warnings.warn(msg, RuntimeWarning)\n"
     ]
    },
    {
     "name": "stdout",
     "output_type": "stream",
     "text": [
      "Seeger-Beste stress computation: 1.50 % of 200 variables diverged\n",
      "0.31218274111675126 0.12936507936507935\n",
      "P_RAM_max: \n",
      "170.57570503026994\n",
      "fatigue_strength_limit: \n",
      "187.4273972241359\n"
     ]
    },
    {
     "name": "stderr",
     "output_type": "stream",
     "text": [
      "D:\\pylife\\_venv\\lib\\site-packages\\scipy\\optimize\\zeros.py:459: RuntimeWarning: some failed to converge after 50 iterations\n",
      "  warnings.warn(msg, RuntimeWarning)\n"
     ]
    },
    {
     "name": "stdout",
     "output_type": "stream",
     "text": [
      "Seeger-Beste stress computation: 0.50 % of 200 variables diverged\n",
      "0.31218274111675126 0.12936507936507935\n",
      "P_RAM_max: \n",
      "263.0608041475433\n",
      "fatigue_strength_limit: \n",
      "187.4273972241359\n",
      "0.31218274111675126 0.12936507936507935\n",
      "P_RAM_max: \n",
      "414.8208668691966\n",
      "fatigue_strength_limit: \n",
      "187.4273972241359\n",
      "0.31218274111675126 0.12936507936507935\n",
      "P_RAM_max: \n",
      "721.5972331761396\n",
      "fatigue_strength_limit: \n",
      "187.4273972241359\n",
      "0.20364238410596028 0.12936507936507935\n",
      "P_RAM_max: \n",
      "1707.949550456192\n",
      "fatigue_strength_limit: \n",
      "187.4273972241359\n",
      "0.20364238410596028 0.12936507936507935\n",
      "P_RAM_max: \n",
      "5767.228997682419\n",
      "fatigue_strength_limit: \n",
      "187.4273972241359\n",
      "0.0 0.12936507936507935\n",
      "P_RAM_max: \n",
      "22236.0548542132\n",
      "fatigue_strength_limit: \n",
      "187.4273972241359\n"
     ]
    },
    {
     "name": "stderr",
     "output_type": "stream",
     "text": [
      "d:\\pylife\\src\\pylife\\strength\\fkm_nonlinear\\damage_calculator.py:520: RuntimeWarning: invalid value encountered in power\n",
      "  nominator = np.power(self._assessment_parameters.a_0, 1-m) - np.power(bracket, 1-m)\n"
     ]
    },
    {
     "name": "stdout",
     "output_type": "stream",
     "text": [
      "0.0 0.12936507936507935\n",
      "P_RAM_max: \n",
      "87932.14701937561\n",
      "fatigue_strength_limit: \n",
      "187.4273972241359\n"
     ]
    },
    {
     "name": "stderr",
     "output_type": "stream",
     "text": [
      "d:\\pylife\\src\\pylife\\strength\\fkm_nonlinear\\damage_calculator.py:520: RuntimeWarning: invalid value encountered in power\n",
      "  nominator = np.power(self._assessment_parameters.a_0, 1-m) - np.power(bracket, 1-m)\n"
     ]
    },
    {
     "name": "stdout",
     "output_type": "stream",
     "text": [
      "0.0 0.12936507936507935\n"
     ]
    }
   ],
   "source": [
    "#%%script false --no-raise-error\n",
    "\n",
    "load_list = np.exp(np.linspace(np.log(100), np.log(5e3), 10))\n",
    "print(f\"load values: {load_list}\")\n",
    "\n",
    "df_result = pd.DataFrame(index=pd.Index(load_list, name=\"load\"))\n",
    "\n",
    "# loop over different load values\n",
    "for load in load_list:\n",
    "    \n",
    "    # perform the FKM nonlinear assessment\n",
    "    n_ram, n_raj, p_ram, p_raj, one_over_tn_ram, one_over_tn_raj = get_lifetime(load)\n",
    "\n",
    "    # store the results\n",
    "    df_result.loc[load, \"n_ram\"] = n_ram\n",
    "    df_result.loc[load, \"p_ram\"] = p_ram\n",
    "    df_result.loc[load, \"one_over_tn_ram\"] = one_over_tn_ram\n",
    "    df_result.loc[load, \"n_raj\"] = n_raj\n",
    "    df_result.loc[load, \"p_raj\"] = p_raj\n",
    "    df_result.loc[load, \"one_over_tn_raj\"] = one_over_tn_raj"
   ]
  },
  {
   "cell_type": "code",
   "execution_count": 6,
   "id": "be9c7fe6",
   "metadata": {},
   "outputs": [
    {
     "data": {
      "text/html": [
       "<div>\n",
       "<style scoped>\n",
       "    .dataframe tbody tr th:only-of-type {\n",
       "        vertical-align: middle;\n",
       "    }\n",
       "\n",
       "    .dataframe tbody tr th {\n",
       "        vertical-align: top;\n",
       "    }\n",
       "\n",
       "    .dataframe thead th {\n",
       "        text-align: right;\n",
       "    }\n",
       "</style>\n",
       "<table border=\"1\" class=\"dataframe\">\n",
       "  <thead>\n",
       "    <tr style=\"text-align: right;\">\n",
       "      <th></th>\n",
       "      <th>n_ram</th>\n",
       "      <th>p_ram</th>\n",
       "      <th>one_over_tn_ram</th>\n",
       "      <th>n_raj</th>\n",
       "      <th>p_raj</th>\n",
       "      <th>one_over_tn_raj</th>\n",
       "    </tr>\n",
       "    <tr>\n",
       "      <th>load</th>\n",
       "      <th></th>\n",
       "      <th></th>\n",
       "      <th></th>\n",
       "      <th></th>\n",
       "      <th></th>\n",
       "      <th></th>\n",
       "    </tr>\n",
       "  </thead>\n",
       "  <tbody>\n",
       "    <tr>\n",
       "      <th>100.000000</th>\n",
       "      <td>1.000000e+07</td>\n",
       "      <td>72.576797</td>\n",
       "      <td>6.311848</td>\n",
       "      <td>1.000000e+07</td>\n",
       "      <td>0.003894</td>\n",
       "      <td>2.145735</td>\n",
       "    </tr>\n",
       "    <tr>\n",
       "      <th>154.445210</th>\n",
       "      <td>1.000000e+07</td>\n",
       "      <td>111.321341</td>\n",
       "      <td>6.311848</td>\n",
       "      <td>1.000000e+07</td>\n",
       "      <td>0.032084</td>\n",
       "      <td>2.145735</td>\n",
       "    </tr>\n",
       "    <tr>\n",
       "      <th>238.533230</th>\n",
       "      <td>1.000000e+07</td>\n",
       "      <td>170.575705</td>\n",
       "      <td>6.311848</td>\n",
       "      <td>1.000000e+07</td>\n",
       "      <td>0.181053</td>\n",
       "      <td>2.145735</td>\n",
       "    </tr>\n",
       "    <tr>\n",
       "      <th>368.403150</th>\n",
       "      <td>7.870107e+04</td>\n",
       "      <td>263.060804</td>\n",
       "      <td>6.311848</td>\n",
       "      <td>8.855856e+04</td>\n",
       "      <td>0.905277</td>\n",
       "      <td>2.145735</td>\n",
       "    </tr>\n",
       "    <tr>\n",
       "      <th>568.981020</th>\n",
       "      <td>7.797355e+03</td>\n",
       "      <td>414.820867</td>\n",
       "      <td>6.311848</td>\n",
       "      <td>8.617553e+03</td>\n",
       "      <td>3.933652</td>\n",
       "      <td>2.145735</td>\n",
       "    </tr>\n",
       "    <tr>\n",
       "      <th>878.763934</th>\n",
       "      <td>6.114595e+02</td>\n",
       "      <td>721.597233</td>\n",
       "      <td>3.326262</td>\n",
       "      <td>8.787201e+02</td>\n",
       "      <td>16.632033</td>\n",
       "      <td>2.145735</td>\n",
       "    </tr>\n",
       "    <tr>\n",
       "      <th>1357.208808</th>\n",
       "      <td>3.620867e+01</td>\n",
       "      <td>1707.949550</td>\n",
       "      <td>3.326262</td>\n",
       "      <td>4.778948e+01</td>\n",
       "      <td>106.428861</td>\n",
       "      <td>2.145735</td>\n",
       "    </tr>\n",
       "    <tr>\n",
       "      <th>2096.144001</th>\n",
       "      <td>0.000000e+00</td>\n",
       "      <td>5767.228998</td>\n",
       "      <td>1.000000</td>\n",
       "      <td>6.532681e+00</td>\n",
       "      <td>393.816544</td>\n",
       "      <td>2.145735</td>\n",
       "    </tr>\n",
       "    <tr>\n",
       "      <th>3237.394014</th>\n",
       "      <td>0.000000e+00</td>\n",
       "      <td>22236.054854</td>\n",
       "      <td>1.000000</td>\n",
       "      <td>0.000000e+00</td>\n",
       "      <td>19180.737599</td>\n",
       "      <td>2.145735</td>\n",
       "    </tr>\n",
       "    <tr>\n",
       "      <th>5000.000000</th>\n",
       "      <td>0.000000e+00</td>\n",
       "      <td>87932.147019</td>\n",
       "      <td>1.000000</td>\n",
       "      <td>0.000000e+00</td>\n",
       "      <td>289631.822280</td>\n",
       "      <td>2.145735</td>\n",
       "    </tr>\n",
       "  </tbody>\n",
       "</table>\n",
       "</div>"
      ],
      "text/plain": [
       "                    n_ram         p_ram  one_over_tn_ram         n_raj  \\\n",
       "load                                                                     \n",
       "100.000000   1.000000e+07     72.576797         6.311848  1.000000e+07   \n",
       "154.445210   1.000000e+07    111.321341         6.311848  1.000000e+07   \n",
       "238.533230   1.000000e+07    170.575705         6.311848  1.000000e+07   \n",
       "368.403150   7.870107e+04    263.060804         6.311848  8.855856e+04   \n",
       "568.981020   7.797355e+03    414.820867         6.311848  8.617553e+03   \n",
       "878.763934   6.114595e+02    721.597233         3.326262  8.787201e+02   \n",
       "1357.208808  3.620867e+01   1707.949550         3.326262  4.778948e+01   \n",
       "2096.144001  0.000000e+00   5767.228998         1.000000  6.532681e+00   \n",
       "3237.394014  0.000000e+00  22236.054854         1.000000  0.000000e+00   \n",
       "5000.000000  0.000000e+00  87932.147019         1.000000  0.000000e+00   \n",
       "\n",
       "                     p_raj  one_over_tn_raj  \n",
       "load                                         \n",
       "100.000000        0.003894         2.145735  \n",
       "154.445210        0.032084         2.145735  \n",
       "238.533230        0.181053         2.145735  \n",
       "368.403150        0.905277         2.145735  \n",
       "568.981020        3.933652         2.145735  \n",
       "878.763934       16.632033         2.145735  \n",
       "1357.208808     106.428861         2.145735  \n",
       "2096.144001     393.816544         2.145735  \n",
       "3237.394014   19180.737599         2.145735  \n",
       "5000.000000  289631.822280         2.145735  "
      ]
     },
     "execution_count": 6,
     "metadata": {},
     "output_type": "execute_result"
    }
   ],
   "source": [
    "df_result"
   ]
  },
  {
   "cell_type": "code",
   "execution_count": 7,
   "id": "c6ea0af4",
   "metadata": {},
   "outputs": [
    {
     "data": {
      "text/plain": [
       "Text(0, 0.5, 'Load L_o [N]')"
      ]
     },
     "execution_count": 7,
     "metadata": {},
     "output_type": "execute_result"
    },
    {
     "data": {
      "image/png": "[encoded data removed]",
      "text/plain": [
       "<Figure size 720x576 with 1 Axes>"
      ]
     },
     "metadata": {
      "needs_background": "light"
     },
     "output_type": "display_data"
    }
   ],
   "source": [
    "plt.figure(figsize=(10,8))\n",
    "plt.rcParams.update({'font.size': 22})\n",
    "\n",
    "# woehler curve for P_RAM\n",
    "p = plt.plot(df_result.n_ram, df_result.index, 'o-', label=\"RAM\")\n",
    "plt.plot(df_result.n_ram / np.sqrt(df_result.one_over_tn_ram), df_result.index, ':', color=p[0].get_color())\n",
    "plt.plot(df_result.n_ram * np.sqrt(df_result.one_over_tn_ram), df_result.index, ':', color=p[0].get_color())\n",
    "\n",
    "# woehler curve for P_RAJ\n",
    "p = plt.plot(df_result.n_raj, df_result.index, 'o-', label=\"RAJ\")\n",
    "plt.plot(df_result.n_raj / np.sqrt(df_result.one_over_tn_raj), df_result.index, ':', color=p[0].get_color())\n",
    "plt.plot(df_result.n_raj * np.sqrt(df_result.one_over_tn_raj), df_result.index, ':', color=p[0].get_color())\n",
    "\n",
    "plt.grid()\n",
    "plt.legend()\n",
    "plt.loglog()\n",
    "plt.xlabel(\"Lifetime N [-]\")\n",
    "plt.ylabel(\"Load L_o [N]\")"
   ]
  }
 ],
 "metadata": {
  "kernelspec": {
   "display_name": "Python 3 (ipykernel)",
   "language": "python",
   "name": "python3"
  },
  "language_info": {
   "codemirror_mode": {
    "name": "ipython",
    "version": 3
   },
   "file_extension": ".py",
   "mimetype": "text/x-python",
   "name": "python",
   "nbconvert_exporter": "python",
   "pygments_lexer": "ipython3",
   "version": "3.9.7"
  }
 },
 "nbformat": 4,
 "nbformat_minor": 5
}
