{
 "cells": [
  {
   "cell_type": "markdown",
   "id": "0d2b68d8",
   "metadata": {},
   "source": [
    "# FKM Nonlinear example\n",
    "## Plot a load-lifetime woehler curve with several calls to the FKM nonlinear algorithm"
   ]
  },
  {
   "cell_type": "markdown",
   "id": "a840b749",
   "metadata": {},
   "source": [
    "#### Python module imports"
   ]
  },
  {
   "cell_type": "code",
   "execution_count": null,
   "id": "988836b1",
   "metadata": {},
   "outputs": [],
   "source": [
    "# standard modules\n",
    "import pandas as pd\n",
    "import numpy as np\n",
    "import itertools\n",
    "import timeit\n",
    "import matplotlib.pyplot as plt\n",
    "import matplotlib.patches\n",
    "\n",
    "# pylife\n",
    "import pylife\n",
    "import pylife.strength\n",
    "import pylife.strength.fkm_nonlinear\n",
    "import pylife.mesh.gradient"
   ]
  },
  {
   "cell_type": "markdown",
   "id": "55bfd28b",
   "metadata": {},
   "source": [
    "## Collect all input data"
   ]
  },
  {
   "cell_type": "code",
   "execution_count": null,
   "id": "bd72c8ec",
   "metadata": {},
   "outputs": [],
   "source": [
    "# define function for one FKM assessment\n",
    "def get_lifetime(load):\n",
    "    load_sequence = pd.Series([load, 0])  # [N]\n",
    "    \n",
    "    assessment_parameters = pd.Series({\n",
    "            'MatGroupFKM': 'Steel',  # [Steel, SteelCast, Al_wrought] material group\n",
    "            'R_m':  400,  #907,           # [MPa] ultimate tensile strength (de: Zugfestigkeit)\n",
    "            #'K_RP': 1,             # [-] surface roughness factor, set to 1 for polished surfaces or determine from the diagrams below\n",
    "            'R_z': 250,  #0,             # [um] average roughness (de: mittlere Rauheit), only required if K_RP is not specified directly\n",
    "\n",
    "            'P_A': 0.5,            # [-] (one of [0.5, 2.3e-1, 1e-3, 7.2e-5, 1e-5], failure probability (de: auszulegende Ausfallwahrscheinlichkeit)\n",
    "            # beta: 0.5,           # damage index, specify this as an alternative to P_A\n",
    "\n",
    "            'P_L': 50,             # [%] (one of 2.5%, 50%) (de: Auftretenswahrscheinlilchkeit der Lastfolge)\n",
    "            'c':   1.4,              # [MPa/N] (de: Übertragungsfaktor Vergleichsspannung zu Referenzlast im Nachweispunkt, c = sigma_I / L_REF)\n",
    "            'A_sigma': 339.4,  # 25,         # [mm^2] (de: Hochbeanspruchte Oberfläche des Bauteils)\n",
    "            'A_ref': 500,          # [mm^2] (de: Hochbeanspruchte Oberfläche eines Referenzvolumens), usually set to 500\n",
    "            'G': 2/15, #0.44,             # [mm^-1] (de: bezogener Spannungsgradient)\n",
    "            's_L': 10, # 0,              # [MPa] standard deviation of Gaussian distribution\n",
    "            'K_p': 3.5, #2.76,           # [-] (de: Traglastformzahl) K_p = F_plastic / F_yield (3.1.1)\n",
    "    })\n",
    "\n",
    "\n",
    "    result = pylife.strength.fkm_nonlinear.assessment_nonlinear_standard.perform_fkm_nonlinear_assessment(assessment_parameters, load_sequence, \n",
    "                                                                            calculate_P_RAM=True, calculate_P_RAJ=True)\n",
    "\n",
    "    print(result[\"P_RAM_stddev_log_N\"], result[\"P_RAJ_stddev_log_N\"])\n",
    "    \n",
    "    # get lifetime for P_RAM\n",
    "    n_ram = result['P_RAM_lifetime_n_cycles']\n",
    "    if result['P_RAM_is_life_infinite']:\n",
    "        n_ram = 1e7\n",
    "        \n",
    "        \n",
    "    # get lifetime for P_RAJ\n",
    "    n_raj = result['P_RAJ_lifetime_n_cycles']\n",
    "    if result['P_RAJ_is_life_infinite']:\n",
    "        n_raj = 1e7\n",
    "        \n",
    "    # get damage parameter values\n",
    "    p_ram = result['P_RAM_collective'][\"P_RAM\"].values[0]\n",
    "    p_raj = result['P_RAJ_collective'][\"P_RAJ\"].values[0]\n",
    "    \n",
    "    # get scatter\n",
    "    one_over_tn_ram = result['P_RAM_1/T_N']\n",
    "    one_over_tn_raj = result['P_RAJ_1/T_N']\n",
    "    \n",
    "    return n_ram, n_raj, p_ram, p_raj, one_over_tn_ram, one_over_tn_raj\n",
    "    "
   ]
  },
  {
   "cell_type": "markdown",
   "id": "a6b3f617",
   "metadata": {},
   "source": [
    "#### Compute woehler curve"
   ]
  },
  {
   "cell_type": "code",
   "execution_count": null,
   "id": "c4e2e4de",
   "metadata": {},
   "outputs": [],
   "source": [
    "#%%script false --no-raise-error\n",
    "\n",
    "load_list = np.exp(np.linspace(np.log(100), np.log(5e3), 10))\n",
    "print(f\"load values: {load_list}\")\n",
    "\n",
    "df_result = pd.DataFrame(index=pd.Index(load_list, name=\"load\"))\n",
    "\n",
    "# loop over different load values\n",
    "for load in load_list:\n",
    "    \n",
    "    # perform the FKM nonlinear assessment\n",
    "    n_ram, n_raj, p_ram, p_raj, one_over_tn_ram, one_over_tn_raj = get_lifetime(load)\n",
    "\n",
    "    # store the results\n",
    "    df_result.loc[load, \"n_ram\"] = n_ram\n",
    "    df_result.loc[load, \"p_ram\"] = p_ram\n",
    "    df_result.loc[load, \"one_over_tn_ram\"] = one_over_tn_ram\n",
    "    df_result.loc[load, \"n_raj\"] = n_raj\n",
    "    df_result.loc[load, \"p_raj\"] = p_raj\n",
    "    df_result.loc[load, \"one_over_tn_raj\"] = one_over_tn_raj"
   ]
  },
  {
   "cell_type": "code",
   "execution_count": null,
   "id": "be9c7fe6",
   "metadata": {},
   "outputs": [],
   "source": [
    "df_result"
   ]
  },
  {
   "cell_type": "code",
   "execution_count": null,
   "id": "c6ea0af4",
   "metadata": {},
   "outputs": [],
   "source": [
    "plt.figure(figsize=(10,8))\n",
    "plt.rcParams.update({'font.size': 22})\n",
    "\n",
    "# woehler curve for P_RAM\n",
    "p = plt.plot(df_result.n_ram, df_result.index, 'o-', label=\"RAM\")\n",
    "plt.plot(df_result.n_ram / np.sqrt(df_result.one_over_tn_ram), df_result.index, ':', color=p[0].get_color())\n",
    "plt.plot(df_result.n_ram * np.sqrt(df_result.one_over_tn_ram), df_result.index, ':', color=p[0].get_color())\n",
    "\n",
    "# woehler curve for P_RAJ\n",
    "p = plt.plot(df_result.n_raj, df_result.index, 'o-', label=\"RAJ\")\n",
    "plt.plot(df_result.n_raj / np.sqrt(df_result.one_over_tn_raj), df_result.index, ':', color=p[0].get_color())\n",
    "plt.plot(df_result.n_raj * np.sqrt(df_result.one_over_tn_raj), df_result.index, ':', color=p[0].get_color())\n",
    "\n",
    "plt.grid()\n",
    "plt.legend()\n",
    "plt.loglog()\n",
    "plt.xlabel(\"Lifetime N [-]\")\n",
    "plt.ylabel(\"Load L_o [N]\")"
   ]
  }
 ],
 "metadata": {
  "kernelspec": {
   "display_name": "Python 3 (ipykernel)",
   "language": "python",
   "name": "python3"
  },
  "language_info": {
   "codemirror_mode": {
    "name": "ipython",
    "version": 3
   },
   "file_extension": ".py",
   "mimetype": "text/x-python",
   "name": "python",
   "nbconvert_exporter": "python",
   "pygments_lexer": "ipython3",
   "version": "3.9.7"
  }
 },
 "nbformat": 4,
 "nbformat_minor": 5
}
