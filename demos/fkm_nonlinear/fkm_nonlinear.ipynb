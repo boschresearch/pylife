{
 "cells": [
  {
   "cell_type": "markdown",
   "id": "0d2b68d8",
   "metadata": {},
   "source": [
    "# FKM Nonlinear demo\n",
    "This jupyter notebook is the main example how to apply the FKM nonlinear, i.e., the local strain concept using pylife. The fatigue assessment is performed for a single point. Note that assessment for a mesh is also possible with pylife, by providing the respective meshes.\n",
    "If you have voilà installed (``pip install voila``), you can also open the notebook by clicking on the voila button in the top bar. This will hide the code blocks and make the plots better visible.\n",
    "\n",
    "The algorithm follows the document `\"RICHTLINIE NICHTLINEAR / Rechnerischer Festigkeitsnachweis unter expliziter Erfassung nichtlinearen Werkstoffverformungsverhaltens / Für Bauteile aus Stahl, Stahlguss und Aluminiumknetlegierungen / 1.Auflage, 2019\"`. If you want to learn more about how the algorithm works, have a look at the notebook [fkm_nonlinear_full](fkm_nonlinear_full.ipynb)."
   ]
  },
  {
   "cell_type": "markdown",
   "id": "a840b749",
   "metadata": {},
   "source": [
    "#### Python module imports"
   ]
  },
  {
   "cell_type": "code",
   "execution_count": null,
   "id": "988836b1",
   "metadata": {},
   "outputs": [],
   "source": [
    "# standard modules\n",
    "import pandas as pd\n",
    "import numpy as np\n",
    "import itertools\n",
    "import timeit\n",
    "import matplotlib.pyplot as plt\n",
    "import matplotlib.patches\n",
    "plt.rcParams.update({'font.size': 18})\n",
    "\n",
    "# pylife\n",
    "import pylife\n",
    "import pylife.strength\n",
    "import pylife.strength.fkm_nonlinear\n",
    "import pylife.mesh.gradient"
   ]
  },
  {
   "cell_type": "markdown",
   "id": "55bfd28b",
   "metadata": {},
   "source": [
    "## Input data\n",
    "#### Specify material and assessment parameters"
   ]
  },
  {
   "cell_type": "markdown",
   "id": "418b0513",
   "metadata": {},
   "source": [
    "## Notes on the parameters\n",
    "### The highly loaded surface $A_\\sigma$\n",
    "The highly loaded surface parameter $A_\\sigma$ is needed when the expected fracture starts at the component's surface. It can be computed using the algorithm \"SPIEL\" as described in the FKM guideline nonlinear. (cf. chapter 3.1.2). For simple common geometries like notched plates and shafts, table 2.6 of the FKM guideline nonlinear presents formulas for $A_\\sigma$.\n",
    "\n",
    "### The relative stress gradient $G$\n",
    "The relative stress gradient $G$ is usually determined from finite element calculations, but can also be estimated by heuristic, cf. eq. (2.5-34) in the FKM guideline nonlinear.\n",
    "\n",
    "### The surface roughness factor $K_{R,P}$\n",
    "The factor of surface roughness can either be manually specified in the ``assessment_parameters`` variable. If it is omitted, the FKM formula is used to estimate it from ultimate tensile strength, $R_m$, and surface roughness, $R_z$.\n",
    "For polished components, the factor should be set to $K_{R,P}=1$. For other materials, it can be retrieved from the  diagrams in Fig. 2.8 in the FKM guideline nonlinear.\n",
    "\n",
    "### The safety factor of the component and the failure probability $P_A$\n",
    "For calculations that should be compared with cyclic experiments, set the failure probability to $P_A=50\\%$.\n",
    "For added safety in assessment concepts, the FKM guideline nonlinear suggests the following failure probabilities ``P_A``:\n",
    "* Redundant components: $P_A=2.3\\cdot 10^{-1}$, $P_A=10^{-3}$, and $P_A=7.2\\cdot 10^{-5}$ for moderate, severe, and very severe failure consequences, respectively.\n",
    "* Non-redundant components: $P_A=10^{-3}$, $P_A=7.2\\cdot 10^{-5}$, and $P_A=10^{-5}$ for moderate, severe, and very severe failure consequences, respectively.\n",
    "\n",
    "You can additionally specify the parameter ``beta`` (de: Zuverlässigkeitsindex) for the material, which then will be used to compute the material safety factor $\\gamma_M$. For $P_A=50\\%$ set ``gamma_M=1``."
   ]
  },
  {
   "cell_type": "code",
   "execution_count": null,
   "id": "bd72c8ec",
   "metadata": {},
   "outputs": [],
   "source": [
    "assessment_parameters = pd.Series({\n",
    "        'MatGroupFKM': 'Steel',  # [Steel, SteelCast, Al_wrought] material group\n",
    "        'R_m': 600,              # [MPa] ultimate tensile strength (de: Zugfestigkeit)\n",
    "        \n",
    "        #'K_RP': 1,              # [-] surface roughness factor, set to 1 for polished surfaces or determine from the diagrams below\n",
    "        'R_z': 250,              # [um] average roughness (de: mittlere Rauheit), only required if K_RP is not specified directly\n",
    "    \n",
    "        'c':   1.4,              # [MPa/N] (de: Übertragungsfaktor Vergleichsspannung zu Referenzlast im Nachweispunkt, c = sigma_I / L_REF)\n",
    "        'A_sigma': 339.4,        # [mm^2] (de: Hochbeanspruchte Oberfläche des Bauteils)\n",
    "        'A_ref': 500,            # [mm^2] (de: Hochbeanspruchte Oberfläche eines Referenzvolumens), usually set to 500\n",
    "        'G': 0.15,               # [mm^-1] (de: bezogener Spannungsgradient)\n",
    "        'K_p': 3.5,              # [-] (de: Traglastformzahl) K_p = F_plastic / F_yield (3.1.1)\n",
    "    \n",
    "        'P_A': 0.5,              # [-] failure probability (de: auszulegende Ausfallwahrscheinlichkeit), set to 0.5 to disable statistical assessment\n",
    "        # beta: 0.5,             # damage index, specify this as an alternative to P_A\n",
    "        'P_L': 50,               # [%] (one of 2.5%, 50%) (de: Auftretenswahrscheinlichkeit der Lastfolge), usually set to 50\n",
    "        #'s_L': 10,              # [MPa] standard deviation of Gaussian distribution for load\n",
    "        'n_bins': 200,           # optional (default: 200) number of bins or classes for P_RAJ computation. A larger value gives more accurate results but longer runtimes.\n",
    "})"
   ]
  },
  {
   "cell_type": "markdown",
   "id": "a6b3f617",
   "metadata": {},
   "source": [
    "#### Specify load sequence"
   ]
  },
  {
   "cell_type": "code",
   "execution_count": null,
   "id": "6fca11f2",
   "metadata": {},
   "outputs": [],
   "source": [
    "load_sequence = pd.Series([100, -200, 100, -250, 200, 0, 200, -200])  # [N]\n",
    "fig = plt.figure(figsize=(5,3))\n",
    "plt.plot(load_sequence, \"o-\")"
   ]
  },
  {
   "cell_type": "markdown",
   "id": "312c5770",
   "metadata": {},
   "source": [
    "### Run FKM nonlinear algorithm"
   ]
  },
  {
   "cell_type": "code",
   "execution_count": null,
   "id": "c4e2e4de",
   "metadata": {},
   "outputs": [],
   "source": [
    "#%%script false --no-raise-error\n",
    "result = pylife.strength.fkm_nonlinear.assessment_nonlinear_standard\\\n",
    "    .perform_fkm_nonlinear_assessment(assessment_parameters, load_sequence, calculate_P_RAM=True, calculate_P_RAJ=True)"
   ]
  },
  {
   "cell_type": "markdown",
   "id": "941a473e",
   "metadata": {},
   "source": [
    "#### Output resulting lifetimes"
   ]
  },
  {
   "cell_type": "code",
   "execution_count": null,
   "id": "5c75a8df",
   "metadata": {},
   "outputs": [],
   "source": [
    "print(\"P_RAM\")\n",
    "is_life_infinite = result[\"P_RAM_is_life_infinite\"]\n",
    "lifetime_n_cycles = result[\"P_RAM_lifetime_n_cycles\"]\n",
    "lifetime_n_times_load_sequence = result[\"P_RAM_lifetime_n_times_load_sequence\"]\n",
    "print(f\"   Infinite life:                     {is_life_infinite}\")\n",
    "print(f\"   Number of bearable cycles:         {lifetime_n_cycles:.0f}\")\n",
    "print(f\"   Number of bearable load sequences: {lifetime_n_times_load_sequence:.0f}\")\n",
    "\n",
    "print(\"\")\n",
    "print(\"P_RAJ canonical (Miner Elementary)\")\n",
    "is_life_infinite = result[\"P_RAJ_is_life_infinite\"] if \"P_RAJ_is_life_infinite\" in result else None\n",
    "lifetime_n_cycles = result[\"P_RAJ_lifetime_n_cycles\"] if \"P_RAJ_lifetime_n_cycles\" in result else -1\n",
    "lifetime_n_times_load_sequence = result[\"P_RAJ_lifetime_n_times_load_sequence\"] if \"P_RAJ_lifetime_n_times_load_sequence\" in result else -1\n",
    "\n",
    "miner_is_life_infinite = result['P_RAJ_miner_is_life_infinite']\n",
    "\n",
    "miner_lifetime_n_cycles = result['P_RAJ_miner_lifetime_n_cycles']\n",
    "miner_lifetime_n_times_load_sequence = result['P_RAJ_miner_lifetime_n_times_load_sequence']\n",
    "print(f\"   Infinite life:                     {is_life_infinite} ({miner_is_life_infinite})\")\n",
    "print(f\"   Number of bearable cycles:         {lifetime_n_cycles:.0f} ({miner_lifetime_n_cycles:.0f})\")\n",
    "print(f\"   Number of bearable load sequences: {lifetime_n_times_load_sequence:.0f} \"\n",
    "      f\"({miner_lifetime_n_times_load_sequence:.0f})\")\n"
   ]
  },
  {
   "cell_type": "markdown",
   "id": "412a553e",
   "metadata": {},
   "source": [
    "#### Output collective"
   ]
  },
  {
   "cell_type": "code",
   "execution_count": null,
   "id": "ed796aba",
   "metadata": {},
   "outputs": [],
   "source": [
    "# The following fields are available in the result:\n",
    "print(result.keys())\n",
    "result['P_RAM_recorder_collective']"
   ]
  },
  {
   "cell_type": "markdown",
   "id": "165ca7d3",
   "metadata": {},
   "source": [
    "#### Lifetime $N$ for given failure probability $P_A$\n",
    "The dashed lines show the lifetime if the scaling factor $\\gamma_M$ is not clipped at 1.1 (P_RAM), respective 1.2 (P_RAJ)."
   ]
  },
  {
   "cell_type": "code",
   "execution_count": null,
   "id": "0eecaed0",
   "metadata": {},
   "outputs": [],
   "source": [
    "P_RAM_N_max_bearable = result['P_RAM_N_max_bearable']\n",
    "P_RAJ_N_max_bearable = result['P_RAJ_N_max_bearable']\n",
    "P_A_list = np.logspace(-6, -1, 20)\n",
    "p = plt.plot(P_A_list, [P_RAJ_N_max_bearable(P_A,True) for P_A in P_A_list], label=\"P_RAJ\")\n",
    "p = plt.plot(P_A_list, [P_RAJ_N_max_bearable(P_A) for P_A in P_A_list], \"--\", color=p[0].get_color())\n",
    "p = plt.plot(P_A_list, [P_RAM_N_max_bearable(P_A,True) for P_A in P_A_list], label=\"P_RAM\")\n",
    "p = plt.plot(P_A_list, [P_RAM_N_max_bearable(P_A) for P_A in P_A_list], \"--\", color=p[0].get_color())\n",
    "plt.grid(which='both')\n",
    "plt.legend()\n",
    "plt.xscale(\"log\")\n",
    "plt.xlabel(\"Failure probability $P_A$ [-]\")\n",
    "plt.ylabel(\"Lifetime $N$ [-]\")"
   ]
  },
  {
   "cell_type": "markdown",
   "id": "7c518856",
   "metadata": {},
   "source": [
    "#### Plot failure probability\n",
    "The marked points have $P_A$ = 50%."
   ]
  },
  {
   "cell_type": "code",
   "execution_count": null,
   "id": "edb20dd5",
   "metadata": {},
   "outputs": [],
   "source": [
    "N_list = np.logspace(4, np.log10(result['P_RAJ_lifetime_N_90']), 20)\n",
    "\n",
    "# P_RAJ\n",
    "P_RAJ_failure_probability = result['P_RAJ_failure_probability']\n",
    "p = plt.plot(N_list, [P_RAJ_failure_probability(N) for N in N_list], label=\"P_RAJ\")\n",
    "plt.plot(result['P_RAJ_lifetime_N_50'], 0.5, \"o\", color=p[0].get_color())\n",
    "\n",
    "# P_RAM\n",
    "P_RAM_failure_probability = result['P_RAM_failure_probability']\n",
    "p = plt.plot(N_list, [P_RAM_failure_probability(N) for N in N_list], label=\"P_RAM\")\n",
    "plt.plot(result['P_RAM_lifetime_N_50'], 0.5, \"o\", color=p[0].get_color())\n",
    "plt.grid(which='both')\n",
    "plt.legend()\n",
    "plt.xscale(\"log\")\n",
    "plt.yscale(\"log\")\n",
    "plt.xlabel(\"Lifetime $N$ [-]\")\n",
    "plt.ylabel(\"Failure probability $P_A$ [-]\")"
   ]
  },
  {
   "cell_type": "markdown",
   "id": "94ac0271",
   "metadata": {},
   "source": [
    "#### Woehler curves"
   ]
  },
  {
   "cell_type": "code",
   "execution_count": null,
   "id": "93c479c3",
   "metadata": {},
   "outputs": [],
   "source": [
    "assessment_parameters = result[\"assessment_parameters\"]\n",
    "component_woehler_curve_P_RAM = result[\"P_RAM_woehler_curve\"]\n",
    "component_woehler_curve_P_RAJ = result[\"P_RAJ_woehler_curve\"]\n",
    "\n",
    "# plot component woehler curve P_RAM\n",
    "n_list = np.logspace(2, 7, num=101, endpoint=True, base=10.0)\n",
    "plt.rcParams.update({'font.size': 18})\n",
    "fig,axes = plt.subplots(1,2,figsize=(12,6))\n",
    "\n",
    "# P_RAM material woehler curve\n",
    "material_woehler_curve_parameters = assessment_parameters[[\"P_RAM_Z_WS\", \"P_RAM_D_WS\", \"d_1\", \"d_2\"]]\n",
    "material_woehler_curve_parameters[\"P_RAM_Z\"] = assessment_parameters[\"P_RAM_Z_WS\"]\n",
    "material_woehler_curve_parameters[\"P_RAM_D\"] = assessment_parameters[\"P_RAM_D_WS\"]\n",
    "\n",
    "material_woehler_curve_P_RAM = pylife.strength.woehler_fkm_nonlinear\\\n",
    "    .WoehlerCurvePRAM(material_woehler_curve_parameters)\n",
    "\n",
    "# P_RAJ material woehler curve\n",
    "material_woehler_curve_parameters = assessment_parameters[[\"P_RAJ_Z_WS\", \"P_RAJ_D_WS\", \"d_RAJ\"]]\n",
    "material_woehler_curve_parameters[\"P_RAJ_Z\"] = assessment_parameters[\"P_RAJ_Z_WS\"]\n",
    "material_woehler_curve_parameters[\"P_RAJ_D_0\"] = assessment_parameters[\"P_RAJ_D_WS\"]\n",
    "\n",
    "material_woehler_curve_P_RAJ = pylife.strength.woehler_fkm_nonlinear\\\n",
    "    .WoehlerCurvePRAJ(material_woehler_curve_parameters)\n",
    "\n",
    "# plot P_RAM material woehler curve\n",
    "line1 = axes[0].plot(n_list, material_woehler_curve_P_RAM.calc_P_RAM(n_list), \"--\", lw=1, label=\"Material\")\n",
    "axes[0].plot(1e3, material_woehler_curve_P_RAM.P_RAM_Z, \n",
    "         \"o\", color=line1[0].get_color())\n",
    "N_D = material_woehler_curve_P_RAM.fatigue_life_limit\n",
    "axes[0].plot(N_D, material_woehler_curve_P_RAM.fatigue_strength_limit, \n",
    "         \"o\", color=line1[0].get_color())\n",
    "\n",
    "# plot P_RAM component woehler curve\n",
    "line = axes[0].plot(n_list, component_woehler_curve_P_RAM.calc_P_RAM(n_list), \"-\", lw=3, \n",
    "                color=line1[0].get_color(), label=\"Component\")\n",
    "axes[0].plot(1e3, component_woehler_curve_P_RAM.P_RAM_Z, \n",
    "         \"o\", color=line[0].get_color())\n",
    "N_D = component_woehler_curve_P_RAM.fatigue_life_limit\n",
    "axes[0].plot(N_D, component_woehler_curve_P_RAM.fatigue_strength_limit, \n",
    "         \"o\", color=line[0].get_color())\n",
    "axes[0].annotate(f\"$N_D$ = {N_D:.1e}\", (N_D, component_woehler_curve_P_RAM.fatigue_strength_limit), \n",
    "             textcoords=\"offset points\", xytext=(0,20), color=line[0].get_color())\n",
    "\n",
    "axes[0].legend()\n",
    "axes[0].set_xscale('log')\n",
    "axes[0].set_yscale('log')\n",
    "axes[0].set_xlabel('$N$')\n",
    "axes[0].set_ylabel('$P_{RAM}$')\n",
    "axes[0].set_title(\"$P_{RAM}$ Woehler curves\")\n",
    "axes[0].grid(which='both')\n",
    "\n",
    "# plot P_RAJ material woehler curve\n",
    "line1 = axes[1].plot(n_list, material_woehler_curve_P_RAJ.calc_P_RAJ(n_list), \"--\", lw=1, label=\"Material\")\n",
    "N_D = material_woehler_curve_P_RAJ.fatigue_life_limit\n",
    "axes[1].plot(N_D, material_woehler_curve_P_RAJ.fatigue_strength_limit, \n",
    "         \"o\", color=line1[0].get_color())\n",
    "\n",
    "# plot P_RAJ component woehler curve\n",
    "line = axes[1].plot(n_list, component_woehler_curve_P_RAJ.calc_P_RAJ(n_list), \"-\", lw=3, \n",
    "                color=line1[0].get_color(), label=\"Component\")\n",
    "N_D = component_woehler_curve_P_RAJ.fatigue_life_limit\n",
    "axes[1].plot(N_D, component_woehler_curve_P_RAJ.fatigue_strength_limit, \n",
    "         \"o\", color=line[0].get_color())\n",
    "axes[1].annotate(f\"$N_D$ = {N_D:.1e}\", (N_D, component_woehler_curve_P_RAJ.fatigue_strength_limit), \n",
    "             textcoords=\"offset points\", xytext=(0,20), color=line[0].get_color())\n",
    "\n",
    "axes[1].legend()\n",
    "axes[1].set_xscale('log')\n",
    "axes[1].set_yscale('log')\n",
    "axes[1].set_xlabel('$N$')\n",
    "axes[1].set_ylabel('$P_{RAJ}$')\n",
    "axes[1].set_title(\"$P_{RAJ}$ Woehler curves\")\n",
    "axes[1].grid(which='both')\n",
    "plt.tight_layout()\n"
   ]
  },
  {
   "cell_type": "markdown",
   "id": "2e8a779f",
   "metadata": {},
   "source": [
    "#### Hystereses"
   ]
  },
  {
   "cell_type": "code",
   "execution_count": null,
   "id": "f3cfcf77",
   "metadata": {},
   "outputs": [],
   "source": [
    "fig, axes = plt.subplots(2, 2, figsize=(12,10))\n",
    "\n",
    "# set font size    \n",
    "import matplotlib\n",
    "matplotlib.rcParams.update({'font.size': 14})\n",
    "\n",
    "# prepare first plot\n",
    "axes[0,0].plot(load_sequence, \"o-\", lw=2)\n",
    "axes[0,0].grid()\n",
    "axes[0,0].set_xlabel(\"t [s]\")\n",
    "axes[0,0].set_ylabel(\"L [N]\")\n",
    "axes[0,0].set_title(\"Load sequence\")\n",
    "\n",
    "# plot hystereses for P_RAM\n",
    "# ---------------------------\n",
    "parameter_name = \"RAM\"\n",
    "detector = result[f\"P_{parameter_name}_detector\"]\n",
    "detector_1st = result[f\"P_{parameter_name}_detector_1st\"]\n",
    "\n",
    "# plot resulting stress-strain curve\n",
    "sampling_parameter = 50    # choose larger for smoother plot\n",
    "plotting_data = detector.interpolated_stress_strain_data(sampling_parameter)\n",
    "\n",
    "strain_values_primary = plotting_data[\"strain_values_primary\"]\n",
    "stress_values_primary = plotting_data[\"stress_values_primary\"]\n",
    "hysteresis_index_primary = plotting_data[\"hysteresis_index_primary\"]\n",
    "strain_values_secondary = plotting_data[\"strain_values_secondary\"]\n",
    "stress_values_secondary = plotting_data[\"stress_values_secondary\"]\n",
    "hysteresis_index_secondary = plotting_data[\"hysteresis_index_secondary\"]\n",
    "\n",
    "sampling_parameter = 50    # choose larger for smoother plot\n",
    "plotting_data_1st = detector_1st.interpolated_stress_strain_data(sampling_parameter)\n",
    "\n",
    "strain_values_primary_1st = plotting_data_1st[\"strain_values_primary\"]\n",
    "stress_values_primary_1st = plotting_data_1st[\"stress_values_primary\"]\n",
    "hysteresis_index_primary_1st = plotting_data_1st[\"hysteresis_index_primary\"]\n",
    "strain_values_secondary_1st = plotting_data_1st[\"strain_values_secondary\"]\n",
    "stress_values_secondary_1st = plotting_data_1st[\"stress_values_secondary\"]\n",
    "hysteresis_index_secondary_1st = plotting_data_1st[\"hysteresis_index_secondary\"]\n",
    "\n",
    "\n",
    "# stress-strain diagram\n",
    "axes[1,0].plot(strain_values_primary, stress_values_primary, \"y-\", lw=2, label=\"HCM second run\")\n",
    "axes[1,0].plot(strain_values_secondary, stress_values_secondary, \"y-.\", lw=2)\n",
    "axes[1,0].plot(strain_values_primary_1st, stress_values_primary_1st, \"g-\", lw=2, label=\"HCM first run\")\n",
    "axes[1,0].plot(strain_values_secondary_1st, stress_values_secondary_1st, \"g-.\", lw=2)\n",
    "axes[1,0].grid()\n",
    "axes[1,0].set_xlabel(\"$\\epsilon$\")\n",
    "axes[1,0].set_ylabel(\"$\\sigma$ [MPa]\")\n",
    "axes[1,0].set_title(f\"P_{parameter_name} material response\")\n",
    "\n",
    "\n",
    "# show only legend in field axes[0,1]\n",
    "handles, labels = axes[1,0].get_legend_handles_labels()\n",
    "axes[0,1].axis(\"off\")\n",
    "axes[0,1].legend(handles, labels, bbox_to_anchor=(0.0,0), loc='lower left')\n",
    "\n",
    "# plot hystereses for P_RAJ\n",
    "# ---------------------------\n",
    "parameter_name = \"RAJ\"\n",
    "detector = result[f\"P_{parameter_name}_detector\"]\n",
    "detector_1st = result[f\"P_{parameter_name}_detector_1st\"]\n",
    "\n",
    "# plot resulting stress-strain curve\n",
    "sampling_parameter = 50    # choose larger for smoother plot\n",
    "plotting_data = detector.interpolated_stress_strain_data(sampling_parameter)\n",
    "\n",
    "strain_values_primary = plotting_data[\"strain_values_primary\"]\n",
    "stress_values_primary = plotting_data[\"stress_values_primary\"]\n",
    "hysteresis_index_primary = plotting_data[\"hysteresis_index_primary\"]\n",
    "strain_values_secondary = plotting_data[\"strain_values_secondary\"]\n",
    "stress_values_secondary = plotting_data[\"stress_values_secondary\"]\n",
    "hysteresis_index_secondary = plotting_data[\"hysteresis_index_secondary\"]\n",
    "\n",
    "sampling_parameter = 50    # choose larger for smoother plot\n",
    "plotting_data_1st = detector_1st.interpolated_stress_strain_data(sampling_parameter)\n",
    "\n",
    "strain_values_primary_1st = plotting_data_1st[\"strain_values_primary\"]\n",
    "stress_values_primary_1st = plotting_data_1st[\"stress_values_primary\"]\n",
    "hysteresis_index_primary_1st = plotting_data_1st[\"hysteresis_index_primary\"]\n",
    "strain_values_secondary_1st = plotting_data_1st[\"strain_values_secondary\"]\n",
    "stress_values_secondary_1st = plotting_data_1st[\"stress_values_secondary\"]\n",
    "hysteresis_index_secondary_1st = plotting_data_1st[\"hysteresis_index_secondary\"]\n",
    "\n",
    "# stress-strain diagram\n",
    "axes[1,1].plot(strain_values_primary, stress_values_primary, \"y-\", lw=2, label=\"HCM second run\")\n",
    "axes[1,1].plot(strain_values_secondary, stress_values_secondary, \"y-.\", lw=2)\n",
    "axes[1,1].plot(strain_values_primary_1st, stress_values_primary_1st, \"g-\", lw=2, label=\"HCM first run\")\n",
    "axes[1,1].plot(strain_values_secondary_1st, stress_values_secondary_1st, \"g-.\", lw=2)\n",
    "axes[1,1].grid()\n",
    "axes[1,1].set_xlabel(\"$\\epsilon$\")\n",
    "axes[1,1].set_ylabel(\"$\\sigma$ [MPa]\")\n",
    "axes[1,1].set_title(f\"P_{parameter_name} material response\")\n",
    "\n",
    "plt.tight_layout()"
   ]
  },
  {
   "cell_type": "markdown",
   "id": "31668d98",
   "metadata": {},
   "source": [
    "#### Damaging effects of hystereses"
   ]
  },
  {
   "cell_type": "code",
   "execution_count": null,
   "id": "2e7ddd18",
   "metadata": {},
   "outputs": [],
   "source": [
    "# P_RAM\n",
    "damage_calculator = result[\"P_RAM_damage_calculator\"]\n",
    "\n",
    "P_RAM_D = component_woehler_curve_P_RAM.P_RAM_D\n",
    "plt.figure()\n",
    "plt.bar(damage_calculator.collective.index.get_level_values(\"hysteresis_index\"), \n",
    "        damage_calculator.collective.P_RAM, \n",
    "        color=np.where(damage_calculator.collective.P_RAM>P_RAM_D, \"b\", \"gray\"))\n",
    "plt.plot([-0.5,len(damage_calculator.collective)-0.5], [P_RAM_D,P_RAM_D], \n",
    "         label=\"fatigue strength limit\", color='k')\n",
    "plt.legend(bbox_to_anchor=(1.1,1), loc='upper left')\n",
    "plt.grid()\n",
    "plt.xlabel(\"Hysteresis no.\")\n",
    "plt.ylabel(\"Damage value P_RAM\")\n",
    "plt.title(\"P_RAM contribution per hysteresis\")\n",
    "\n",
    "# P_RAJ\n",
    "damage_calculator = result[\"P_RAJ_damage_calculator\"]\n",
    "P_RAJ_D_last = damage_calculator.collective.P_RAJ_D.values[-1]\n",
    "hysteresis_index = damage_calculator.collective.index.get_level_values(\"hysteresis_index\")\n",
    "plt.figure()\n",
    "plt.bar(hysteresis_index, \n",
    "        damage_calculator.collective.P_RAJ, \n",
    "        color=np.where(damage_calculator.collective.P_RAJ>damage_calculator.collective.P_RAJ_D, \"b\", \"gray\"))\n",
    "plt.plot(hysteresis_index, damage_calculator.collective.P_RAJ_D, \n",
    "         label=\"fatigue strength limit\", color='k', marker=\"o\")\n",
    "plt.legend(bbox_to_anchor=(1.1,1), loc='upper left')\n",
    "plt.grid()\n",
    "plt.xlabel(\"Hysteresis no.\")\n",
    "plt.ylabel(\"Damage value P_RAJ\")\n",
    "plt.title(\"P_RAJ contribution per hysteresis\")\n"
   ]
  },
  {
   "cell_type": "code",
   "execution_count": null,
   "id": "dd9fea38",
   "metadata": {},
   "outputs": [],
   "source": []
  }
 ],
 "metadata": {
  "kernelspec": {
   "display_name": "Python 3 (ipykernel)",
   "language": "python",
   "name": "python3"
  },
  "language_info": {
   "codemirror_mode": {
    "name": "ipython",
    "version": 3
   },
   "file_extension": ".py",
   "mimetype": "text/x-python",
   "name": "python",
   "nbconvert_exporter": "python",
   "pygments_lexer": "ipython3",
   "version": "3.9.0"
  }
 },
 "nbformat": 4,
 "nbformat_minor": 5
}
