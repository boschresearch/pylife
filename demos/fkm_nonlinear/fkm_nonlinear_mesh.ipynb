{
 "cells": [
  {
   "cell_type": "markdown",
   "id": "0d2b68d8",
   "metadata": {},
   "source": [
    "# FKM Nonlinear example\n",
    "The algorithm follows the document `\"RICHTLINIE NICHTLINEAR / Rechnerischer Festigkeitsnachweis unter expliziter Erfassung nichtlinearen Werkstoffverformungsverhaltens / Für Bauteile aus Stahl, Stahlguss und Aluminiumknetlegierungen / 1.Auflage, 2019\"`"
   ]
  },
  {
   "cell_type": "markdown",
   "id": "a840b749",
   "metadata": {},
   "source": [
    "#### Python module imports"
   ]
  },
  {
   "cell_type": "code",
   "execution_count": null,
   "id": "988836b1",
   "metadata": {},
   "outputs": [],
   "source": [
    "# standard modules\n",
    "import os\n",
    "import pandas as pd\n",
    "import numpy as np\n",
    "import itertools\n",
    "import timeit\n",
    "import matplotlib.pyplot as plt\n",
    "import matplotlib.patches\n",
    "plt.rcParams.update({'font.size': 18})\n",
    "\n",
    "# pylife\n",
    "import pylife\n",
    "import pylife.strength\n",
    "import pylife.strength.fkm_nonlinear\n",
    "import pylife.mesh.gradient"
   ]
  },
  {
   "cell_type": "markdown",
   "id": "55bfd28b",
   "metadata": {},
   "source": [
    "## Input data\n",
    "#### Specify material and assessment parameters"
   ]
  },
  {
   "cell_type": "code",
   "execution_count": null,
   "id": "bd72c8ec",
   "metadata": {},
   "outputs": [],
   "source": [
    "assessment_parameters = pd.Series({\n",
    "        'MatGroupFKM': 'Steel',  # [Steel, SteelCast, Al_wrought] material group\n",
    "        'R_m': 600,              # [MPa] ultimate tensile strength (de: Zugfestigkeit)\n",
    "        \n",
    "        #'K_RP': 1,              # [-] surface roughness factor, set to 1 for polished surfaces or determine from the diagrams below\n",
    "        'R_z': 250,              # [um] average roughness (de: mittlere Rauheit), only required if K_RP is not specified directly\n",
    "    \n",
    "        'c':   1.4,              # [MPa/N] (de: Übertragungsfaktor Vergleichsspannung zu Referenzlast im Nachweispunkt, c = sigma_I / L_REF)\n",
    "        'A_sigma': 339.4,        # [mm^2] (de: Hochbeanspruchte Oberfläche des Bauteils)\n",
    "        'A_ref': 500,            # [mm^2] (de: Hochbeanspruchte Oberfläche eines Referenzvolumens), usually set to 500\n",
    "        'G': 0.15,               # [mm^-1] (de: bezogener Spannungsgradient)\n",
    "        'K_p': 3.5,              # [-] (de: Traglastformzahl) K_p = F_plastic / F_yield (3.1.1)\n",
    "    \n",
    "        'P_A': 0.5,              # [-] failure probability (de: auszulegende Ausfallwahrscheinlichkeit), set to 0.5 to disable statistical assessment\n",
    "        # beta: 0.5,             # damage index, specify this as an alternative to P_A\n",
    "        'P_L': 50,               # [%] (one of 2.5%, 50%) (de: Auftretenswahrscheinlichkeit der Lastfolge), usually set to 50\n",
    "        #'s_L': 10,              # [MPa] standard deviation of Gaussian distribution for load\n",
    "        'n_bins': 200,           # optional (default: 200) number of bins or classes for P_RAJ computation. A larger value gives more accurate results but longer runtimes.\n",
    "})"
   ]
  },
  {
   "cell_type": "markdown",
   "id": "a6b3f617",
   "metadata": {},
   "source": [
    "#### Specify load sequence"
   ]
  },
  {
   "cell_type": "code",
   "execution_count": null,
   "id": "6fca11f2",
   "metadata": {},
   "outputs": [],
   "source": [
    "load_sequence = pd.Series([50, -100, 50, -120, 100, 0, 100, -100])*0.1  # [N]\n",
    "fig = plt.figure(figsize=(5,3))\n",
    "plt.plot(load_sequence, \"o-\")"
   ]
  },
  {
   "cell_type": "markdown",
   "id": "059c8feb",
   "metadata": {},
   "source": [
    "#### Prepare the mesh\n",
    "Here, we use a mesh in vmap format. Pylife can also handle Abaqus and Ansys files.\n",
    "We load an example mesh ``../plate_with_hole.vmap``"
   ]
  },
  {
   "cell_type": "code",
   "execution_count": null,
   "id": "765fe041",
   "metadata": {},
   "outputs": [],
   "source": [
    "# load mesh\n",
    "linear_FE_filename = os.path.join(\"..\",\"plate_with_hole.vmap\")\n",
    "\n",
    "# import the mesh using vmap\n",
    "try:\n",
    "    vmap_mesh = pylife.vmap.VMAPImport(linear_FE_filename)\n",
    "except FileNotFoundError:\n",
    "    vmap_mesh = pylife.vmap.VMAPImport(os.path.join(\"fkm_nonlinear\",linear_FE_filename))\n",
    "    \n",
    "mesh = (vmap_mesh.make_mesh('1', 'STATE-2')\n",
    "               .join_coordinates()\n",
    "               .join_variable('STRESS_CAUCHY')\n",
    "               .join_variable('DISPLACEMENT')\n",
    "               .to_frame())\n",
    "mesh['S_v'] = mesh.equistress.signed_mises_trace()\n",
    "\n",
    "# Use the pylife Broadcaster to bring load sequence at each node of the mesh\n",
    "# For details, see https://pylife.readthedocs.io/en/latest/general/signal.html#pylife.Broadcaster\n",
    "parameter, object = pylife.Broadcaster(mesh['S_v']).broadcast(load_sequence)\n",
    "mesh_load_sequence = parameter * object\n",
    "\n",
    "# rename columns and create sorted DataFrame\n",
    "mesh_load_sequence.index.rename([\"element_id\", \"node_id\", \"load_step\"], inplace=True)\n",
    "mesh_load_sequence.name = \"S_v\"\n",
    "mesh_load_sequence = pd.DataFrame(mesh_load_sequence)\n",
    "mesh_load_sequence = mesh_load_sequence.sort_values([\"element_id\", \"node_id\"])\n",
    "mesh_load_sequence.groupby(\"node_id\").mean()\n",
    "\n",
    "# reduce duplicate nodes\n",
    "node_load_sequence = mesh_load_sequence.groupby([\"node_id\", \"load_step\"]).first()\n",
    "n_nodes = node_load_sequence.groupby(\"load_step\").count().iloc[0].squeeze()\n",
    "print(f\"n_nodes: {n_nodes}\")\n",
    "\n",
    "# reorder indices\n",
    "reordered_load_sequence = node_load_sequence.reorder_levels(['load_step', 'node_id']).sort_index()\n",
    "display(reordered_load_sequence)"
   ]
  },
  {
   "cell_type": "code",
   "execution_count": null,
   "id": "f6eb21a9",
   "metadata": {},
   "outputs": [],
   "source": [
    "# compute gradient\n",
    "tstart = timeit.default_timer()\n",
    "#grad1 = mesh.gradient_3D.gradient_of('S_v')   # only for 3D meshes\n",
    "grad1 = mesh[['dx', 'dy', 'dz']]\n",
    "tend = timeit.default_timer()\n",
    "\n",
    "print(f\"Compute gradient duration: {tend-tstart:.1f} s\")  # duration: 9.5 s\n",
    "\n",
    "# compute the absolute stress gradient\n",
    "grad1[\"abs_grad\"] = np.linalg.norm(grad1, axis = 1)\n",
    "mesh_load_sequence = mesh_load_sequence.join(grad1, sort=False)\n",
    "\n",
    "# compute scaled stress gradient (bezogener Spannungsgradient)\n",
    "mesh_load_sequence[\"G\"] = mesh_load_sequence.abs_grad / mesh_load_sequence.S_v\n",
    "\n",
    "# remove element_id\n",
    "G = mesh_load_sequence['G'].droplevel([\"element_id\", \"load_step\"])\n",
    "\n",
    "# remove duplicate node entries\n",
    "G = G[~G.index.duplicated(keep=\"first\")].sort_index()\n",
    "\n",
    "assessment_parameters[\"G\"] = G"
   ]
  },
  {
   "cell_type": "markdown",
   "id": "a89a9455",
   "metadata": {},
   "source": [
    "## Assessment with P_RAM\n",
    "#### Run the FKM nonlinear algorithm"
   ]
  },
  {
   "cell_type": "code",
   "execution_count": null,
   "id": "1c39e11c",
   "metadata": {},
   "outputs": [],
   "source": [
    "print(\"load sequence:\")\n",
    "display(reordered_load_sequence)\n",
    "\n",
    "# all at once\n",
    "t0 = timeit.default_timer()\n",
    "\n",
    "result = pylife.strength.fkm_nonlinear.assessment_nonlinear_standard.perform_fkm_nonlinear_assessment(\n",
    "    assessment_parameters, reordered_load_sequence, \n",
    "    calculate_P_RAM=True, calculate_P_RAJ=False)\n",
    "\n",
    "t1 = timeit.default_timer()\n",
    "print(f\"P_RAM duration: {(t1-t0):.1f} s\")"
   ]
  },
  {
   "cell_type": "code",
   "execution_count": null,
   "id": "2a28432e",
   "metadata": {},
   "outputs": [],
   "source": [
    "print(\"\\nP_RAM_is_life_infinite: \\n\", result[\"P_RAM_is_life_infinite\"])\n",
    "print(\"\\nP_RAM_lifetime_n_cycles: \\n\", result[\"P_RAM_lifetime_n_cycles\"])\n",
    "print(\"\\nP_RAM_lifetime_n_times_load_sequence: \\n\", result[\"P_RAM_lifetime_n_times_load_sequence\"])"
   ]
  },
  {
   "cell_type": "markdown",
   "id": "8bda0e5c",
   "metadata": {},
   "source": [
    "#### Visualize results for whole mesh"
   ]
  },
  {
   "cell_type": "code",
   "execution_count": null,
   "id": "3fc6829e",
   "metadata": {},
   "outputs": [],
   "source": [
    "# create plots\n",
    "fig, axes = plt.subplots(2,1,figsize=(10,6))\n",
    "\n",
    "n_cycles = result[\"P_RAM_lifetime_n_cycles\"]\n",
    "\n",
    "# remove nans \n",
    "x = np.where(np.isinf(n_cycles) | (n_cycles==0) | (n_cycles>=1e7), np.nan, n_cycles)\n",
    "x = [v for v in x if not np.isnan(v)]\n",
    "\n",
    "# plot logarithmic\n",
    "hist, bins = np.histogram(x, bins=100)\n",
    "logbins = np.logspace(np.log10(bins[0]),np.log10(bins[-1]),len(bins))\n",
    "axes[0].hist(x,bins=logbins)\n",
    "axes[0].set_xscale('log')\n",
    "axes[0].grid()\n",
    "axes[0].set_ylabel(\"Number of\\n occurences\")\n",
    "axes[0].set_xlabel(\"Lifetime number of cycles N\")\n",
    "\n",
    "n_life_infinite = result[\"P_RAM_is_life_infinite\"].sum()\n",
    "n_total = len(result[\"P_RAM_is_life_infinite\"])\n",
    "axes[1].pie([n_total-n_life_infinite, n_life_infinite], labels=[\"finite life\",  \"inifinite life\"])\n",
    "plt.tight_layout()"
   ]
  },
  {
   "cell_type": "code",
   "execution_count": null,
   "id": "3ad2f5d3",
   "metadata": {},
   "outputs": [],
   "source": [
    "result[\"P_RAM_collective\"]"
   ]
  },
  {
   "cell_type": "markdown",
   "id": "79083ad6",
   "metadata": {},
   "source": [
    "#### Plot stress-strain curves"
   ]
  },
  {
   "cell_type": "code",
   "execution_count": null,
   "id": "c4bdb066",
   "metadata": {},
   "outputs": [],
   "source": [
    "# plot resulting stress-strain curve\n",
    "assessment_parameters_scalar = assessment_parameters\n",
    "assessment_parameters_scalar.G = np.max(assessment_parameters_scalar.G)\n",
    "scalar_load_sequence = pd.Series(reordered_load_sequence.groupby(\"load_step\").mean().values.flatten())\n",
    "result_scalar = pylife.strength.fkm_nonlinear.assessment_nonlinear_standard.perform_fkm_nonlinear_assessment(\n",
    "    assessment_parameters_scalar, scalar_load_sequence, \n",
    "    calculate_P_RAM=True, calculate_P_RAJ=False)\n",
    "\n",
    "\n",
    "detector = result_scalar['P_RAM_detector']\n",
    "\n",
    "sampling_parameter = 50    # choose larger for smoother plot\n",
    "strain_values_primary, stress_values_primary, hysteresis_index_primary, \\\n",
    "strain_values_secondary, stress_values_secondary, hysteresis_index_secondary \\\n",
    "    = detector.interpolated_stress_strain_data(sampling_parameter)\n",
    "\n",
    "# all hystereses in stress-strain diagram\n",
    "fig, axes = plt.subplots(1, 2, figsize=(18,6))\n",
    "# load-time diagram\n",
    "import matplotlib\n",
    "matplotlib.rcParams.update({'font.size': 14})\n",
    "axes[0].plot(load_sequence, \"o-\", lw=3)\n",
    "axes[0].grid()\n",
    "axes[0].set_xlabel(\"t [s]\")\n",
    "axes[0].set_ylabel(\"L [N]\")\n",
    "axes[0].set_title(\"Load sequence\")\n",
    "\n",
    "# stress-strain diagram\n",
    "axes[1].plot(strain_values_primary, stress_values_primary, \"g-\", lw=2)\n",
    "axes[1].plot(strain_values_secondary, stress_values_secondary, \"g-.\", lw=2)\n",
    "axes[1].grid()\n",
    "axes[1].set_xlabel(\"$\\epsilon$\")\n",
    "axes[1].set_ylabel(\"$\\sigma$ [MPa]\")\n",
    "axes[1].set_title(\"Material response for a fictive point with mean stress\")\n",
    "    "
   ]
  },
  {
   "cell_type": "code",
   "execution_count": null,
   "id": "5c3c54a1",
   "metadata": {},
   "outputs": [],
   "source": [
    "# draw Wöhler curve\n",
    "woehler_curve_vectorized = result[\"P_RAM_woehler_curve\"]\n",
    "woehler_curve = woehler_curve_vectorized.get_woehler_curve_minimum_lifetime()\n",
    "\n",
    "n_list = [5e-1, 1e3, woehler_curve.fatigue_life_limit, 1e7]\n",
    "\n",
    "plt.rcParams.update({'font.size': 18})\n",
    "fig,ax = plt.subplots(figsize=(10,8))\n",
    "plt.plot(n_list, woehler_curve.calc_P_RAM(n_list), \"o-\", lw=3)\n",
    "\n",
    "# axes scaling\n",
    "plt.grid()\n",
    "plt.xscale('log')\n",
    "plt.yscale('log')\n",
    "plt.xlabel('Lifetime N')\n",
    "plt.ylabel('Damage $P_{RAM}$')\n",
    "\n",
    "# add title\n",
    "title = \"Wöhler curve for $P_{RAM}$\"\n",
    "plt.title(title)\n",
    "\n",
    "# add x tick at fatigue life limit\n",
    "plt.xticks(list(plt.xticks()[0]) + [woehler_curve.fatigue_life_limit])\n",
    "\n",
    "# annotate P_RAM_D\n",
    "plt.annotate(\"$N_D$ = \" + f\"{woehler_curve.fatigue_life_limit:.0f}\", \n",
    "             xy=(woehler_curve.fatigue_life_limit, woehler_curve.fatigue_strength_limit*1.2))\n",
    "plt.annotate(\"$P_{RAM,D}$ = \"+f\"{woehler_curve.fatigue_strength_limit:.1f}\", \n",
    "             xy=(woehler_curve.fatigue_life_limit, woehler_curve.fatigue_strength_limit*0.5))\n",
    "\n",
    "\n",
    "# annotate P_RAM_D\n",
    "plt.annotate(\"$N_Z$ = 1e3\", \n",
    "             xy=(1e3, woehler_curve.calc_P_RAM(1e3)*1.2))\n",
    "plt.annotate(\"$P_{RAM,Z}$ = \"+f\"{woehler_curve.P_RAM_Z:.1f}\", \n",
    "             xy=(woehler_curve.P_RAM_Z, woehler_curve.calc_P_RAM(woehler_curve.P_RAM_Z)*0.5))\n",
    "plt.xlim(5e-1, 2e7)\n",
    "\n",
    "# add y tick at fatigue strength limit\n",
    "plt.yticks(list(plt.yticks()[0]) + [woehler_curve.fatigue_strength_limit])\n",
    "\n",
    "plt.show()"
   ]
  },
  {
   "cell_type": "markdown",
   "id": "1e09123c",
   "metadata": {},
   "source": [
    "## Assessment with P_RAJ\n",
    "#### Run the FKM nonlinear algorithm"
   ]
  },
  {
   "cell_type": "code",
   "execution_count": null,
   "id": "3c98be06",
   "metadata": {},
   "outputs": [],
   "source": [
    "print(\"load sequence:\")\n",
    "display(reordered_load_sequence)\n",
    "\n",
    "# perform assessment for all points in the mesh at once\n",
    "t0 = timeit.default_timer()\n",
    "\n",
    "result = pylife.strength.fkm_nonlinear.assessment_nonlinear_standard.perform_fkm_nonlinear_assessment(\n",
    "    assessment_parameters, reordered_load_sequence, \n",
    "    calculate_P_RAM=False, calculate_P_RAJ=True)\n",
    "\n",
    "t1 = timeit.default_timer()\n",
    "print(f\"P_RAJ duration: {(t1-t0):.1f} s\")"
   ]
  },
  {
   "cell_type": "code",
   "execution_count": null,
   "id": "a47e5826",
   "metadata": {},
   "outputs": [],
   "source": [
    "np.set_printoptions(edgeitems=5, linewidth=120)\n",
    "print(\"\\nP_RAJ_is_life_infinite: \\n\", result[\"P_RAJ_is_life_infinite\"])\n",
    "print(\"\\nP_RAJ_lifetime_n_cycles: \\n\", result[\"P_RAJ_lifetime_n_cycles\"])\n",
    "print(\"\\nP_RAJ_lifetime_n_times_load_sequence: \\n\", result[\"P_RAJ_lifetime_n_times_load_sequence\"])"
   ]
  },
  {
   "cell_type": "markdown",
   "id": "add22418",
   "metadata": {},
   "source": [
    "#### Visualize results for whole mesh"
   ]
  },
  {
   "cell_type": "code",
   "execution_count": null,
   "id": "488c04ca",
   "metadata": {},
   "outputs": [],
   "source": [
    "# create plots\n",
    "fig, axes = plt.subplots(2,1,figsize=(10,6))\n",
    "\n",
    "n_cycles = result[\"P_RAJ_lifetime_n_cycles\"]\n",
    "\n",
    "# remove nans \n",
    "x = np.where(np.isinf(n_cycles) | (n_cycles==0) | (n_cycles>=1e7), np.nan, n_cycles)\n",
    "x = [v for v in x if not np.isnan(v)]\n",
    "\n",
    "# plot logarithmic\n",
    "hist, bins = np.histogram(x, bins=100)\n",
    "logbins = np.logspace(np.log10(bins[0]),np.log10(bins[-1]),len(bins))\n",
    "axes[0].hist(x,bins=logbins)\n",
    "axes[0].set_xscale('log')\n",
    "axes[0].grid()\n",
    "axes[0].set_ylabel(\"Number of\\n occurences\")\n",
    "axes[0].set_xlabel(\"Lifetime number of cycles N\")\n",
    "\n",
    "n_life_infinite = result[\"P_RAJ_is_life_infinite\"].sum()\n",
    "n_total = len(result[\"P_RAJ_is_life_infinite\"])\n",
    "axes[1].pie([n_total-n_life_infinite, n_life_infinite], labels=[\"finite life\",  \"inifinite life\"])\n",
    "plt.tight_layout()"
   ]
  },
  {
   "cell_type": "markdown",
   "id": "107b821b",
   "metadata": {},
   "source": [
    "#### Plot woehler curve"
   ]
  },
  {
   "cell_type": "code",
   "execution_count": null,
   "id": "f2fb5a5a",
   "metadata": {},
   "outputs": [],
   "source": [
    "# draw Wöhler curve\n",
    "woehler_curve_vectorized = result[\"P_RAJ_woehler_curve\"]\n",
    "woehler_curve = woehler_curve_vectorized.get_woehler_curve_minimum_lifetime()\n",
    "\n",
    "n_list = [5e-1, woehler_curve.fatigue_life_limit, 1e7]\n",
    "\n",
    "print(f\"woehler_curve.fatigue_life_limit: {woehler_curve.fatigue_life_limit:.0f}\")\n",
    "print(f\"                           final: {woehler_curve.fatigue_life_limit_final.max():.0f}\" \\\n",
    "  f\" ({100*woehler_curve.fatigue_life_limit_final.max()/woehler_curve.fatigue_life_limit-100:+.2f} %)\")\n",
    "\n",
    "plt.rcParams.update({'font.size': 18})\n",
    "fig,ax = plt.subplots(figsize=(10,8))\n",
    "\n",
    "# initial Wöhler curve\n",
    "line, = plt.plot(n_list, woehler_curve.calc_P_RAJ(n_list), \"o-\", lw=3)\n",
    "\n",
    "# Wöhler curve at end of assessment\n",
    "n_list = [woehler_curve.fatigue_life_limit, woehler_curve.fatigue_life_limit_final.max(), 1e7]\n",
    "p_list = [woehler_curve.fatigue_strength_limit, woehler_curve.fatigue_strength_limit_final.max(), \n",
    "          woehler_curve.fatigue_strength_limit_final.max()]\n",
    "plt.plot(n_list, p_list, \":\", lw=3, c=line.get_color())\n",
    "\n",
    "\n",
    "# axes scaling\n",
    "plt.grid()\n",
    "plt.xscale('log')\n",
    "plt.yscale('log')\n",
    "plt.xlabel('Lifetime N')\n",
    "plt.ylabel('Damage $P_{RAJ}$')\n",
    "\n",
    "# add title\n",
    "title = \"Wöhler curve according to FKM nonlinear with $P_{RAJ}$\"\n",
    "plt.title(title)\n",
    "\n",
    "# add x tick at fatigue life limit\n",
    "plt.xticks(list(plt.xticks()[0]) + [woehler_curve.fatigue_life_limit])\n",
    "\n",
    "# annotate P_RAJ_D\n",
    "plt.annotate(\"$N_D$ = \" + f\"{woehler_curve.fatigue_life_limit:.0f}\", \n",
    "             xy=(woehler_curve.fatigue_life_limit, woehler_curve.fatigue_strength_limit*1.2))\n",
    "plt.annotate(\"$P_{RAJ,D,0}$ = \"+f\"{woehler_curve.fatigue_strength_limit:.2e}\", \n",
    "             xy=(woehler_curve.fatigue_life_limit, woehler_curve.fatigue_strength_limit*0.5))\n",
    "plt.xlim(5e-1, 2e7)\n",
    "\n",
    "# add y tick at fatigue strength limit\n",
    "plt.yticks(list(plt.yticks()[0]) + [woehler_curve.fatigue_strength_limit])\n",
    "\n",
    "plt.show()"
   ]
  }
 ],
 "metadata": {
  "kernelspec": {
   "display_name": "Python 3 (ipykernel)",
   "language": "python",
   "name": "python3"
  },
  "language_info": {
   "codemirror_mode": {
    "name": "ipython",
    "version": 3
   },
   "file_extension": ".py",
   "mimetype": "text/x-python",
   "name": "python",
   "nbconvert_exporter": "python",
   "pygments_lexer": "ipython3",
   "version": "3.9.0"
  }
 },
 "nbformat": 4,
 "nbformat_minor": 5
}
