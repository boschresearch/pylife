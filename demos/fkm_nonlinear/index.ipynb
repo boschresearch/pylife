{
 "cells": [
  {
   "cell_type": "markdown",
   "id": "a094f593",
   "metadata": {},
   "source": [
    "# FKM nonlinear demos\n",
    "\n",
    "This document lists all available notebooks, some of which are more for the development, some can be used right away for the assessment.\n",
    "\n",
    "## Notebooks for assessment\n",
    "\n",
    "* [fkm_nonlinear](fkm_nonlinear.ipynb) – The full FKM nonlinear assessment for a single point, with minimal overhead code\n",
    "\n",
    "* [scatter_woehler_curve](scatter_woehler_curve.ipynb) – Plot a load-lifetime woehler curve with several calls to the FKM nonlinear algorithm\n",
    "\n",
    "## Notebooks for understanding the algorithms\n",
    "\n",
    "* [fkm_nonlinear_full](fkm_nonlinear_full.ipynb) – The full FKM nonlinear assessment step by step with intermediate results\n"
   ]
  },
  {
   "cell_type": "code",
   "execution_count": null,
   "id": "aa939aa4",
   "metadata": {},
   "outputs": [],
   "source": []
  }
 ],
 "metadata": {
  "kernelspec": {
   "display_name": "Python 3.9.0 64-bit",
   "language": "python",
   "name": "python3"
  },
  "language_info": {
   "codemirror_mode": {
    "name": "ipython",
    "version": 3
   },
   "file_extension": ".py",
   "mimetype": "text/x-python",
   "name": "python",
   "nbconvert_exporter": "python",
   "pygments_lexer": "ipython3",
   "version": "3.9.0"
  },
  "vscode": {
   "interpreter": {
    "hash": "791b1cef4b2988ef2e6c991e5c1b67abac4914ef58f40e04494fa800ef4e03d9"
   }
  }
 },
 "nbformat": 4,
 "nbformat_minor": 5
}
