{
 "cells": [
  {
   "cell_type": "markdown",
   "metadata": {},
   "source": [
    "# pyLife – a general library for fatigue and reliability\n",
    "\n",
    "pyLife is an Open Source Python library for state of the art algorithms used in lifetime assessment of mechanical components subject to fatigue load.\n",
    "\n",
    "For further information on pyLife checkout the [documentation](https://pylife.readthedocs.io) and the [GitHub repository](https://github.com/boschresearch/pylife).\n",
    "\n",
    "**Disclamer:** The demos here are – well – demos, i. e. they are not meant to be used for real calculation. No guaranties whatsoever.\n",
    "\n",
    "## Demos\n",
    "\n",
    "This page features a couple of demos on pyLife\n",
    "\n",
    "### Wöhler analysis\n",
    "\n",
    "Usual SN-curve data can be analyzed to get the SN-curve parameters:\n",
    "\n",
    "[Wöhler analysis](woehler_analyzer.ipynb)\n",
    "\n",
    "\n",
    "### Hotspot detection\n",
    "\n",
    "In a connected FEM mesh, hotspots of a scalar value like damage sum, or von Mises stress can be detected and classified.\n",
    "\n",
    "[Hotspot detection](hotspot_plate.ipynb)\n",
    "\n",
    "\n",
    "### Gradients in a mesh\n",
    "\n",
    "In a connected mesh, gradients of scalar values can be calculated\n",
    "\n",
    "[Stress gradient](stress_gradient.ipynb)\n",
    "\n",
    "\n",
    "### Lifetime calculation\n",
    "\n",
    "The damage sum and failure probability can be calculated using a nominal and local stress reliability approach.\n",
    "\n",
    "[Lifetime calculation](lifetime_calc.ipynb)\n",
    "\n",
    "\n",
    "### PSD Optimizer\n",
    "\n",
    "Derive an equivalent PSD signal\n",
    "\n",
    "[PSD Optimizer](psd_optimizer.ipynb)"
   ]
  }
 ],
 "metadata": {
  "kernelspec": {
   "display_name": "Python 3",
   "language": "python",
   "name": "python3"
  },
  "language_info": {
   "codemirror_mode": {
    "name": "ipython",
    "version": 3
   },
   "file_extension": ".py",
   "mimetype": "text/x-python",
   "name": "python",
   "nbconvert_exporter": "python",
   "pygments_lexer": "ipython3"
  }
 },
 "nbformat": 4,
 "nbformat_minor": 4
}
