{
 "cells": [
  {
   "cell_type": "markdown",
   "metadata": {
    "ein.tags": "worksheet-0",
    "slideshow": {
     "slide_type": "-"
    }
   },
   "source": [
    "# Rainflow Counting\n",
    "\n",
    "This demo shows two rainflow counting modules\n",
    "* classical three point algorithm\n",
    "* algorithm by Seeger & Clormann as described in FKM non linear"
   ]
  },
  {
   "cell_type": "code",
   "execution_count": null,
   "metadata": {},
   "outputs": [],
   "source": [
    "\n",
    "import numpy as np\n",
    "import pandas as pd\n",
    "\n",
    "from pylife.stress.rainflow import *\n",
    "import pylife.strength.meanstress\n",
    "from pylife.stress.timesignal import TimeSignalGenerator\n",
    "\n",
    "import matplotlib.pyplot as plt\n",
    "%matplotlib"
   ]
  },
  {
   "cell_type": "markdown",
   "metadata": {
    "ein.tags": "worksheet-0",
    "slideshow": {
     "slide_type": "-"
    }
   },
   "source": [
    "## Signal creation\n",
    "\n",
    "Create the time signal using [TimeSignalGenerator][1], 50 sine waves with\n",
    "distributed aplitudes, frequencies, offsets.\n",
    "\n",
    "We are quering 200000 samples\n",
    "\n",
    "[1]: ../stress/timesignal.rst"
   ]
  },
  {
   "cell_type": "code",
   "execution_count": null,
   "metadata": {},
   "outputs": [],
   "source": [
    "tsgen = TimeSignalGenerator(10, {'number': 50,\n",
    "                                 'amplitude_median': 1.0, 'amplitude_std_dev': 0.5,\n",
    "                                 'frequency_median': 4, 'frequency_std_dev': 3,\n",
    "                                 'offset_median': 0, 'offset_std_dev': 0.4},\n",
    "                            None, None)\n",
    "y = tsgen.query(2000000)\n"
   ]
  },
  {
   "cell_type": "code",
   "execution_count": null,
   "metadata": {},
   "outputs": [],
   "source": [
    "plt.plot(y)"
   ]
  },
  {
   "cell_type": "markdown",
   "metadata": {
    "ein.tags": "worksheet-0",
    "slideshow": {
     "slide_type": "-"
    }
   },
   "source": [
    "## Classic Three Point Counting\n",
    "\n",
    "See [RainflowCounterThreePoint](../stress/rainflow.rst#rainflow.RainflowCounterThreePoint)\n",
    "for details on the algorithm."
   ]
  },
  {
   "cell_type": "code",
   "execution_count": null,
   "metadata": {},
   "outputs": [],
   "source": [
    "rfc = RainflowCounterThreePoint().process(y)\n",
    "rfm = rfc.get_rainflow_matrix_frame(128)\n",
    "froms = rfm.index.get_level_values('from').mid\n",
    "tos = rfm.index.get_level_values('to').mid\n",
    "\n",
    "plt.xlabel('From')\n",
    "plt.ylabel('To')\n",
    "plt.imshow(np.flipud(rfm.values.reshape(rfm.index.levshape).T), extent=[froms.min(), froms.max(), tos.min(), tos.max()])"
   ]
  },
  {
   "cell_type": "markdown",
   "metadata": {
    "ein.tags": "worksheet-0",
    "slideshow": {
     "slide_type": "-"
    }
   },
   "source": [
    "## Algorithm recommended by FKM non-linear\n",
    "\n",
    "See [RainflowCounterFKM](../stress/rainflow.rst#rainflow.RainflowCounterFKM)\n",
    "for the implementation."
   ]
  },
  {
   "cell_type": "code",
   "execution_count": null,
   "metadata": {},
   "outputs": [],
   "source": [
    "rfc = RainflowCounterFKM().process(y)\n",
    "rfm = rfc.get_rainflow_matrix_frame(128)\n",
    "froms = rfm.index.get_level_values('from').mid\n",
    "tos = rfm.index.get_level_values('to').mid\n",
    "\n",
    "plt.xlabel('From')\n",
    "plt.ylabel('To')\n",
    "plt.imshow(np.flipud(rfm.values.reshape(rfm.index.levshape).T), extent=[froms.min(), froms.max(), tos.min(), tos.max()])"
   ]
  }
 ],
 "metadata": {
  "kernelspec": {
   "argv": [
    "/home/jmu3si/Devel/pylife/_venv/bin/python",
    "-m",
    "ipykernel_launcher",
    "-f",
    "{connection_file}"
   ],
   "display_name": "Python 3",
   "env": null,
   "interrupt_mode": "signal",
   "language": "python",
   "metadata": null,
   "name": "python3"
  },
  "language_info": {
   "codemirror_mode": {
    "name": "ipython",
    "version": 3
   },
   "file_extension": ".py",
   "mimetype": "text/x-python",
   "name": "python",
   "nbconvert_exporter": "python",
   "pygments_lexer": "ipython3",
   "version": "3.7.4"
  },
  "name": "rainflow.ipynb"
 },
 "nbformat": 4,
 "nbformat_minor": 2
}
