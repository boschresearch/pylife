{
 "cells": [
  {
   "cell_type": "markdown",
   "metadata": {},
   "source": [
    "# Open Source Software Development for Reliability and Lifetime Calculation\n",
    "## TUMWVIB Chair of Vibroacoustics of Vehicles and Machines\n",
    "#### Supervisors:  \n",
    "* Sepahvand, Kheirollah; Dr.-Ing. habil.\n",
    "* Kreuter, Daniel Christopher; Dr.-Ing\n",
    "* Mueller, Johannes; Dr.-Ing\n",
    "\n",
    "#### Student: \n",
    "Mustapha Kassem"
   ]
  },
  {
   "cell_type": "markdown",
   "metadata": {},
   "source": [
    "## Bayes evaluation tool"
   ]
  },
  {
   "cell_type": "code",
   "execution_count": 1,
   "metadata": {},
   "outputs": [
    {
     "name": "stdout",
     "output_type": "stream",
     "text": [
      "Optimization terminated successfully.\n",
      "         Current function value: 152.855959\n",
      "         Iterations: 458\n",
      "         Function evaluations: 654\n"
     ]
    }
   ],
   "source": [
    "import pymc3 as pm\n",
    "import numpy.ma as ma\n",
    "import matplotlib\n",
    "import matplotlib.pyplot as plt\n",
    "import matplotlib.patches as patches\n",
    "import numpy as np\n",
    "import pandas as pd\n",
    "import theano\n",
    "theano.gof.compilelock.set_lock_status(False)\n",
    "from scipy import stats\n",
    "import theano\n",
    "import theano.tensor as tt\n",
    "import mystic as my\n",
    "from os import path\n",
    "import io\n",
    "import sys, os\n",
    "import json\n",
    "\n",
    "sys.path.insert(0, os.path.abspath('..'))\n",
    "\n",
    "from pylife.materialdata.woehler.fatigue_data import FatigueData\n",
    "from pylife.materialdata.woehler.woehler_curve_creator import WoehlerCurveCreator\n",
    "from pylife.materialdata.woehler.utils.bayes_analyzer import *\n",
    "from pylife.materialdata.woehler.loglike import *\n",
    "\n",
    "#data = pd.read_excel(\"C:/Users/\")\n",
    "data = pd.read_excel('../pylife/materialdata/data/Test_dat.xlsx')\n",
    "data.columns=['loads', 'cycles']\n",
    "\n",
    "# Limit of the load cycle\n",
    "ld_cyc_lim = data['cycles'].max()\n",
    "#ld_cyc_lim = 10e6\n",
    "\n",
    "\n",
    "# Class WoehlerCurve\n",
    "fatigue_data = FatigueData(data, ld_cyc_lim)\n",
    "woehler_curve_creator = WoehlerCurveCreator(fatigue_data)\n",
    "woehler_curve = woehler_curve_creator.maximum_like_procedure({})\n",
    "x = np.log10(fatigue_data.fractures.loads)\n",
    "y = np.log10(fatigue_data.fractures.cycles)\n",
    "bayes_analyzer = BayesAnalyzer()\n",
    "\n",
    "slope_full, intercept_full, r_value, p_value, std_err = stats.linregress(x, y)\n"
   ]
  },
  {
   "cell_type": "code",
   "execution_count": 2,
   "metadata": {},
   "outputs": [
    {
     "data": {
      "text/plain": [
       "(29, 452)"
      ]
     },
     "execution_count": 2,
     "metadata": {},
     "output_type": "execute_result"
    }
   ],
   "source": [
    "test_runs = 1\n",
    "n_N=[0,0,0,0,0,0,0,5,0,5,0,5,0,5]\n",
    "n_N_inf=[3,0,3,0,3,0,0]\n",
    "np.sum(n_N)+ np.sum(n_N_inf), fatigue_data.data.loads.shape[0]"
   ]
  },
  {
   "cell_type": "code",
   "execution_count": null,
   "metadata": {},
   "outputs": [
    {
     "name": "stdout",
     "output_type": "stream",
     "text": [
      "Optimization terminated successfully.\n",
      "         Current function value: 10.673752\n",
      "         Iterations: 662\n",
      "         Function evaluations: 853\n"
     ]
    },
    {
     "name": "stderr",
     "output_type": "stream",
     "text": [
      "Auto-assigning NUTS sampler...\n",
      "Initializing NUTS using jitter+adapt_diag...\n",
      "Multiprocess sampling (2 chains in 4 jobs)\n",
      "NUTS: [sd, x, Intercept]\n",
      "Sampling 2 chains, 0 divergences:  20%|█▉        | 2375/12000 [01:24<07:51, 20.40draws/s]"
     ]
    }
   ],
   "source": [
    "step = 0\n",
    "for n in range(test_runs):\n",
    "    step = step + 1 \n",
    "#### DATA\n",
    "    ndraws = 5000  # number of draws from the distribution\n",
    "    nburn = 1000   # number of \"burn-in points\" (which we'll discard)\n",
    "    \n",
    "    data_small_fin = bayes_analyzer.ld_lvl_sample(woehler_curve, data, n_N)\n",
    "    data_small_inf, data_inf_dict, n_frac = bayes_analyzer.ld_lvl_sample_inf(woehler_curve, n_N_inf)\n",
    "\n",
    "    data_total_x = np.concatenate((data_small_fin['x'], data_small_inf['x']))\n",
    "    data_total_y = np.concatenate((data_small_fin['y'], data_small_inf['y']))\n",
    "    data_total = {'x':10**data_total_x, 'y':10**data_total_y}\n",
    "\n",
    "    dataset = pd.DataFrame(data_total)\n",
    "    dataset.columns=['loads', 'cycles']\n",
    "    fatigue_data_sub = FatigueData(dataset, ld_cyc_lim)\n",
    "    woehler_curve_creator_sub = WoehlerCurveCreator(fatigue_data_sub)\n",
    "    woehler_curve_sub = woehler_curve_creator_sub.maximum_like_procedure({})\n",
    "    x_sub = np.log10(fatigue_data_sub.fractures.loads)\n",
    "    y_sub = np.log10(fatigue_data_sub.fractures.cycles)\n",
    "    data_small_frac = dict(x=x_sub, y=y_sub)\n",
    "\n",
    "    slope_sub, intercept_sub, r_value, p_value, std_err = stats.linregress(x_sub, y_sub)\n",
    "    \n",
    "#### k    \n",
    "    with pm.Model() as model_robust:\n",
    "        trace_robust = bayes_analyzer.bayesian_slope_norm(data_dict=data_small_frac, model_name=model_robust, \n",
    "                                           samples=ndraws, chains=2)\n",
    "\n",
    "    burned_trace_robust = trace_robust[1000:]\n",
    "    pm.traceplot(burned_trace_robust)\n",
    "\n",
    "#### TN\n",
    "    with pm.Model() as WL:\n",
    "        stdev = pm.HalfNormal('stdev', sd=1.3) #sd standard wert (log-normal/ beat Verteilung/exp lambda)\n",
    "        mu = pm.Normal('mu', mu=np.log10(fatigue_data_sub.N_shift).mean(), sd=np.log10(fatigue_data_sub.N_shift).std()) #mu könnte von FKM gegeben\n",
    "\n",
    "        y = pm.Normal('y', mu=mu, sd=stdev, observed=np.log10(fatigue_data_sub.N_shift)) #lognormal\n",
    "\n",
    "        trace_TN = pm.sample(ndraws, nuts_kwargs={'target_accept': 0.99}, chains=3, tune=1000)\n",
    "        \n",
    "    burned_trace_TN = trace_TN[1000:]\n",
    "    #pm.traceplot(burned_trace_TN)\n",
    "    \n",
    "#### SD, TS    \n",
    "    data_S = data_small_inf['x']\n",
    "    data_N = data_small_inf['y']\n",
    "\n",
    "    # create our Op\n",
    "    logl = LogLike(mali_sum_lolli, data_S, data_N, fatigue_data_sub.load_cycle_limit)\n",
    "\n",
    "    # use PyMC3 to sampler from log-likelihood\n",
    "    with pm.Model():\n",
    "        # set priors on model gradient and y-intercept\n",
    "        SD = pm.Normal('SD_50', mu=data_S.mean(), sd=data_S.std()*5)\n",
    "        #TS = pm.Exponential('TS_50', lam=1.1*2.5631031311)\n",
    "        TS = pm.Lognormal('TS_50', mu=np.log10(1.1), sd=np.log10(0.5))\n",
    "\n",
    "        # convert m and c to a tensor vector\n",
    "        var = tt.as_tensor_variable([SD, TS])\n",
    "\n",
    "        # use a DensityDist (use a lamdba function to \"call\" the Op)\n",
    "        '''pm.traceplot(trace)\n",
    "            plt.show()\n",
    "            doesnt work with density disk yet\n",
    "\n",
    "            https://discourse.pymc.io/t/pm-traceplot-error/3524\n",
    "        '''\n",
    "        pm.DensityDist('likelihood', lambda v: logl(v), observed={'v': var})\n",
    "\n",
    "        trace_SD_TS = pm.sample(ndraws, tune=nburn, chains=3, discard_tuned_samples=True)\n",
    "        \n",
    "#### DATA EXPORT\n",
    "    if step==1:\n",
    "        with open('bayes_dict_5.json', 'w') as fp:\n",
    "            json.dump({'Bayes_TS':[trace_quantiles(trace_SD_TS)[0]['TS_50'][50]/2.5631031311],\n",
    "                       'Mali_TS':[woehler_curve.curve_parameters['1/TS']],\n",
    "                       'Bayes_SD':[trace_quantiles(trace_SD_TS)[0]['SD_50'][50]],\n",
    "                       'Mali_SD':[np.log10(woehler_curve.curve_parameters['SD_50'])],\n",
    "                       'Bayes_TN':[trace_quantiles(burned_trace_TN)[0]['stdev'][50]],\n",
    "                       'Mali_TN':[woehler_curve.curve_parameters['1/TN']],\n",
    "                       'Bayes_k':-[trace_quantiles(burned_trace_robust)[0]['x'][50]],\n",
    "                       'Mali_k':[woehler_curve.curve_parameters['k_1']]},fp)\n",
    "    else:\n",
    "        with open('bayes_dict_5.json', 'r') as fp:\n",
    "            dict_import = json.load(fp)\n",
    "        with open('bayes_dict_5.json', 'w') as feedsjson:\n",
    "            dict_import['Bayes_TS'].append(trace_quantiles(trace_SD_TS)[0]['TS_50'][50]/2.5631031311)\n",
    "            dict_import['Bayes_SD'].append(trace_quantiles(trace_SD_TS)[0]['SD_50'][50])\n",
    "            dict_import['Bayes_TN'].append(trace_quantiles(burned_trace_TN)[0]['mu'][50])\n",
    "            dict_import['Bayes_k'].append(trace_quantiles(burned_trace_robust)[0]['x'][50])\n",
    "            dict_import['Mali_TS'].append(woehler_curve_sub.curve_parameters['1/TS'])\n",
    "            dict_import['Mali_SD'].append(np.log10(woehler_curve_sub.curve_parameters['SD_50']))\n",
    "            dict_import['Mali_TN'].append(woehler_curve_sub.curve_parameters['1/TN'])\n",
    "            dict_import['Mali_k'].append(woehler_curve_sub.curve_parameters['k_1'])\n",
    "\n",
    "            json.dump(dict_import, feedsjson)"
   ]
  },
  {
   "cell_type": "code",
   "execution_count": null,
   "metadata": {},
   "outputs": [],
   "source": [
    "with open('bayes_dict.json', 'r') as fp:\n",
    "    dict_import = json.load(fp)"
   ]
  },
  {
   "cell_type": "markdown",
   "metadata": {},
   "source": [
    "fig = plt.figure(figsize=(7, 7))\n",
    "sorted_data = dict_import['Bayes_TS'].sort()\n",
    "mu = np.mean(dict_import['Bayes_TS'])\n",
    "std = np.std(dict_import['Bayes_TS'])\n",
    "ax = fig.add_subplot(111, xlabel='x', ylabel='y', title='Generated data and underlying model of 1/TS')\n",
    "ax.plot(np.arange(len(dict_import['Bayes_TS'])),stats.norm.cdf(dict_import['Bayes_TS'], mu, std),  'g')\n",
    "#plt.legend(loc=0)"
   ]
  },
  {
   "cell_type": "code",
   "execution_count": null,
   "metadata": {},
   "outputs": [],
   "source": [
    "fig = plt.figure(figsize=(7, 7))\n",
    "ax = fig.add_subplot(111, xlabel='x', ylabel='y', title='Generated data and underlying model of 1/TS')\n",
    "ax.plot(np.arange(len(dict_import['Bayes_TS'])), \n",
    "        np.ones(len(dict_import['Mali_TS']))*np.mean(np.array([*dict_import['Bayes_TS']])*2.5631031311),  'g')\n",
    "ax.plot( np.arange(len(dict_import['Mali_TS'])),\n",
    "        np.ones(len(dict_import['Mali_TS']))*np.mean(dict_import['Mali_TS']), 'r')\n",
    "\n",
    "ax.plot(np.arange(len(dict_import['Bayes_TS'])),np.array([*dict_import['Bayes_TS']])*2.5631031311,  'gx', label='Bayes_TS')\n",
    "ax.plot( np.arange(len(dict_import['Mali_TS'])),dict_import['Mali_TS'], 'rx', label='Mali_TS')\n",
    "ax.plot(np.arange(len(dict_import['Mali_TS'])),\n",
    "        np.ones(len(dict_import['Mali_TS']))*woehler_curve.curve_parameters['1/TS'],'b', label='Full')\n",
    "plt.legend(loc=0)"
   ]
  },
  {
   "cell_type": "code",
   "execution_count": null,
   "metadata": {},
   "outputs": [],
   "source": [
    "fig = plt.figure(figsize=(7, 7))\n",
    "ax = fig.add_subplot(111, xlabel='x', ylabel='y', title='Generated data and underlying model of SD')\n",
    "ax.plot(np.arange(len(dict_import['Bayes_SD'])), \n",
    "        np.ones(len(dict_import['Mali_SD']))*np.mean(dict_import['Bayes_SD']),  'g')\n",
    "ax.plot( np.arange(len(dict_import['Mali_SD'])),\n",
    "        np.ones(len(dict_import['Mali_SD']))*np.mean(dict_import['Mali_SD']), 'r')\n",
    "\n",
    "ax.plot(np.arange(len(dict_import['Bayes_SD'])), dict_import['Bayes_SD'],  'gx', label='Bayes_SD')\n",
    "ax.plot(np.arange(len(dict_import['Mali_SD'])),dict_import['Mali_SD'], 'rx', label='Mali_SD')\n",
    "ax.plot(np.arange(len(dict_import['Mali_SD'])),\n",
    "        np.ones(len(dict_import['Mali_SD']))*np.log10(woehler_curve.curve_parameters['SD_50']),'b', label='Full')\n",
    "plt.legend(loc=0)"
   ]
  },
  {
   "cell_type": "code",
   "execution_count": null,
   "metadata": {},
   "outputs": [],
   "source": [
    "fig = plt.figure(figsize=(7, 7))\n",
    "ax = fig.add_subplot(111, xlabel='x', ylabel='y', title='Generated data and underlying model of 1/TN')\n",
    "ax.plot(np.arange(len(dict_import['Bayes_TN'])), dict_import['Bayes_TN'],  'gx', label='Bayes_TN')\n",
    "ax.plot( np.arange(len(dict_import['Mali_TN'])),dict_import['Mali_TN'], 'rx', label='Mali_TN')\n",
    "\n",
    "ax.plot(np.arange(len(dict_import['Bayes_TN'])), \n",
    "        np.ones(len(dict_import['Mali_TN']))*np.mean(dict_import['Bayes_TN']),  'g')\n",
    "ax.plot( np.arange(len(dict_import['Mali_TN'])),\n",
    "        np.ones(len(dict_import['Mali_TN']))*np.mean(dict_import['Mali_TN']), 'r')\n",
    "ax.plot(np.arange(len(dict_import['Mali_TN'])),\n",
    "        np.ones(len(dict_import['Mali_TN']))*woehler_curve.curve_parameters['1/TN'],'b', \n",
    "        label='Full %f'%woehler_curve.curve_parameters['1/TN'])\n",
    "#ax.set_yscale('log')\n",
    "plt.legend(loc=0);"
   ]
  },
  {
   "cell_type": "code",
   "execution_count": null,
   "metadata": {},
   "outputs": [],
   "source": [
    "fig = plt.figure(figsize=(7, 7))\n",
    "ax = fig.add_subplot(111, xlabel='x', ylabel='y', title='Generated data and underlying model of slope k')\n",
    "ax.plot(np.arange(len(dict_import['Bayes_k'])), \n",
    "        dict_import['Bayes_k']*np.ones(len(dict_import['Bayes_k']))*-1,  'gx', label='Bayes_k')\n",
    "ax.plot( np.arange(len(dict_import['Mali_k'])),dict_import['Mali_k'], 'rx', label='Mali_k')\n",
    "\n",
    "ax.plot(np.arange(len(dict_import['Bayes_k'])), \n",
    "        np.mean(dict_import['Bayes_k'])*np.ones(len(dict_import['Bayes_k']))*-1,  'g')\n",
    "ax.plot( np.arange(len(dict_import['Mali_k'])),\n",
    "        np.mean(dict_import['Mali_k'])*np.ones(len(dict_import['Bayes_k'])), 'r')\n",
    "ax.plot(np.arange(len(dict_import['Mali_k'])),\n",
    "        np.ones(len(dict_import['Mali_k']))*woehler_curve.curve_parameters['k_1'],'b', label='Full')\n",
    "plt.legend(loc=0);"
   ]
  },
  {
   "cell_type": "markdown",
   "metadata": {},
   "source": [
    "    with open('bayes_dict.json', 'w') as fp:\n",
    "        json.dump({'Bayes_TS':[trace_quantiles(trace_SD_TS)[0]['TS_50'][50]/2.5631031311],\n",
    "                   'Mali_TS':[woehler_curve_sub.curve_parameters['1/TS']],\n",
    "                   'Bayes_SD':[trace_quantiles(trace_SD_TS)[0]['SD_50'][50]],\n",
    "                   'Mali_SD':[np.log10(woehler_curve_sub.curve_parameters['SD_50'])],\n",
    "                   'Bayes_TN':[trace_quantiles(burned_trace_TN)[0]['stdev'][50]],\n",
    "                   'Mali_TN':[woehler_curve_sub.curve_parameters['1/TN']],\n",
    "                   'Bayes_k':-[trace_quantiles(burned_trace_robust)[0]['x'][50]],\n",
    "                   'Mali_k':[woehler_curve_sub.curve_parameters['k_1']]},fp)\n",
    "                   \n",
    "    with open('bayes_dict_5.json', 'r') as fp:\n",
    "        dict_import = json.load(fp)\n",
    "    with open('bayes_dict.json', 'w') as feedsjson:\n",
    "        dict_import['Bayes_TS'].append(trace_quantiles(trace_SD_TS)[0]['TS_50'][50]/2.5631031311)\n",
    "        dict_import['Bayes_SD'].append(trace_quantiles(trace_SD_TS)[0]['SD_50'][50])\n",
    "        dict_import['Bayes_TN'].append(trace_quantiles(burned_trace_TN)[0]['stdev'][50])\n",
    "        dict_import['Bayes_k'].append(trace_quantiles(burned_trace_robust)[0]['x'][50])\n",
    "        dict_import['Mali_TS'].append(woehler_curve_sub.curve_parameters['1/TS'])\n",
    "        dict_import['Mali_SD'].append(np.log10(woehler_curve_sub.curve_parameters['SD_50']))\n",
    "        dict_import['Mali_TN'].append(woehler_curve_sub.curve_parameters['1/TN'])\n",
    "        dict_import['Mali_k'].append(woehler_curve_sub.curve_parameters['k_1'])\n",
    "\n",
    "        json.dump(dict_import, feedsjson)"
   ]
  }
 ],
 "metadata": {
  "kernelspec": {
   "display_name": "Python 3",
   "language": "python",
   "name": "python3"
  },
  "language_info": {
   "codemirror_mode": {
    "name": "ipython",
    "version": 3
   },
   "file_extension": ".py",
   "mimetype": "text/x-python",
   "name": "python",
   "nbconvert_exporter": "python",
   "pygments_lexer": "ipython3",
   "version": "3.6.9"
  }
 },
 "nbformat": 4,
 "nbformat_minor": 2
}
