{
 "cells": [
  {
   "cell_type": "markdown",
   "metadata": {},
   "source": [
    "# Ramberg Osgood relation"
   ]
  },
  {
   "cell_type": "markdown",
   "metadata": {},
   "source": [
    "The `RambGood` module allows you to easily calculate stress strain curves and stress strain hytesresis loops using the Ramberg Osgood relation starting from the Hollomon parameters and Young's modulus of a material."
   ]
  },
  {
   "cell_type": "code",
   "execution_count": null,
   "metadata": {},
   "outputs": [],
   "source": [
    "import numpy as np\n",
    "import matplotlib.pyplot as plt\n",
    "import pylife.materiallaws as ML"
   ]
  },
  {
   "cell_type": "markdown",
   "metadata": {},
   "source": [
    "### Initialize the RambergOsgood class"
   ]
  },
  {
   "cell_type": "code",
   "execution_count": null,
   "metadata": {},
   "outputs": [],
   "source": [
    "ramberg_osgood = ML.RambergOsgood(E=210e3, K=1800, n=0.2)"
   ]
  },
  {
   "cell_type": "markdown",
   "metadata": {},
   "source": [
    "### Calculate the monotone branch"
   ]
  },
  {
   "cell_type": "code",
   "execution_count": null,
   "metadata": {},
   "outputs": [],
   "source": [
    "max_stress = 800\n",
    "monotone_stress = np.linspace(0, max_stress, 150)\n",
    "monotone_strain = ramberg_osgood.strain(monotone_stress)"
   ]
  },
  {
   "cell_type": "markdown",
   "metadata": {},
   "source": [
    "### Calculate the cyclic branch\n",
    "\n",
    "We calculate the lower branch of the hyteresis loop. By flipping it we get the upper branch."
   ]
  },
  {
   "cell_type": "code",
   "execution_count": null,
   "metadata": {},
   "outputs": [],
   "source": [
    "hyst_stress = np.linspace(-max_stress, max_stress, 150)\n",
    "hyst_strain = ramberg_osgood.lower_hysteresis(hyst_stress, max_stress)"
   ]
  },
  {
   "cell_type": "code",
   "execution_count": null,
   "metadata": {},
   "outputs": [],
   "source": [
    "plt.plot(monotone_strain, monotone_stress)\n",
    "\n",
    "plt.plot(hyst_strain, hyst_stress)\n",
    "plt.plot(-hyst_strain, np.flip(hyst_stress))\n",
    "plt.xlabel('strain')\n",
    "plt.ylabel('stress')"
   ]
  }
 ],
 "metadata": {
  "kernelspec": {
   "display_name": "Python 3",
   "language": "python",
   "name": "python3"
  },
  "language_info": {
   "codemirror_mode": {
    "name": "ipython",
    "version": 3
   },
   "file_extension": ".py",
   "mimetype": "text/x-python",
   "name": "python",
   "nbconvert_exporter": "python",
   "pygments_lexer": "ipython3"
  },
  "name": "ramberg_osgood.ipynb"
 },
 "nbformat": 4,
 "nbformat_minor": 4
}
