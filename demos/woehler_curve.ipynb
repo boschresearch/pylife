{
 "cells": [
  {
   "cell_type": "markdown",
   "id": "d73db40c",
   "metadata": {},
   "source": [
    "# The `WoehlerCurve` data structure\n",
    "\n",
    "The [`WoehlerCurve`](https://pylife.readthedocs.io/en/latest/materiallaws/woehlercurve.html) is the basis of pyLife's fatigue assessment functionality. It handles pandas objects containing data describing a Wöhler curve."
   ]
  },
  {
   "cell_type": "code",
   "execution_count": null,
   "id": "082237f6",
   "metadata": {},
   "outputs": [],
   "source": [
    "import pandas as pd\n",
    "import numpy as np\n",
    "from pylife.materiallaws import WoehlerCurve\n",
    "import matplotlib.pyplot as plt"
   ]
  },
  {
   "cell_type": "markdown",
   "id": "60db361e",
   "metadata": {},
   "source": [
    "## The very basic Wöhler curve data\n",
    "\n",
    "The basic Wöhler curve is a `pandas.Series` that contains at least three keys,\n",
    "* `SD`: the load level of the endurance limit\n",
    "* `ND`: the cycle number of the endurance limit\n",
    "* `k_1`: the slope of the Wöhler Curve"
   ]
  },
  {
   "cell_type": "code",
   "execution_count": null,
   "id": "1f455fe8",
   "metadata": {},
   "outputs": [],
   "source": [
    "woehler_curve_data = pd.Series({\n",
    "    'SD': 300.,\n",
    "    'ND': 1.5e6,\n",
    "    'k_1': 6.2,\n",
    "})\n",
    "woehler_curve_data"
   ]
  },
  {
   "cell_type": "code",
   "execution_count": null,
   "id": "a47f08cc",
   "metadata": {},
   "outputs": [],
   "source": [
    "wc = WoehlerCurve(woehler_curve_data)\n",
    "#wc = woehler_curve_data.woehler (alternative way of writing it)\n",
    "wc.SD, wc.ND, wc.k_1"
   ]
  },
  {
   "cell_type": "code",
   "execution_count": null,
   "id": "2df611be",
   "metadata": {},
   "outputs": [],
   "source": [
    "cycles = np.logspace(1., 8., 70)\n",
    "load = wc.basquin_load(cycles)\n",
    "plt.loglog()\n",
    "plt.plot(cycles, load)"
   ]
  },
  {
   "cell_type": "markdown",
   "id": "5b0263d7",
   "metadata": {},
   "source": [
    "## Optional parameters\n",
    "\n",
    "### The second slope `k_2`\n",
    "\n",
    "You can optinally add a second slope `k_2` to the Wöhler curve data which is valid beyond `ND`."
   ]
  },
  {
   "cell_type": "code",
   "execution_count": null,
   "id": "3f85d904",
   "metadata": {},
   "outputs": [],
   "source": [
    "woehler_curve_data = pd.Series({\n",
    "    'SD': 300.,\n",
    "    'ND': 1.5e6,\n",
    "    'k_1': 6.2,\n",
    "    'k_2': 13.3\n",
    "})\n",
    "plt.loglog()\n",
    "plt.plot(cycles, woehler_curve_data.woehler.basquin_load(cycles))\n"
   ]
  },
  {
   "cell_type": "markdown",
   "id": "34d11ef6",
   "metadata": {},
   "source": [
    "### The failure probability and the scatter values `TN` and `TS`.\n",
    "\n",
    "As everyone knows, material fatigue is a statistical phenomenon. That means that the cycles calculated for a certain load are the cycles at which the specimen fails with a certain probability.  By default the failure probability is 50%."
   ]
  },
  {
   "cell_type": "code",
   "execution_count": null,
   "id": "84f6b0d7",
   "metadata": {},
   "outputs": [],
   "source": [
    "woehler_curve_data.woehler.failure_probability"
   ]
  },
  {
   "cell_type": "markdown",
   "id": "a6fcc81b",
   "metadata": {},
   "source": [
    "You can provide values for the scattering of the Wöhler curve:"
   ]
  },
  {
   "cell_type": "code",
   "execution_count": null,
   "id": "6d62e2db",
   "metadata": {},
   "outputs": [],
   "source": [
    "woehler_curve_data = pd.Series({\n",
    "    'SD': 300.,\n",
    "    'ND': 1.5e6,\n",
    "    'k_1': 6.2,\n",
    "    'TS': 1.25,\n",
    "    'TN': 4.0\n",
    "})"
   ]
  },
  {
   "cell_type": "markdown",
   "id": "f11ef7e2",
   "metadata": {},
   "source": [
    "Now you can then transform this Wöhlercurve to another failure probability:"
   ]
  },
  {
   "cell_type": "code",
   "execution_count": null,
   "id": "a08842e8",
   "metadata": {},
   "outputs": [],
   "source": [
    "woehler_curve_data.woehler.transform_to_failure_probability(0.9).to_pandas()"
   ]
  },
  {
   "cell_type": "markdown",
   "id": "2af98518",
   "metadata": {},
   "source": [
    "As convenience you can provide the failure probability as a optional parameter to the `basquin_load()` and `basquin_cycles()` methods."
   ]
  },
  {
   "cell_type": "code",
   "execution_count": null,
   "id": "575933b1",
   "metadata": {},
   "outputs": [],
   "source": [
    "wc = WoehlerCurve(woehler_curve_data)\n",
    "plt.loglog()\n",
    "for fp in [0.1, 0.5, 0.9]:\n",
    "    plt.plot(cycles, wc.basquin_load(cycles, failure_probability=fp), label=\"%f\" % fp)\n",
    "    \n",
    "plt.legend()"
   ]
  }
 ],
 "metadata": {
  "kernelspec": {
   "display_name": "Python 3 (ipykernel)",
   "language": "python",
   "name": "python3"
  },
  "language_info": {
   "codemirror_mode": {
    "name": "ipython",
    "version": 3
   },
   "file_extension": ".py",
   "mimetype": "text/x-python",
   "name": "python",
   "nbconvert_exporter": "python",
   "pygments_lexer": "ipython3"
  }
 },
 "nbformat": 4,
 "nbformat_minor": 5
}
