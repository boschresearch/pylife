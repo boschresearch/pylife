{
    "path": "../../demos/stress_strength.ipynb",
    "extra-media": ["../../demos/data"]
}
